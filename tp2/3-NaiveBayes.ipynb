{
 "cells": [
  {
   "cell_type": "code",
   "execution_count": 1,
   "metadata": {},
   "outputs": [],
   "source": [
    "import pandas as pd\n",
    "import preprocessing as pp\n",
    "import utils as utils\n",
    "import numpy as np\n",
    "from sklearn.naive_bayes import CategoricalNB, GaussianNB\n",
    "pd.set_option('mode.chained_assignment', None)\n",
    "import warnings\n",
    "warnings.simplefilter(action='ignore', category=FutureWarning)\n",
    "from sklearn.pipeline import Pipeline\n",
    "from sklearn.ensemble import StackingClassifier"
   ]
  },
  {
   "cell_type": "code",
   "execution_count": 2,
   "metadata": {},
   "outputs": [],
   "source": [
    "import random\n",
    "seed = 100\n",
    "np.random.seed(seed)\n",
    "random.seed(seed)"
   ]
  },
  {
   "cell_type": "code",
   "execution_count": 3,
   "metadata": {},
   "outputs": [],
   "source": [
    "X, y = utils.importar_datos()"
   ]
  },
  {
   "cell_type": "markdown",
   "metadata": {},
   "source": [
    "### Modelo 1"
   ]
  },
  {
   "cell_type": "markdown",
   "metadata": {},
   "source": [
    "- Se utilizan únicamente las variables categóricas genero, tipo_sala y nombre_sede para realizar la clasificación\n",
    "- Se probó agregando las columnas `edad_isna` y `fila_isna` pero el modelo no mejoró sus resultados."
   ]
  },
  {
   "cell_type": "code",
   "execution_count": 4,
   "metadata": {},
   "outputs": [],
   "source": [
    "pipeline_1 = Pipeline([(\"preprocessor\", pp.PreprocessingCategoricalNB1()), \n",
    "                     (\"model\", CategoricalNB())\n",
    "                     ])"
   ]
  },
  {
   "cell_type": "markdown",
   "metadata": {},
   "source": [
    "#### Metricas"
   ]
  },
  {
   "cell_type": "code",
   "execution_count": 5,
   "metadata": {},
   "outputs": [
    {
     "data": {
      "text/html": [
       "<div>\n",
       "<style scoped>\n",
       "    .dataframe tbody tr th:only-of-type {\n",
       "        vertical-align: middle;\n",
       "    }\n",
       "\n",
       "    .dataframe tbody tr th {\n",
       "        vertical-align: top;\n",
       "    }\n",
       "\n",
       "    .dataframe thead th {\n",
       "        text-align: right;\n",
       "    }\n",
       "</style>\n",
       "<table border=\"1\" class=\"dataframe\">\n",
       "  <thead>\n",
       "    <tr style=\"text-align: right;\">\n",
       "      <th></th>\n",
       "      <th>Mean</th>\n",
       "      <th>Std</th>\n",
       "      <th>Oof</th>\n",
       "      <th>Max</th>\n",
       "      <th>Min</th>\n",
       "    </tr>\n",
       "  </thead>\n",
       "  <tbody>\n",
       "    <tr>\n",
       "      <th>roc auc</th>\n",
       "      <td>0.841569</td>\n",
       "      <td>0.028070</td>\n",
       "      <td>0.835868</td>\n",
       "      <td>0.880730</td>\n",
       "      <td>0.795082</td>\n",
       "    </tr>\n",
       "    <tr>\n",
       "      <th>accuracy</th>\n",
       "      <td>0.766572</td>\n",
       "      <td>0.020791</td>\n",
       "      <td>0.766542</td>\n",
       "      <td>0.790000</td>\n",
       "      <td>0.730000</td>\n",
       "    </tr>\n",
       "    <tr>\n",
       "      <th>precision</th>\n",
       "      <td>0.702750</td>\n",
       "      <td>0.054017</td>\n",
       "      <td>0.693548</td>\n",
       "      <td>0.818182</td>\n",
       "      <td>0.630435</td>\n",
       "    </tr>\n",
       "    <tr>\n",
       "      <th>recall</th>\n",
       "      <td>0.700067</td>\n",
       "      <td>0.092606</td>\n",
       "      <td>0.700326</td>\n",
       "      <td>0.789474</td>\n",
       "      <td>0.473684</td>\n",
       "    </tr>\n",
       "    <tr>\n",
       "      <th>f1 score</th>\n",
       "      <td>0.694065</td>\n",
       "      <td>0.041590</td>\n",
       "      <td>0.696921</td>\n",
       "      <td>0.740741</td>\n",
       "      <td>0.600000</td>\n",
       "    </tr>\n",
       "  </tbody>\n",
       "</table>\n",
       "</div>"
      ],
      "text/plain": [
       "               Mean       Std       Oof       Max       Min\n",
       "roc auc    0.841569  0.028070  0.835868  0.880730  0.795082\n",
       "accuracy   0.766572  0.020791  0.766542  0.790000  0.730000\n",
       "precision  0.702750  0.054017  0.693548  0.818182  0.630435\n",
       "recall     0.700067  0.092606  0.700326  0.789474  0.473684\n",
       "f1 score   0.694065  0.041590  0.696921  0.740741  0.600000"
      ]
     },
     "metadata": {},
     "output_type": "display_data"
    }
   ],
   "source": [
    "utils.metricas_cross_validation(X, y, pipeline_1)"
   ]
  },
  {
   "cell_type": "markdown",
   "metadata": {},
   "source": [
    "### Modelo 2"
   ]
  },
  {
   "cell_type": "markdown",
   "metadata": {},
   "source": [
    "- Se transforman las variables numéricas (precio_ticket y edad) en bins para poder utilizar solamente CategoricalNB.\n",
    "- Se realizan las mismas transformaciones que en el modelo anterior sobre las variables categóricas.\n",
    "- Se eliminaron las variables amigos y parientes debido a que no mejoraban el score del modelo."
   ]
  },
  {
   "cell_type": "code",
   "execution_count": 6,
   "metadata": {},
   "outputs": [],
   "source": [
    "pipeline_2 = Pipeline([(\"preprocessor\", pp.PreprocessingCategoricalNB2()), \n",
    "                     (\"model\", CategoricalNB())\n",
    "                     ])"
   ]
  },
  {
   "cell_type": "markdown",
   "metadata": {},
   "source": [
    "#### Metricas"
   ]
  },
  {
   "cell_type": "code",
   "execution_count": 7,
   "metadata": {},
   "outputs": [
    {
     "data": {
      "text/html": [
       "<div>\n",
       "<style scoped>\n",
       "    .dataframe tbody tr th:only-of-type {\n",
       "        vertical-align: middle;\n",
       "    }\n",
       "\n",
       "    .dataframe tbody tr th {\n",
       "        vertical-align: top;\n",
       "    }\n",
       "\n",
       "    .dataframe thead th {\n",
       "        text-align: right;\n",
       "    }\n",
       "</style>\n",
       "<table border=\"1\" class=\"dataframe\">\n",
       "  <thead>\n",
       "    <tr style=\"text-align: right;\">\n",
       "      <th></th>\n",
       "      <th>Mean</th>\n",
       "      <th>Std</th>\n",
       "      <th>Oof</th>\n",
       "      <th>Max</th>\n",
       "      <th>Min</th>\n",
       "    </tr>\n",
       "  </thead>\n",
       "  <tbody>\n",
       "    <tr>\n",
       "      <th>roc auc</th>\n",
       "      <td>0.835154</td>\n",
       "      <td>0.031191</td>\n",
       "      <td>0.829874</td>\n",
       "      <td>0.871817</td>\n",
       "      <td>0.784168</td>\n",
       "    </tr>\n",
       "    <tr>\n",
       "      <th>accuracy</th>\n",
       "      <td>0.742884</td>\n",
       "      <td>0.033608</td>\n",
       "      <td>0.742821</td>\n",
       "      <td>0.790000</td>\n",
       "      <td>0.693069</td>\n",
       "    </tr>\n",
       "    <tr>\n",
       "      <th>precision</th>\n",
       "      <td>0.675134</td>\n",
       "      <td>0.060101</td>\n",
       "      <td>0.668896</td>\n",
       "      <td>0.757576</td>\n",
       "      <td>0.609756</td>\n",
       "    </tr>\n",
       "    <tr>\n",
       "      <th>recall</th>\n",
       "      <td>0.651653</td>\n",
       "      <td>0.072225</td>\n",
       "      <td>0.651466</td>\n",
       "      <td>0.763158</td>\n",
       "      <td>0.512821</td>\n",
       "    </tr>\n",
       "    <tr>\n",
       "      <th>f1 score</th>\n",
       "      <td>0.659439</td>\n",
       "      <td>0.044341</td>\n",
       "      <td>0.660066</td>\n",
       "      <td>0.704225</td>\n",
       "      <td>0.563380</td>\n",
       "    </tr>\n",
       "  </tbody>\n",
       "</table>\n",
       "</div>"
      ],
      "text/plain": [
       "               Mean       Std       Oof       Max       Min\n",
       "roc auc    0.835154  0.031191  0.829874  0.871817  0.784168\n",
       "accuracy   0.742884  0.033608  0.742821  0.790000  0.693069\n",
       "precision  0.675134  0.060101  0.668896  0.757576  0.609756\n",
       "recall     0.651653  0.072225  0.651466  0.763158  0.512821\n",
       "f1 score   0.659439  0.044341  0.660066  0.704225  0.563380"
      ]
     },
     "metadata": {},
     "output_type": "display_data"
    }
   ],
   "source": [
    "utils.metricas_cross_validation(X, y, pipeline_2)"
   ]
  },
  {
   "cell_type": "markdown",
   "metadata": {},
   "source": [
    "### Modelo 3"
   ]
  },
  {
   "cell_type": "markdown",
   "metadata": {},
   "source": [
    "- Se utilizan unicamente las variables continuas y discretas\n",
    "- Se usa un GaussianNB"
   ]
  },
  {
   "cell_type": "code",
   "execution_count": 8,
   "metadata": {},
   "outputs": [],
   "source": [
    "pipeline_3 = Pipeline([(\"preprocessor\", pp.PreprocessingGaussianNB1()), \n",
    "                     (\"model\", GaussianNB())\n",
    "                     ])"
   ]
  },
  {
   "cell_type": "markdown",
   "metadata": {},
   "source": [
    "#### Metricas"
   ]
  },
  {
   "cell_type": "code",
   "execution_count": 9,
   "metadata": {},
   "outputs": [
    {
     "data": {
      "text/html": [
       "<div>\n",
       "<style scoped>\n",
       "    .dataframe tbody tr th:only-of-type {\n",
       "        vertical-align: middle;\n",
       "    }\n",
       "\n",
       "    .dataframe tbody tr th {\n",
       "        vertical-align: top;\n",
       "    }\n",
       "\n",
       "    .dataframe thead th {\n",
       "        text-align: right;\n",
       "    }\n",
       "</style>\n",
       "<table border=\"1\" class=\"dataframe\">\n",
       "  <thead>\n",
       "    <tr style=\"text-align: right;\">\n",
       "      <th></th>\n",
       "      <th>Mean</th>\n",
       "      <th>Std</th>\n",
       "      <th>Oof</th>\n",
       "      <th>Max</th>\n",
       "      <th>Min</th>\n",
       "    </tr>\n",
       "  </thead>\n",
       "  <tbody>\n",
       "    <tr>\n",
       "      <th>roc auc</th>\n",
       "      <td>0.682239</td>\n",
       "      <td>0.067797</td>\n",
       "      <td>0.677050</td>\n",
       "      <td>0.738540</td>\n",
       "      <td>0.511885</td>\n",
       "    </tr>\n",
       "    <tr>\n",
       "      <th>accuracy</th>\n",
       "      <td>0.667946</td>\n",
       "      <td>0.023888</td>\n",
       "      <td>0.667915</td>\n",
       "      <td>0.690000</td>\n",
       "      <td>0.630000</td>\n",
       "    </tr>\n",
       "    <tr>\n",
       "      <th>precision</th>\n",
       "      <td>0.710360</td>\n",
       "      <td>0.093738</td>\n",
       "      <td>0.711340</td>\n",
       "      <td>0.818182</td>\n",
       "      <td>0.555556</td>\n",
       "    </tr>\n",
       "    <tr>\n",
       "      <th>recall</th>\n",
       "      <td>0.224949</td>\n",
       "      <td>0.054745</td>\n",
       "      <td>0.224756</td>\n",
       "      <td>0.315789</td>\n",
       "      <td>0.131579</td>\n",
       "    </tr>\n",
       "    <tr>\n",
       "      <th>f1 score</th>\n",
       "      <td>0.339075</td>\n",
       "      <td>0.067955</td>\n",
       "      <td>0.341584</td>\n",
       "      <td>0.436364</td>\n",
       "      <td>0.212766</td>\n",
       "    </tr>\n",
       "  </tbody>\n",
       "</table>\n",
       "</div>"
      ],
      "text/plain": [
       "               Mean       Std       Oof       Max       Min\n",
       "roc auc    0.682239  0.067797  0.677050  0.738540  0.511885\n",
       "accuracy   0.667946  0.023888  0.667915  0.690000  0.630000\n",
       "precision  0.710360  0.093738  0.711340  0.818182  0.555556\n",
       "recall     0.224949  0.054745  0.224756  0.315789  0.131579\n",
       "f1 score   0.339075  0.067955  0.341584  0.436364  0.212766"
      ]
     },
     "metadata": {},
     "output_type": "display_data"
    }
   ],
   "source": [
    "utils.metricas_cross_validation(X, y, pipeline_3)"
   ]
  },
  {
   "cell_type": "markdown",
   "metadata": {},
   "source": [
    "### Modelo 4"
   ]
  },
  {
   "cell_type": "markdown",
   "metadata": {},
   "source": [
    "- Se combina un CategoricalNB con un GaussianNB usando un GaussianNB que toma la salida de los dos modelos anteriores para realizar la predicción. Para ello se hace un ensamble de tipo Stacking.\n",
    "- Se buscan mejores hiperparametros que los default con un GridSearchCV para ambos NB"
   ]
  },
  {
   "cell_type": "markdown",
   "metadata": {},
   "source": [
    "#### Hiperparámetros"
   ]
  },
  {
   "cell_type": "code",
   "execution_count": 10,
   "metadata": {},
   "outputs": [],
   "source": [
    "pipeline_gaussian = Pipeline([(\"preprocessor\", pp.PreprocessingGaussianNB1()), \n",
    "                              (\"model\", GaussianNB())\n",
    "                     ])\n",
    "pipeline_categorical = Pipeline([(\"preprocessor\", pp.PreprocessingCategoricalNB1()), \n",
    "                              (\"model\", CategoricalNB())\n",
    "                     ])"
   ]
  },
  {
   "cell_type": "code",
   "execution_count": 11,
   "metadata": {},
   "outputs": [
    {
     "name": "stdout",
     "output_type": "stream",
     "text": [
      "0.8417277156657254\n",
      "{'model__alpha': 2}\n"
     ]
    }
   ],
   "source": [
    "from sklearn.model_selection import GridSearchCV\n",
    "params = {'model__alpha': np.arange(1, 10, 1)}\n",
    "\n",
    "cv = utils.kfold_for_cross_validation()\n",
    "#Descomentar para ejecutar GridSearchCV\n",
    "gscv_categorical = GridSearchCV(pipeline_categorical, params, scoring='roc_auc', n_jobs=-1, cv=cv, return_train_score=True).fit(X, y)\n",
    "print(gscv_categorical.best_score_)\n",
    "print(gscv_categorical.best_params_)"
   ]
  },
  {
   "cell_type": "code",
   "execution_count": 12,
   "metadata": {},
   "outputs": [
    {
     "name": "stdout",
     "output_type": "stream",
     "text": [
      "0.697344758822778\n",
      "{'model__var_smoothing': 0.01}\n"
     ]
    }
   ],
   "source": [
    "params = {'model__var_smoothing': [1e-9, 1e-8, 1e-7, 1e-6, 1e-3, 5e-3, 1e-2, 3e-2, 5e-2, 0.1, 0.3]}\n",
    "\n",
    "cv = utils.kfold_for_cross_validation()\n",
    "#Descomentar para ejecutar GridSearchCV\n",
    "gscv_gaussian = GridSearchCV(pipeline_gaussian, params, scoring='roc_auc', n_jobs=-1, cv=cv, return_train_score=True).fit(X, y)\n",
    "print(gscv_gaussian.best_score_)\n",
    "print(gscv_gaussian.best_params_)"
   ]
  },
  {
   "cell_type": "code",
   "execution_count": 13,
   "metadata": {},
   "outputs": [],
   "source": [
    "pipeline_gaussian = Pipeline([(\"preprocessor\", pp.PreprocessingGaussianNB1()), \n",
    "                              (\"model\", GaussianNB(var_smoothing=0.01))\n",
    "                     ])\n",
    "pipeline_categorical = Pipeline([(\"preprocessor\", pp.PreprocessingCategoricalNB1()), \n",
    "                              (\"model\", CategoricalNB(alpha=2))\n",
    "                     ])"
   ]
  },
  {
   "cell_type": "code",
   "execution_count": 14,
   "metadata": {},
   "outputs": [],
   "source": [
    "from sklearn.ensemble import StackingClassifier\n",
    "\n",
    "estimadores = [('categorical_nb', pipeline_categorical), ('gaussian_nb', pipeline_gaussian)]\n",
    "cv = utils.kfold_for_cross_validation()\n",
    "\n",
    "stacked_naive_bayes = StackingClassifier(estimators=estimadores, final_estimator=GaussianNB(), stack_method=\"predict_proba\", cv=cv)"
   ]
  },
  {
   "cell_type": "markdown",
   "metadata": {},
   "source": [
    "#### Metricas"
   ]
  },
  {
   "cell_type": "code",
   "execution_count": 15,
   "metadata": {},
   "outputs": [
    {
     "data": {
      "text/html": [
       "<div>\n",
       "<style scoped>\n",
       "    .dataframe tbody tr th:only-of-type {\n",
       "        vertical-align: middle;\n",
       "    }\n",
       "\n",
       "    .dataframe tbody tr th {\n",
       "        vertical-align: top;\n",
       "    }\n",
       "\n",
       "    .dataframe thead th {\n",
       "        text-align: right;\n",
       "    }\n",
       "</style>\n",
       "<table border=\"1\" class=\"dataframe\">\n",
       "  <thead>\n",
       "    <tr style=\"text-align: right;\">\n",
       "      <th></th>\n",
       "      <th>Mean</th>\n",
       "      <th>Std</th>\n",
       "      <th>Oof</th>\n",
       "      <th>Max</th>\n",
       "      <th>Min</th>\n",
       "    </tr>\n",
       "  </thead>\n",
       "  <tbody>\n",
       "    <tr>\n",
       "      <th>roc auc</th>\n",
       "      <td>0.840878</td>\n",
       "      <td>0.031447</td>\n",
       "      <td>0.832515</td>\n",
       "      <td>0.878608</td>\n",
       "      <td>0.794251</td>\n",
       "    </tr>\n",
       "    <tr>\n",
       "      <th>accuracy</th>\n",
       "      <td>0.789059</td>\n",
       "      <td>0.031026</td>\n",
       "      <td>0.789014</td>\n",
       "      <td>0.850000</td>\n",
       "      <td>0.750000</td>\n",
       "    </tr>\n",
       "    <tr>\n",
       "      <th>precision</th>\n",
       "      <td>0.792872</td>\n",
       "      <td>0.056105</td>\n",
       "      <td>0.789916</td>\n",
       "      <td>0.925926</td>\n",
       "      <td>0.729730</td>\n",
       "    </tr>\n",
       "    <tr>\n",
       "      <th>recall</th>\n",
       "      <td>0.612433</td>\n",
       "      <td>0.077193</td>\n",
       "      <td>0.612378</td>\n",
       "      <td>0.710526</td>\n",
       "      <td>0.473684</td>\n",
       "    </tr>\n",
       "    <tr>\n",
       "      <th>f1 score</th>\n",
       "      <td>0.687847</td>\n",
       "      <td>0.057362</td>\n",
       "      <td>0.689908</td>\n",
       "      <td>0.769231</td>\n",
       "      <td>0.590164</td>\n",
       "    </tr>\n",
       "  </tbody>\n",
       "</table>\n",
       "</div>"
      ],
      "text/plain": [
       "               Mean       Std       Oof       Max       Min\n",
       "roc auc    0.840878  0.031447  0.832515  0.878608  0.794251\n",
       "accuracy   0.789059  0.031026  0.789014  0.850000  0.750000\n",
       "precision  0.792872  0.056105  0.789916  0.925926  0.729730\n",
       "recall     0.612433  0.077193  0.612378  0.710526  0.473684\n",
       "f1 score   0.687847  0.057362  0.689908  0.769231  0.590164"
      ]
     },
     "metadata": {},
     "output_type": "display_data"
    }
   ],
   "source": [
    "utils.metricas_cross_validation(X, y, stacked_naive_bayes)"
   ]
  },
  {
   "cell_type": "markdown",
   "metadata": {},
   "source": [
    "### Métricas finales"
   ]
  },
  {
   "cell_type": "markdown",
   "metadata": {},
   "source": [
    "Se eligió el modelo que utiliza un ensamble de Stacking dado que, si bien el CV dió un poco peor que en el primer modelo del notebook, la diferencia es despreciable. Además al ser un ensamble, el algoritmo puede generalizar mejor."
   ]
  },
  {
   "cell_type": "code",
   "execution_count": 16,
   "metadata": {},
   "outputs": [],
   "source": [
    "pipeline_gaussian = Pipeline([(\"preprocessor\", pp.PreprocessingGaussianNB1()), \n",
    "                              (\"model\", GaussianNB(var_smoothing=0.01))\n",
    "                     ])\n",
    "pipeline_categorical = Pipeline([(\"preprocessor\", pp.PreprocessingCategoricalNB1()), \n",
    "                              (\"model\", CategoricalNB(alpha=2))\n",
    "                     ])\n",
    "estimadores = [('categorical_nb', pipeline_categorical), ('gaussian_nb', pipeline_gaussian)]\n",
    "cv = utils.kfold_for_cross_validation()\n",
    "\n",
    "stacked_naive_bayes = StackingClassifier(estimators=estimadores, final_estimator=GaussianNB(), stack_method=\"predict_proba\", cv=cv)"
   ]
  },
  {
   "cell_type": "code",
   "execution_count": 17,
   "metadata": {},
   "outputs": [
    {
     "data": {
      "text/html": [
       "<style  type=\"text/css\" >\n",
       "</style><table id=\"T_0669b81c_7ee1_11eb_805f_b179fc9e21f0\" ><thead>    <tr>        <th class=\"col_heading level0 col0\" >AUC_ROC</th>        <th class=\"col_heading level0 col1\" >Accuracy</th>        <th class=\"col_heading level0 col2\" >Precision</th>        <th class=\"col_heading level0 col3\" >Recall</th>        <th class=\"col_heading level0 col4\" >F1 Score</th>    </tr></thead><tbody>\n",
       "                <tr>\n",
       "                                <td id=\"T_0669b81c_7ee1_11eb_805f_b179fc9e21f0row0_col0\" class=\"data row0 col0\" >0.875942</td>\n",
       "                        <td id=\"T_0669b81c_7ee1_11eb_805f_b179fc9e21f0row0_col1\" class=\"data row0 col1\" >0.818182</td>\n",
       "                        <td id=\"T_0669b81c_7ee1_11eb_805f_b179fc9e21f0row0_col2\" class=\"data row0 col2\" >0.833333</td>\n",
       "                        <td id=\"T_0669b81c_7ee1_11eb_805f_b179fc9e21f0row0_col3\" class=\"data row0 col3\" >0.652174</td>\n",
       "                        <td id=\"T_0669b81c_7ee1_11eb_805f_b179fc9e21f0row0_col4\" class=\"data row0 col4\" >0.731707</td>\n",
       "            </tr>\n",
       "    </tbody></table>"
      ],
      "text/plain": [
       "<pandas.io.formats.style.Styler at 0x7fc9b3971590>"
      ]
     },
     "metadata": {},
     "output_type": "display_data"
    },
    {
     "name": "stdout",
     "output_type": "stream",
     "text": [
      "Matriz de confusión:\n"
     ]
    },
    {
     "data": {
      "image/png": "[encoded data removed]",
      "text/plain": [
       "<Figure size 432x288 with 2 Axes>"
      ]
     },
     "metadata": {
      "needs_background": "light"
     },
     "output_type": "display_data"
    }
   ],
   "source": [
    "stacked_naive_bayes = utils.entrenar_y_realizar_prediccion_final_con_metricas(X, y, stacked_naive_bayes)"
   ]
  },
  {
   "cell_type": "markdown",
   "metadata": {},
   "source": [
    "La métrica objetivo AUC-ROC no superó la barrera de 0.90 obtenida en los modelos anteriores basados en arboles. Esto es causa de la alta tasa de Falsos Negativos obtenida por el modelo (7 puntos por encima de la obtenida por RandomForest) lo que afecta a todas las métricas a excepción del Accuracy."
   ]
  },
  {
   "cell_type": "markdown",
   "metadata": {},
   "source": [
    "### Predicción HoldOut"
   ]
  },
  {
   "cell_type": "code",
   "execution_count": 18,
   "metadata": {},
   "outputs": [],
   "source": [
    "utils.predecir_holdout_y_generar_csv(stacked_naive_bayes, 'Predicciones/3-NaiveBayes.csv')"
   ]
  }
 ],
 "metadata": {
  "jupytext": {
   "encoding": "# -*- coding: utf-8 -*-",
   "formats": "ipynb,py:light"
  },
  "kernelspec": {
   "display_name": "Python 3",
   "language": "python",
   "name": "python3"
  },
  "language_info": {
   "codemirror_mode": {
    "name": "ipython",
    "version": 3
   },
   "file_extension": ".py",
   "mimetype": "text/x-python",
   "name": "python",
   "nbconvert_exporter": "python",
   "pygments_lexer": "ipython3",
   "version": "3.7.9"
  }
 },
 "nbformat": 4,
 "nbformat_minor": 4
}
