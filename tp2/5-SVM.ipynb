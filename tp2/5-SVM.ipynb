{
 "cells": [
  {
   "cell_type": "code",
   "execution_count": 1,
   "metadata": {},
   "outputs": [],
   "source": [
    "import pandas as pd\n",
    "import preprocessing as pp\n",
    "import utils as utils\n",
    "import numpy as np\n",
    "from sklearn.model_selection import RandomizedSearchCV\n",
    "from sklearn.svm import SVC\n",
    "pd.set_option('mode.chained_assignment', None)\n",
    "import warnings\n",
    "warnings.simplefilter(action='ignore', category=FutureWarning)\n",
    "from sklearn.pipeline import Pipeline"
   ]
  },
  {
   "cell_type": "code",
   "execution_count": 2,
   "metadata": {},
   "outputs": [],
   "source": [
    "import random\n",
    "seed = 100\n",
    "np.random.seed(seed)\n",
    "random.seed(seed)"
   ]
  },
  {
   "cell_type": "code",
   "execution_count": 3,
   "metadata": {},
   "outputs": [],
   "source": [
    "X, y = utils.importar_datos()"
   ]
  },
  {
   "cell_type": "markdown",
   "metadata": {},
   "source": [
    "### Modelo 1"
   ]
  },
  {
   "cell_type": "markdown",
   "metadata": {},
   "source": [
    "- Kernel Radial\n",
    "- Preprocesamiento con StandardScaler\n",
    "- Estimacion de Hiperparametros con RandomSearchCV\n",
    "- Preprocesamiento de variables categoricas con OneHotEncoding"
   ]
  },
  {
   "cell_type": "code",
   "execution_count": 4,
   "metadata": {},
   "outputs": [],
   "source": [
    "preprocessor = pp.PreprocessingSE()\n",
    "model = SVC(kernel='rbf', random_state=pp.RANDOM_STATE)"
   ]
  },
  {
   "cell_type": "code",
   "execution_count": 5,
   "metadata": {},
   "outputs": [],
   "source": [
    "pipeline = Pipeline([(\"preprocessor\", preprocessor), \n",
    "                     (\"model\", model)\n",
    "                     ])"
   ]
  },
  {
   "cell_type": "code",
   "execution_count": 6,
   "metadata": {},
   "outputs": [
    {
     "name": "stdout",
     "output_type": "stream",
     "text": [
      "0.8422054875320343\n",
      "{'model__gamma': 'scale', 'model__C': 1}\n"
     ]
    }
   ],
   "source": [
    "params = {'model__C': np.arange(1, 150, 25), 'model__gamma': ['scale', 'auto'] + list(np.arange(1, 20))}\n",
    "\n",
    "cv = utils.kfold_for_cross_validation()\n",
    "#rgscv = RandomizedSearchCV(\n",
    "#    pipeline, params, n_iter=50, scoring='roc_auc', n_jobs=-1, cv=cv, return_train_score=True\n",
    "#).fit(X, y)\n",
    "#print(rgscv.best_score_)\n",
    "#print(rgscv.best_params_)"
   ]
  },
  {
   "cell_type": "code",
   "execution_count": 7,
   "metadata": {},
   "outputs": [],
   "source": [
    "preprocessor = pp.PreprocessingSE()\n",
    "model = SVC(kernel='rbf', random_state=pp.RANDOM_STATE, C=1, gamma='scale', probability=True)"
   ]
  },
  {
   "cell_type": "code",
   "execution_count": 8,
   "metadata": {},
   "outputs": [],
   "source": [
    "pipeline = Pipeline([(\"preprocessor\", preprocessor), \n",
    "                     (\"model\", model)\n",
    "                     ])"
   ]
  },
  {
   "cell_type": "markdown",
   "metadata": {},
   "source": [
    "#### Metricas"
   ]
  },
  {
   "cell_type": "code",
   "execution_count": 9,
   "metadata": {},
   "outputs": [
    {
     "data": {
      "text/html": [
       "<div>\n",
       "<style scoped>\n",
       "    .dataframe tbody tr th:only-of-type {\n",
       "        vertical-align: middle;\n",
       "    }\n",
       "\n",
       "    .dataframe tbody tr th {\n",
       "        vertical-align: top;\n",
       "    }\n",
       "\n",
       "    .dataframe thead th {\n",
       "        text-align: right;\n",
       "    }\n",
       "</style>\n",
       "<table border=\"1\" class=\"dataframe\">\n",
       "  <thead>\n",
       "    <tr style=\"text-align: right;\">\n",
       "      <th></th>\n",
       "      <th>Mean</th>\n",
       "      <th>Std</th>\n",
       "      <th>Oof</th>\n",
       "      <th>Max</th>\n",
       "      <th>Min</th>\n",
       "    </tr>\n",
       "  </thead>\n",
       "  <tbody>\n",
       "    <tr>\n",
       "      <th>roc auc</th>\n",
       "      <td>0.842205</td>\n",
       "      <td>0.028305</td>\n",
       "      <td>0.839056</td>\n",
       "      <td>0.878941</td>\n",
       "      <td>0.790879</td>\n",
       "    </tr>\n",
       "    <tr>\n",
       "      <th>accuracy</th>\n",
       "      <td>0.825223</td>\n",
       "      <td>0.029969</td>\n",
       "      <td>0.825218</td>\n",
       "      <td>0.870000</td>\n",
       "      <td>0.770000</td>\n",
       "    </tr>\n",
       "    <tr>\n",
       "      <th>precision</th>\n",
       "      <td>0.808021</td>\n",
       "      <td>0.051562</td>\n",
       "      <td>0.805861</td>\n",
       "      <td>0.878788</td>\n",
       "      <td>0.710526</td>\n",
       "    </tr>\n",
       "    <tr>\n",
       "      <th>recall</th>\n",
       "      <td>0.716768</td>\n",
       "      <td>0.039019</td>\n",
       "      <td>0.716612</td>\n",
       "      <td>0.789474</td>\n",
       "      <td>0.657895</td>\n",
       "    </tr>\n",
       "    <tr>\n",
       "      <th>f1 score</th>\n",
       "      <td>0.758938</td>\n",
       "      <td>0.038245</td>\n",
       "      <td>0.758621</td>\n",
       "      <td>0.816901</td>\n",
       "      <td>0.701299</td>\n",
       "    </tr>\n",
       "  </tbody>\n",
       "</table>\n",
       "</div>"
      ],
      "text/plain": [
       "               Mean       Std       Oof       Max       Min\n",
       "roc auc    0.842205  0.028305  0.839056  0.878941  0.790879\n",
       "accuracy   0.825223  0.029969  0.825218  0.870000  0.770000\n",
       "precision  0.808021  0.051562  0.805861  0.878788  0.710526\n",
       "recall     0.716768  0.039019  0.716612  0.789474  0.657895\n",
       "f1 score   0.758938  0.038245  0.758621  0.816901  0.701299"
      ]
     },
     "metadata": {},
     "output_type": "display_data"
    }
   ],
   "source": [
    "utils.metricas_cross_validation(X, y, pipeline)"
   ]
  },
  {
   "cell_type": "markdown",
   "metadata": {},
   "source": [
    "### Modelo 2"
   ]
  },
  {
   "cell_type": "markdown",
   "metadata": {},
   "source": [
    "- Kernel Polinomico\n",
    "- Preprocesamiento con StandardScaler\n",
    "- Estimación de Hiperparametros mediante RandomSearch\n",
    "- Preprocesamiento de variables categoricas con OneHotEncoding"
   ]
  },
  {
   "cell_type": "code",
   "execution_count": 10,
   "metadata": {},
   "outputs": [],
   "source": [
    "preprocessor = pp.PreprocessingSE()\n",
    "model = SVC(kernel='poly', random_state=pp.RANDOM_STATE, probability=True)"
   ]
  },
  {
   "cell_type": "code",
   "execution_count": 11,
   "metadata": {},
   "outputs": [],
   "source": [
    "pipeline = Pipeline([(\"preprocessor\", preprocessor), \n",
    "                     (\"model\", model)\n",
    "                     ])"
   ]
  },
  {
   "cell_type": "code",
   "execution_count": 25,
   "metadata": {},
   "outputs": [
    {
     "name": "stdout",
     "output_type": "stream",
     "text": [
      "0.8453266493890015\n",
      "{'model__degree': 2, 'model__C': 1}\n"
     ]
    }
   ],
   "source": [
    "params = {'model__C': np.arange(1, 150, 10), 'model__degree': np.arange(1, 3)}\n",
    "\n",
    "cv = utils.kfold_for_cross_validation()\n",
    "#rgscv = RandomizedSearchCV(\n",
    "#    pipeline, params, n_iter=30, scoring='roc_auc', n_jobs=-1, cv=cv, return_train_score=True\n",
    "#).fit(X, y)\n",
    "#print(rgscv.best_score_)\n",
    "#print(rgscv.best_params_)"
   ]
  },
  {
   "cell_type": "code",
   "execution_count": 62,
   "metadata": {},
   "outputs": [],
   "source": [
    "model = SVC(kernel='poly', random_state=pp.RANDOM_STATE, C=1, degree=2, probability=True)"
   ]
  },
  {
   "cell_type": "code",
   "execution_count": 63,
   "metadata": {},
   "outputs": [],
   "source": [
    "pipeline = Pipeline([(\"preprocessor\", preprocessor), \n",
    "                     (\"model\", model)\n",
    "                     ])"
   ]
  },
  {
   "cell_type": "code",
   "execution_count": 70,
   "metadata": {},
   "outputs": [
    {
     "name": "stdout",
     "output_type": "stream",
     "text": [
      "0.8512972254396313\n",
      "{'model__coef0': 101, 'model__gamma': 'scale'}\n"
     ]
    }
   ],
   "source": [
    "params = {'model__gamma': ['scale', 'auto'], 'model__coef0': np.arange(1, 150, 25)}\n",
    "\n",
    "cv = utils.kfold_for_cross_validation()\n",
    "#rgscv = GridSearchCV(\n",
    "#    pipeline, params, scoring='roc_auc', n_jobs=-1, cv=cv, return_train_score=True\n",
    "#).fit(X, y)\n",
    "#print(rgscv.best_score_)\n",
    "#print(rgscv.best_params_)"
   ]
  },
  {
   "cell_type": "code",
   "execution_count": 71,
   "metadata": {},
   "outputs": [],
   "source": [
    "preprocessor = pp.PreprocessingSE()\n",
    "model = SVC(kernel='poly', random_state=pp.RANDOM_STATE, C=1, degree=2, \n",
    "            gamma='scale', coef0=101, probability=True)"
   ]
  },
  {
   "cell_type": "code",
   "execution_count": 72,
   "metadata": {},
   "outputs": [],
   "source": [
    "pipeline = Pipeline([(\"preprocessor\", preprocessor), \n",
    "                     (\"model\", model)\n",
    "                     ])"
   ]
  },
  {
   "cell_type": "markdown",
   "metadata": {},
   "source": [
    "#### Metricas"
   ]
  },
  {
   "cell_type": "code",
   "execution_count": 73,
   "metadata": {},
   "outputs": [
    {
     "data": {
      "text/html": [
       "<div>\n",
       "<style scoped>\n",
       "    .dataframe tbody tr th:only-of-type {\n",
       "        vertical-align: middle;\n",
       "    }\n",
       "\n",
       "    .dataframe tbody tr th {\n",
       "        vertical-align: top;\n",
       "    }\n",
       "\n",
       "    .dataframe thead th {\n",
       "        text-align: right;\n",
       "    }\n",
       "</style>\n",
       "<table border=\"1\" class=\"dataframe\">\n",
       "  <thead>\n",
       "    <tr style=\"text-align: right;\">\n",
       "      <th></th>\n",
       "      <th>Mean</th>\n",
       "      <th>Std</th>\n",
       "      <th>Oof</th>\n",
       "      <th>Max</th>\n",
       "      <th>Min</th>\n",
       "    </tr>\n",
       "  </thead>\n",
       "  <tbody>\n",
       "    <tr>\n",
       "      <th>roc auc</th>\n",
       "      <td>0.844559</td>\n",
       "      <td>0.026040</td>\n",
       "      <td>0.844321</td>\n",
       "      <td>0.875849</td>\n",
       "      <td>0.794241</td>\n",
       "    </tr>\n",
       "    <tr>\n",
       "      <th>accuracy</th>\n",
       "      <td>0.823960</td>\n",
       "      <td>0.036761</td>\n",
       "      <td>0.823970</td>\n",
       "      <td>0.890000</td>\n",
       "      <td>0.770000</td>\n",
       "    </tr>\n",
       "    <tr>\n",
       "      <th>precision</th>\n",
       "      <td>0.812537</td>\n",
       "      <td>0.065063</td>\n",
       "      <td>0.809701</td>\n",
       "      <td>0.909091</td>\n",
       "      <td>0.710526</td>\n",
       "    </tr>\n",
       "    <tr>\n",
       "      <th>recall</th>\n",
       "      <td>0.706899</td>\n",
       "      <td>0.035897</td>\n",
       "      <td>0.706840</td>\n",
       "      <td>0.789474</td>\n",
       "      <td>0.657895</td>\n",
       "    </tr>\n",
       "    <tr>\n",
       "      <th>f1 score</th>\n",
       "      <td>0.755540</td>\n",
       "      <td>0.046375</td>\n",
       "      <td>0.754783</td>\n",
       "      <td>0.845070</td>\n",
       "      <td>0.694444</td>\n",
       "    </tr>\n",
       "  </tbody>\n",
       "</table>\n",
       "</div>"
      ],
      "text/plain": [
       "               Mean       Std       Oof       Max       Min\n",
       "roc auc    0.844559  0.026040  0.844321  0.875849  0.794241\n",
       "accuracy   0.823960  0.036761  0.823970  0.890000  0.770000\n",
       "precision  0.812537  0.065063  0.809701  0.909091  0.710526\n",
       "recall     0.706899  0.035897  0.706840  0.789474  0.657895\n",
       "f1 score   0.755540  0.046375  0.754783  0.845070  0.694444"
      ]
     },
     "metadata": {},
     "output_type": "display_data"
    }
   ],
   "source": [
    "utils.metricas_cross_validation(X, y, pipeline)"
   ]
  },
  {
   "cell_type": "markdown",
   "metadata": {},
   "source": [
    "### Modelo 3 "
   ]
  },
  {
   "cell_type": "markdown",
   "metadata": {},
   "source": [
    "- Kernel Lineal\n",
    "- Estimación de Hiperparametros con GridSearchCV\n",
    "- Preprocesamiento con StandardScaler\n",
    "- Preprocesamiento de variables categoricas con OneHotEncoding"
   ]
  },
  {
   "cell_type": "code",
   "execution_count": 29,
   "metadata": {},
   "outputs": [],
   "source": [
    "preprocessor = pp.PreprocessingSE()\n",
    "model = SVC(kernel='linear', random_state=pp.RANDOM_STATE, probability=True)"
   ]
  },
  {
   "cell_type": "code",
   "execution_count": 30,
   "metadata": {},
   "outputs": [],
   "source": [
    "pipeline = Pipeline([(\"preprocessor\", preprocessor), \n",
    "                     (\"model\", model)\n",
    "                     ])"
   ]
  },
  {
   "cell_type": "code",
   "execution_count": 43,
   "metadata": {},
   "outputs": [
    {
     "name": "stdout",
     "output_type": "stream",
     "text": [
      "0.8422054875320343\n",
      "{'model__C': 1}\n"
     ]
    }
   ],
   "source": [
    "from sklearn.model_selection import GridSearchCV\n",
    "params = {'model__C': np.arange(1, 250, 10)}\n",
    "\n",
    "cv = utils.kfold_for_cross_validation()\n",
    "#gscv = GridSearchCV(\n",
    "#    pipeline, params, scoring='roc_auc', n_jobs=-1, cv=cv, return_train_score=True\n",
    "#).fit(X, y)\n",
    "#print(gscv.best_score_)\n",
    "#print(gscv.best_params_)"
   ]
  },
  {
   "cell_type": "code",
   "execution_count": 44,
   "metadata": {},
   "outputs": [
    {
     "name": "stdout",
     "output_type": "stream",
     "text": [
      "0.807859749748614\n",
      "{'model__C': 30}\n"
     ]
    }
   ],
   "source": [
    "params = {'model__C': np.arange(30, 60)}\n",
    "\n",
    "cv = utils.kfold_for_cross_validation()\n",
    "#gscv = GridSearchCV(\n",
    "#    pipeline, params, scoring='roc_auc', n_jobs=-1, cv=cv, return_train_score=True\n",
    "#).fit(X, y)\n",
    "#print(gscv.best_score_)\n",
    "#print(gscv.best_params_)"
   ]
  },
  {
   "cell_type": "code",
   "execution_count": 55,
   "metadata": {},
   "outputs": [],
   "source": [
    "preprocessor = pp.PreprocessingSE()\n",
    "model = SVC(kernel='linear', random_state=pp.RANDOM_STATE, C=30, probability=True)"
   ]
  },
  {
   "cell_type": "code",
   "execution_count": 56,
   "metadata": {},
   "outputs": [],
   "source": [
    "pipeline = Pipeline([(\"preprocessor\", preprocessor), \n",
    "                     (\"model\", model)\n",
    "                     ])"
   ]
  },
  {
   "cell_type": "code",
   "execution_count": 57,
   "metadata": {},
   "outputs": [
    {
     "data": {
      "text/html": [
       "<div>\n",
       "<style scoped>\n",
       "    .dataframe tbody tr th:only-of-type {\n",
       "        vertical-align: middle;\n",
       "    }\n",
       "\n",
       "    .dataframe tbody tr th {\n",
       "        vertical-align: top;\n",
       "    }\n",
       "\n",
       "    .dataframe thead th {\n",
       "        text-align: right;\n",
       "    }\n",
       "</style>\n",
       "<table border=\"1\" class=\"dataframe\">\n",
       "  <thead>\n",
       "    <tr style=\"text-align: right;\">\n",
       "      <th></th>\n",
       "      <th>Mean</th>\n",
       "      <th>Std</th>\n",
       "      <th>Oof</th>\n",
       "      <th>Max</th>\n",
       "      <th>Min</th>\n",
       "    </tr>\n",
       "  </thead>\n",
       "  <tbody>\n",
       "    <tr>\n",
       "      <th>roc auc</th>\n",
       "      <td>0.829847</td>\n",
       "      <td>0.037563</td>\n",
       "      <td>0.798896</td>\n",
       "      <td>0.889449</td>\n",
       "      <td>0.770702</td>\n",
       "    </tr>\n",
       "    <tr>\n",
       "      <th>accuracy</th>\n",
       "      <td>0.789035</td>\n",
       "      <td>0.042141</td>\n",
       "      <td>0.789014</td>\n",
       "      <td>0.870000</td>\n",
       "      <td>0.710000</td>\n",
       "    </tr>\n",
       "    <tr>\n",
       "      <th>precision</th>\n",
       "      <td>0.745106</td>\n",
       "      <td>0.074626</td>\n",
       "      <td>0.739583</td>\n",
       "      <td>0.903226</td>\n",
       "      <td>0.625000</td>\n",
       "    </tr>\n",
       "    <tr>\n",
       "      <th>recall</th>\n",
       "      <td>0.693995</td>\n",
       "      <td>0.044979</td>\n",
       "      <td>0.693811</td>\n",
       "      <td>0.763158</td>\n",
       "      <td>0.641026</td>\n",
       "    </tr>\n",
       "    <tr>\n",
       "      <th>f1 score</th>\n",
       "      <td>0.717132</td>\n",
       "      <td>0.049381</td>\n",
       "      <td>0.715966</td>\n",
       "      <td>0.811594</td>\n",
       "      <td>0.632911</td>\n",
       "    </tr>\n",
       "  </tbody>\n",
       "</table>\n",
       "</div>"
      ],
      "text/plain": [
       "               Mean       Std       Oof       Max       Min\n",
       "roc auc    0.829847  0.037563  0.798896  0.889449  0.770702\n",
       "accuracy   0.789035  0.042141  0.789014  0.870000  0.710000\n",
       "precision  0.745106  0.074626  0.739583  0.903226  0.625000\n",
       "recall     0.693995  0.044979  0.693811  0.763158  0.641026\n",
       "f1 score   0.717132  0.049381  0.715966  0.811594  0.632911"
      ]
     },
     "metadata": {},
     "output_type": "display_data"
    }
   ],
   "source": [
    "utils.metricas_cross_validation(X, y, pipeline)"
   ]
  },
  {
   "cell_type": "markdown",
   "metadata": {},
   "source": [
    "### Modelo 4"
   ]
  },
  {
   "cell_type": "markdown",
   "metadata": {},
   "source": [
    "- Kernel Radial\n",
    "- Preprocesamiento con StandardScaler\n",
    "- Preprocesamiento de variables categoricas con LabelEncoding"
   ]
  },
  {
   "cell_type": "code",
   "execution_count": 58,
   "metadata": {},
   "outputs": [],
   "source": [
    "preprocessor = pp.PreprocessingSE_2()\n",
    "model = SVC(kernel='rbf', random_state=pp.RANDOM_STATE, C=1, gamma='scale', probability=True)"
   ]
  },
  {
   "cell_type": "code",
   "execution_count": 59,
   "metadata": {},
   "outputs": [],
   "source": [
    "pipeline = Pipeline([(\"preprocessor\", preprocessor), \n",
    "                     (\"model\", model)\n",
    "                     ])"
   ]
  },
  {
   "cell_type": "markdown",
   "metadata": {},
   "source": [
    "#### Metricas"
   ]
  },
  {
   "cell_type": "code",
   "execution_count": 60,
   "metadata": {},
   "outputs": [
    {
     "data": {
      "text/html": [
       "<div>\n",
       "<style scoped>\n",
       "    .dataframe tbody tr th:only-of-type {\n",
       "        vertical-align: middle;\n",
       "    }\n",
       "\n",
       "    .dataframe tbody tr th {\n",
       "        vertical-align: top;\n",
       "    }\n",
       "\n",
       "    .dataframe thead th {\n",
       "        text-align: right;\n",
       "    }\n",
       "</style>\n",
       "<table border=\"1\" class=\"dataframe\">\n",
       "  <thead>\n",
       "    <tr style=\"text-align: right;\">\n",
       "      <th></th>\n",
       "      <th>Mean</th>\n",
       "      <th>Std</th>\n",
       "      <th>Oof</th>\n",
       "      <th>Max</th>\n",
       "      <th>Min</th>\n",
       "    </tr>\n",
       "  </thead>\n",
       "  <tbody>\n",
       "    <tr>\n",
       "      <th>roc auc</th>\n",
       "      <td>0.851941</td>\n",
       "      <td>0.033935</td>\n",
       "      <td>0.849767</td>\n",
       "      <td>0.918081</td>\n",
       "      <td>0.790879</td>\n",
       "    </tr>\n",
       "    <tr>\n",
       "      <th>accuracy</th>\n",
       "      <td>0.819010</td>\n",
       "      <td>0.033860</td>\n",
       "      <td>0.818976</td>\n",
       "      <td>0.890000</td>\n",
       "      <td>0.770000</td>\n",
       "    </tr>\n",
       "    <tr>\n",
       "      <th>precision</th>\n",
       "      <td>0.807251</td>\n",
       "      <td>0.056005</td>\n",
       "      <td>0.804511</td>\n",
       "      <td>0.909091</td>\n",
       "      <td>0.710526</td>\n",
       "    </tr>\n",
       "    <tr>\n",
       "      <th>recall</th>\n",
       "      <td>0.697537</td>\n",
       "      <td>0.053912</td>\n",
       "      <td>0.697068</td>\n",
       "      <td>0.789474</td>\n",
       "      <td>0.615385</td>\n",
       "    </tr>\n",
       "    <tr>\n",
       "      <th>f1 score</th>\n",
       "      <td>0.747035</td>\n",
       "      <td>0.045886</td>\n",
       "      <td>0.746946</td>\n",
       "      <td>0.845070</td>\n",
       "      <td>0.695652</td>\n",
       "    </tr>\n",
       "  </tbody>\n",
       "</table>\n",
       "</div>"
      ],
      "text/plain": [
       "               Mean       Std       Oof       Max       Min\n",
       "roc auc    0.851941  0.033935  0.849767  0.918081  0.790879\n",
       "accuracy   0.819010  0.033860  0.818976  0.890000  0.770000\n",
       "precision  0.807251  0.056005  0.804511  0.909091  0.710526\n",
       "recall     0.697537  0.053912  0.697068  0.789474  0.615385\n",
       "f1 score   0.747035  0.045886  0.746946  0.845070  0.695652"
      ]
     },
     "metadata": {},
     "output_type": "display_data"
    }
   ],
   "source": [
    "utils.metricas_cross_validation(X, y, pipeline)"
   ]
  },
  {
   "cell_type": "markdown",
   "metadata": {},
   "source": [
    "### Métricas finales"
   ]
  },
  {
   "cell_type": "markdown",
   "metadata": {},
   "source": [
    "Dado que el Modelo 1 (kernel radial) y el Modelo 2 (kernel polinomico) obtuvieron resultados similares mediante `cross_validation`, se optó por elegir el [Modelo 1](#Modelo-1)."
   ]
  },
  {
   "cell_type": "code",
   "execution_count": 74,
   "metadata": {},
   "outputs": [],
   "source": [
    "preprocessor = pp.PreprocessingSE()\n",
    "model = SVC(kernel='rbf', random_state=pp.RANDOM_STATE, C=1, gamma='scale', probability=True)"
   ]
  },
  {
   "cell_type": "code",
   "execution_count": 75,
   "metadata": {},
   "outputs": [],
   "source": [
    "pipeline = Pipeline([(\"preprocessor\", preprocessor), \n",
    "                     (\"model\", model)\n",
    "                     ])"
   ]
  },
  {
   "cell_type": "code",
   "execution_count": 76,
   "metadata": {},
   "outputs": [
    {
     "data": {
      "text/html": [
       "<style  type=\"text/css\" >\n",
       "</style><table id=\"T_99e4888c_709b_11eb_8c0b_198804c1d932\" ><thead>    <tr>        <th class=\"col_heading level0 col0\" >AUC_ROC</th>        <th class=\"col_heading level0 col1\" >Accuracy</th>        <th class=\"col_heading level0 col2\" >Precision</th>        <th class=\"col_heading level0 col3\" >Recall</th>        <th class=\"col_heading level0 col4\" >F1 Score</th>    </tr></thead><tbody>\n",
       "                <tr>\n",
       "                                <td id=\"T_99e4888c_709b_11eb_8c0b_198804c1d932row0_col0\" class=\"data row0 col0\" >0.884058</td>\n",
       "                        <td id=\"T_99e4888c_709b_11eb_8c0b_198804c1d932row0_col1\" class=\"data row0 col1\" >0.842975</td>\n",
       "                        <td id=\"T_99e4888c_709b_11eb_8c0b_198804c1d932row0_col2\" class=\"data row0 col2\" >0.813953</td>\n",
       "                        <td id=\"T_99e4888c_709b_11eb_8c0b_198804c1d932row0_col3\" class=\"data row0 col3\" >0.760870</td>\n",
       "                        <td id=\"T_99e4888c_709b_11eb_8c0b_198804c1d932row0_col4\" class=\"data row0 col4\" >0.786517</td>\n",
       "            </tr>\n",
       "    </tbody></table>"
      ],
      "text/plain": [
       "<pandas.io.formats.style.Styler at 0x7fa4166f2850>"
      ]
     },
     "metadata": {},
     "output_type": "display_data"
    },
    {
     "name": "stdout",
     "output_type": "stream",
     "text": [
      "Matriz de confusión:\n"
     ]
    },
    {
     "data": {
      "image/png": "[encoded data removed]",
      "text/plain": [
       "<Figure size 432x288 with 2 Axes>"
      ]
     },
     "metadata": {
      "needs_background": "light"
     },
     "output_type": "display_data"
    }
   ],
   "source": [
    "pipeline = utils.entrenar_y_realizar_prediccion_final_con_metricas(X, y, pipeline)"
   ]
  },
  {
   "cell_type": "markdown",
   "metadata": {},
   "source": [
    "La métrica objetivo AUC-ROC de este modelo no supera a las obtenidas por los modelos basados en arboles. Es este caso se debe a la tasa de Falsos Positivos obtenidas por el modelo lo cual afecta a casi todas las métricas pero principalmente a Precisión, por eso es el modelo que obtiene peor resultado en ese apartado hasta el momento."
   ]
  },
  {
   "cell_type": "markdown",
   "metadata": {},
   "source": [
    "### Predicción HoldOut"
   ]
  },
  {
   "cell_type": "code",
   "execution_count": 77,
   "metadata": {},
   "outputs": [],
   "source": [
    "utils.predecir_holdout_y_generar_csv(pipeline, 'Predicciones/5-SVM.csv')"
   ]
  }
 ],
 "metadata": {
  "jupytext": {
   "encoding": "# -*- coding: utf-8 -*-",
   "formats": "ipynb,py:light"
  },
  "kernelspec": {
   "display_name": "Python 3",
   "language": "python",
   "name": "python3"
  },
  "language_info": {
   "codemirror_mode": {
    "name": "ipython",
    "version": 3
   },
   "file_extension": ".py",
   "mimetype": "text/x-python",
   "name": "python",
   "nbconvert_exporter": "python",
   "pygments_lexer": "ipython3",
   "version": "3.8.2"
  }
 },
 "nbformat": 4,
 "nbformat_minor": 4
}
