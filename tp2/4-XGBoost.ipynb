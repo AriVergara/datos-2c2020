{
 "cells": [
  {
   "cell_type": "code",
   "execution_count": 1,
   "metadata": {},
   "outputs": [],
   "source": [
    "import pandas as pd\n",
    "import preprocessing as pp\n",
    "import utils as utils\n",
    "import numpy as np\n",
    "from xgboost.sklearn import XGBClassifier\n",
    "pd.set_option('mode.chained_assignment', None)\n",
    "import warnings\n",
    "warnings.simplefilter(action='ignore', category=FutureWarning)\n",
    "from sklearn.pipeline import Pipeline\n",
    "from sklearn.model_selection import GridSearchCV"
   ]
  },
  {
   "cell_type": "code",
   "execution_count": 2,
   "metadata": {},
   "outputs": [],
   "source": [
    "import random\n",
    "seed = 100\n",
    "np.random.seed(seed)\n",
    "random.seed(seed)"
   ]
  },
  {
   "cell_type": "code",
   "execution_count": 3,
   "metadata": {},
   "outputs": [],
   "source": [
    "X, y = utils.importar_datos()"
   ]
  },
  {
   "cell_type": "markdown",
   "metadata": {},
   "source": [
    "### Modelo 1"
   ]
  },
  {
   "cell_type": "markdown",
   "metadata": {},
   "source": [
    "- Label encoder para las categóricas\n",
    "- Hiperparámetros por defecto (se setean dos para que no tire warnings)"
   ]
  },
  {
   "cell_type": "markdown",
   "metadata": {},
   "source": [
    "Como primera aproximación, se utiliza el preprocesador utilizado en Random Forest (que usa Label Encoding para las variables categóricas) dado que este modelo también se encuentra basado en árboles. Se utilizan los parámetros por deafault."
   ]
  },
  {
   "cell_type": "code",
   "execution_count": 4,
   "metadata": {},
   "outputs": [],
   "source": [
    "pipeline = Pipeline([\n",
    "    (\"preprocessor\", pp.PreprocessingLE()),\n",
    "    (\"model\", XGBClassifier(use_label_encoder=False, eval_metric='logloss'))\n",
    "])"
   ]
  },
  {
   "cell_type": "markdown",
   "metadata": {},
   "source": [
    "#### Metricas"
   ]
  },
  {
   "cell_type": "code",
   "execution_count": 5,
   "metadata": {},
   "outputs": [
    {
     "data": {
      "text/html": [
       "<div>\n",
       "<style scoped>\n",
       "    .dataframe tbody tr th:only-of-type {\n",
       "        vertical-align: middle;\n",
       "    }\n",
       "\n",
       "    .dataframe tbody tr th {\n",
       "        vertical-align: top;\n",
       "    }\n",
       "\n",
       "    .dataframe thead th {\n",
       "        text-align: right;\n",
       "    }\n",
       "</style>\n",
       "<table border=\"1\" class=\"dataframe\">\n",
       "  <thead>\n",
       "    <tr style=\"text-align: right;\">\n",
       "      <th></th>\n",
       "      <th>Mean</th>\n",
       "      <th>Std</th>\n",
       "      <th>Oof</th>\n",
       "      <th>Max</th>\n",
       "      <th>Min</th>\n",
       "    </tr>\n",
       "  </thead>\n",
       "  <tbody>\n",
       "    <tr>\n",
       "      <th>roc auc</th>\n",
       "      <td>0.839401</td>\n",
       "      <td>0.020735</td>\n",
       "      <td>0.834562</td>\n",
       "      <td>0.875637</td>\n",
       "      <td>0.808953</td>\n",
       "    </tr>\n",
       "    <tr>\n",
       "      <th>accuracy</th>\n",
       "      <td>0.812760</td>\n",
       "      <td>0.037182</td>\n",
       "      <td>0.812734</td>\n",
       "      <td>0.880000</td>\n",
       "      <td>0.740000</td>\n",
       "    </tr>\n",
       "    <tr>\n",
       "      <th>precision</th>\n",
       "      <td>0.783802</td>\n",
       "      <td>0.059336</td>\n",
       "      <td>0.781362</td>\n",
       "      <td>0.906250</td>\n",
       "      <td>0.675676</td>\n",
       "    </tr>\n",
       "    <tr>\n",
       "      <th>recall</th>\n",
       "      <td>0.710526</td>\n",
       "      <td>0.053472</td>\n",
       "      <td>0.710098</td>\n",
       "      <td>0.789474</td>\n",
       "      <td>0.641026</td>\n",
       "    </tr>\n",
       "    <tr>\n",
       "      <th>f1 score</th>\n",
       "      <td>0.744343</td>\n",
       "      <td>0.048703</td>\n",
       "      <td>0.744027</td>\n",
       "      <td>0.828571</td>\n",
       "      <td>0.657895</td>\n",
       "    </tr>\n",
       "  </tbody>\n",
       "</table>\n",
       "</div>"
      ],
      "text/plain": [
       "               Mean       Std       Oof       Max       Min\n",
       "roc auc    0.839401  0.020735  0.834562  0.875637  0.808953\n",
       "accuracy   0.812760  0.037182  0.812734  0.880000  0.740000\n",
       "precision  0.783802  0.059336  0.781362  0.906250  0.675676\n",
       "recall     0.710526  0.053472  0.710098  0.789474  0.641026\n",
       "f1 score   0.744343  0.048703  0.744027  0.828571  0.657895"
      ]
     },
     "metadata": {},
     "output_type": "display_data"
    }
   ],
   "source": [
    "utils.metricas_cross_validation(X, y, pipeline)"
   ]
  },
  {
   "cell_type": "markdown",
   "metadata": {},
   "source": [
    "### Modelo 2"
   ]
  },
  {
   "cell_type": "markdown",
   "metadata": {},
   "source": [
    "- Se utiliza OHE para las categoricas\n",
    "- Se imputan los missings con la mediana en la edad\n",
    "- Se separa en dos bins la edad y el precio de ticket (se probó y da mejores resultados que no haciendolo)."
   ]
  },
  {
   "cell_type": "code",
   "execution_count": 6,
   "metadata": {},
   "outputs": [],
   "source": [
    "pipeline = Pipeline([\n",
    "    (\"preprocessor\", pp.PreprocessingXGBoost()),\n",
    "    (\"model\", XGBClassifier(use_label_encoder=False, eval_metric='logloss'))\n",
    "])"
   ]
  },
  {
   "cell_type": "markdown",
   "metadata": {},
   "source": [
    "#### Metricas"
   ]
  },
  {
   "cell_type": "code",
   "execution_count": 7,
   "metadata": {},
   "outputs": [
    {
     "data": {
      "text/html": [
       "<div>\n",
       "<style scoped>\n",
       "    .dataframe tbody tr th:only-of-type {\n",
       "        vertical-align: middle;\n",
       "    }\n",
       "\n",
       "    .dataframe tbody tr th {\n",
       "        vertical-align: top;\n",
       "    }\n",
       "\n",
       "    .dataframe thead th {\n",
       "        text-align: right;\n",
       "    }\n",
       "</style>\n",
       "<table border=\"1\" class=\"dataframe\">\n",
       "  <thead>\n",
       "    <tr style=\"text-align: right;\">\n",
       "      <th></th>\n",
       "      <th>Mean</th>\n",
       "      <th>Std</th>\n",
       "      <th>Oof</th>\n",
       "      <th>Max</th>\n",
       "      <th>Min</th>\n",
       "    </tr>\n",
       "  </thead>\n",
       "  <tbody>\n",
       "    <tr>\n",
       "      <th>roc auc</th>\n",
       "      <td>0.832785</td>\n",
       "      <td>0.033918</td>\n",
       "      <td>0.831967</td>\n",
       "      <td>0.903226</td>\n",
       "      <td>0.788987</td>\n",
       "    </tr>\n",
       "    <tr>\n",
       "      <th>accuracy</th>\n",
       "      <td>0.806498</td>\n",
       "      <td>0.027309</td>\n",
       "      <td>0.806492</td>\n",
       "      <td>0.850000</td>\n",
       "      <td>0.760000</td>\n",
       "    </tr>\n",
       "    <tr>\n",
       "      <th>precision</th>\n",
       "      <td>0.778990</td>\n",
       "      <td>0.043645</td>\n",
       "      <td>0.777372</td>\n",
       "      <td>0.833333</td>\n",
       "      <td>0.694444</td>\n",
       "    </tr>\n",
       "    <tr>\n",
       "      <th>recall</th>\n",
       "      <td>0.694163</td>\n",
       "      <td>0.061951</td>\n",
       "      <td>0.693811</td>\n",
       "      <td>0.815789</td>\n",
       "      <td>0.631579</td>\n",
       "    </tr>\n",
       "    <tr>\n",
       "      <th>f1 score</th>\n",
       "      <td>0.732395</td>\n",
       "      <td>0.041243</td>\n",
       "      <td>0.733219</td>\n",
       "      <td>0.794872</td>\n",
       "      <td>0.675676</td>\n",
       "    </tr>\n",
       "  </tbody>\n",
       "</table>\n",
       "</div>"
      ],
      "text/plain": [
       "               Mean       Std       Oof       Max       Min\n",
       "roc auc    0.832785  0.033918  0.831967  0.903226  0.788987\n",
       "accuracy   0.806498  0.027309  0.806492  0.850000  0.760000\n",
       "precision  0.778990  0.043645  0.777372  0.833333  0.694444\n",
       "recall     0.694163  0.061951  0.693811  0.815789  0.631579\n",
       "f1 score   0.732395  0.041243  0.733219  0.794872  0.675676"
      ]
     },
     "metadata": {},
     "output_type": "display_data"
    }
   ],
   "source": [
    "utils.metricas_cross_validation(X, y, pipeline)"
   ]
  },
  {
   "cell_type": "markdown",
   "metadata": {},
   "source": [
    "### Modelo 3"
   ]
  },
  {
   "cell_type": "markdown",
   "metadata": {},
   "source": [
    "- No se completan los Nans, se deja que XGBoost se encargue de imputarlos"
   ]
  },
  {
   "cell_type": "code",
   "execution_count": 8,
   "metadata": {},
   "outputs": [],
   "source": [
    "pipeline = Pipeline([\n",
    "    (\"preprocessor\", pp.PreprocessingXGBoost2()),\n",
    "    (\"model\", XGBClassifier(use_label_encoder=False, eval_metric='logloss'))\n",
    "])"
   ]
  },
  {
   "cell_type": "markdown",
   "metadata": {},
   "source": [
    "#### Metricas"
   ]
  },
  {
   "cell_type": "code",
   "execution_count": 9,
   "metadata": {},
   "outputs": [
    {
     "data": {
      "text/html": [
       "<div>\n",
       "<style scoped>\n",
       "    .dataframe tbody tr th:only-of-type {\n",
       "        vertical-align: middle;\n",
       "    }\n",
       "\n",
       "    .dataframe tbody tr th {\n",
       "        vertical-align: top;\n",
       "    }\n",
       "\n",
       "    .dataframe thead th {\n",
       "        text-align: right;\n",
       "    }\n",
       "</style>\n",
       "<table border=\"1\" class=\"dataframe\">\n",
       "  <thead>\n",
       "    <tr style=\"text-align: right;\">\n",
       "      <th></th>\n",
       "      <th>Mean</th>\n",
       "      <th>Std</th>\n",
       "      <th>Oof</th>\n",
       "      <th>Max</th>\n",
       "      <th>Min</th>\n",
       "    </tr>\n",
       "  </thead>\n",
       "  <tbody>\n",
       "    <tr>\n",
       "      <th>roc auc</th>\n",
       "      <td>0.833913</td>\n",
       "      <td>0.032412</td>\n",
       "      <td>0.832116</td>\n",
       "      <td>0.889219</td>\n",
       "      <td>0.786807</td>\n",
       "    </tr>\n",
       "    <tr>\n",
       "      <th>accuracy</th>\n",
       "      <td>0.811522</td>\n",
       "      <td>0.037675</td>\n",
       "      <td>0.811486</td>\n",
       "      <td>0.890000</td>\n",
       "      <td>0.770000</td>\n",
       "    </tr>\n",
       "    <tr>\n",
       "      <th>precision</th>\n",
       "      <td>0.772525</td>\n",
       "      <td>0.046493</td>\n",
       "      <td>0.772727</td>\n",
       "      <td>0.885714</td>\n",
       "      <td>0.735294</td>\n",
       "    </tr>\n",
       "    <tr>\n",
       "      <th>recall</th>\n",
       "      <td>0.720310</td>\n",
       "      <td>0.069265</td>\n",
       "      <td>0.719870</td>\n",
       "      <td>0.815789</td>\n",
       "      <td>0.641026</td>\n",
       "    </tr>\n",
       "    <tr>\n",
       "      <th>f1 score</th>\n",
       "      <td>0.744631</td>\n",
       "      <td>0.054634</td>\n",
       "      <td>0.745363</td>\n",
       "      <td>0.849315</td>\n",
       "      <td>0.684932</td>\n",
       "    </tr>\n",
       "  </tbody>\n",
       "</table>\n",
       "</div>"
      ],
      "text/plain": [
       "               Mean       Std       Oof       Max       Min\n",
       "roc auc    0.833913  0.032412  0.832116  0.889219  0.786807\n",
       "accuracy   0.811522  0.037675  0.811486  0.890000  0.770000\n",
       "precision  0.772525  0.046493  0.772727  0.885714  0.735294\n",
       "recall     0.720310  0.069265  0.719870  0.815789  0.641026\n",
       "f1 score   0.744631  0.054634  0.745363  0.849315  0.684932"
      ]
     },
     "metadata": {},
     "output_type": "display_data"
    }
   ],
   "source": [
    "utils.metricas_cross_validation(X, y, pipeline)"
   ]
  },
  {
   "cell_type": "markdown",
   "metadata": {},
   "source": [
    "### Modelo 4"
   ]
  },
  {
   "cell_type": "markdown",
   "metadata": {},
   "source": [
    "- Con el Modelo 1, se corre Grid Search para buscar los mejores hiperparametros"
   ]
  },
  {
   "cell_type": "markdown",
   "metadata": {},
   "source": [
    "Tuvimos un problema con este GridSearchCV. Por algún motivo, se quedaba estancado un largo rato en cada iteración. Para una grilla de tamaño 1 tardaba más de 10 minutos cuando entrenar el modelo por separado y aplicarle cross_validate tardaba un segundo. \n",
    "\n",
    "Por ello se probaron a mano distintas configuraciones y se dejo la que mejor resultado obtuvo"
   ]
  },
  {
   "cell_type": "code",
   "execution_count": 10,
   "metadata": {},
   "outputs": [],
   "source": [
    "pipeline = Pipeline([\n",
    "    (\"preprocessor\", pp.PreprocessingLE()),\n",
    "    (\"model\", XGBClassifier(use_label_encoder=False, scale_pos_weight=1, subsample=0.8, colsample_bytree=0.8,\n",
    "                            objective=\"binary:logistic\", n_estimators=1000, learning_rate=0.01, n_jobs=-1,\n",
    "                            eval_metric=\"logloss\", min_child_weight=6, max_depth=6, reg_alpha=0.05))\n",
    "])"
   ]
  },
  {
   "cell_type": "code",
   "execution_count": 11,
   "metadata": {},
   "outputs": [
    {
     "data": {
      "text/html": [
       "<div>\n",
       "<style scoped>\n",
       "    .dataframe tbody tr th:only-of-type {\n",
       "        vertical-align: middle;\n",
       "    }\n",
       "\n",
       "    .dataframe tbody tr th {\n",
       "        vertical-align: top;\n",
       "    }\n",
       "\n",
       "    .dataframe thead th {\n",
       "        text-align: right;\n",
       "    }\n",
       "</style>\n",
       "<table border=\"1\" class=\"dataframe\">\n",
       "  <thead>\n",
       "    <tr style=\"text-align: right;\">\n",
       "      <th></th>\n",
       "      <th>Mean</th>\n",
       "      <th>Std</th>\n",
       "      <th>Oof</th>\n",
       "      <th>Max</th>\n",
       "      <th>Min</th>\n",
       "    </tr>\n",
       "  </thead>\n",
       "  <tbody>\n",
       "    <tr>\n",
       "      <th>roc auc</th>\n",
       "      <td>0.866600</td>\n",
       "      <td>0.024098</td>\n",
       "      <td>0.864089</td>\n",
       "      <td>0.893251</td>\n",
       "      <td>0.817487</td>\n",
       "    </tr>\n",
       "    <tr>\n",
       "      <th>accuracy</th>\n",
       "      <td>0.827723</td>\n",
       "      <td>0.023254</td>\n",
       "      <td>0.827715</td>\n",
       "      <td>0.870000</td>\n",
       "      <td>0.800000</td>\n",
       "    </tr>\n",
       "    <tr>\n",
       "      <th>precision</th>\n",
       "      <td>0.810966</td>\n",
       "      <td>0.039235</td>\n",
       "      <td>0.809524</td>\n",
       "      <td>0.857143</td>\n",
       "      <td>0.750000</td>\n",
       "    </tr>\n",
       "    <tr>\n",
       "      <th>recall</th>\n",
       "      <td>0.719889</td>\n",
       "      <td>0.040472</td>\n",
       "      <td>0.719870</td>\n",
       "      <td>0.789474</td>\n",
       "      <td>0.657895</td>\n",
       "    </tr>\n",
       "    <tr>\n",
       "      <th>f1 score</th>\n",
       "      <td>0.761952</td>\n",
       "      <td>0.032137</td>\n",
       "      <td>0.762069</td>\n",
       "      <td>0.821918</td>\n",
       "      <td>0.714286</td>\n",
       "    </tr>\n",
       "  </tbody>\n",
       "</table>\n",
       "</div>"
      ],
      "text/plain": [
       "               Mean       Std       Oof       Max       Min\n",
       "roc auc    0.866600  0.024098  0.864089  0.893251  0.817487\n",
       "accuracy   0.827723  0.023254  0.827715  0.870000  0.800000\n",
       "precision  0.810966  0.039235  0.809524  0.857143  0.750000\n",
       "recall     0.719889  0.040472  0.719870  0.789474  0.657895\n",
       "f1 score   0.761952  0.032137  0.762069  0.821918  0.714286"
      ]
     },
     "metadata": {},
     "output_type": "display_data"
    }
   ],
   "source": [
    "utils.metricas_cross_validation(X, y, pipeline)"
   ]
  },
  {
   "cell_type": "code",
   "execution_count": 12,
   "metadata": {},
   "outputs": [],
   "source": [
    "params = {\n",
    "    'model__learning_rate': [0.05, 0.1, 0.3],\n",
    "    'model__max_depth': [3, 6, 10],\n",
    "    'model__n_estimators': [100, 300],\n",
    "    'model__min_child_weight': [1, 3, 5],\n",
    "    'model__gamma': [0, 0.1, 0.2],\n",
    "    'model__eval_metric': ['logloss', 'error']\n",
    "}\n",
    "\n",
    "cv = utils.kfold_for_cross_validation()\n",
    "#gscv = GridSearchCV(pipeline, params, scoring='roc_auc', n_jobs=-1, cv=8, return_train_score=True).fit(X, y)"
   ]
  },
  {
   "cell_type": "markdown",
   "metadata": {},
   "source": [
    "### Métricas finales"
   ]
  },
  {
   "cell_type": "markdown",
   "metadata": {},
   "source": [
    "Se eligió el [Modelo 4](#Modelo-4) en base a los resultados obtenidos mediante `cross_validation`."
   ]
  },
  {
   "cell_type": "code",
   "execution_count": 13,
   "metadata": {},
   "outputs": [],
   "source": [
    "pipeline = Pipeline([\n",
    "    (\"preprocessor\", pp.PreprocessingLE()),\n",
    "    (\"model\", XGBClassifier(use_label_encoder=False, scale_pos_weight=1, subsample=0.8, colsample_bytree=0.8,\n",
    "                            objective=\"binary:logistic\", n_estimators=1000, learning_rate=0.01, n_jobs=-1,\n",
    "                            eval_metric=\"logloss\", min_child_weight=6, max_depth=6, reg_alpha=0.05))\n",
    "])"
   ]
  },
  {
   "cell_type": "code",
   "execution_count": 14,
   "metadata": {},
   "outputs": [
    {
     "data": {
      "text/html": [
       "<style  type=\"text/css\" >\n",
       "</style><table id=\"T_8990e754_709c_11eb_8c0b_198804c1d932\" ><thead>    <tr>        <th class=\"col_heading level0 col0\" >AUC_ROC</th>        <th class=\"col_heading level0 col1\" >Accuracy</th>        <th class=\"col_heading level0 col2\" >Precision</th>        <th class=\"col_heading level0 col3\" >Recall</th>        <th class=\"col_heading level0 col4\" >F1 Score</th>    </tr></thead><tbody>\n",
       "                <tr>\n",
       "                                <td id=\"T_8990e754_709c_11eb_8c0b_198804c1d932row0_col0\" class=\"data row0 col0\" >0.897101</td>\n",
       "                        <td id=\"T_8990e754_709c_11eb_8c0b_198804c1d932row0_col1\" class=\"data row0 col1\" >0.867769</td>\n",
       "                        <td id=\"T_8990e754_709c_11eb_8c0b_198804c1d932row0_col2\" class=\"data row0 col2\" >0.875000</td>\n",
       "                        <td id=\"T_8990e754_709c_11eb_8c0b_198804c1d932row0_col3\" class=\"data row0 col3\" >0.760870</td>\n",
       "                        <td id=\"T_8990e754_709c_11eb_8c0b_198804c1d932row0_col4\" class=\"data row0 col4\" >0.813953</td>\n",
       "            </tr>\n",
       "    </tbody></table>"
      ],
      "text/plain": [
       "<pandas.io.formats.style.Styler at 0x7fa9bff20070>"
      ]
     },
     "metadata": {},
     "output_type": "display_data"
    },
    {
     "name": "stdout",
     "output_type": "stream",
     "text": [
      "Matriz de confusión:\n"
     ]
    },
    {
     "data": {
      "image/png": "[encoded data removed]",
      "text/plain": [
       "<Figure size 432x288 with 2 Axes>"
      ]
     },
     "metadata": {
      "needs_background": "light"
     },
     "output_type": "display_data"
    }
   ],
   "source": [
    "pipeline = utils.entrenar_y_realizar_prediccion_final_con_metricas(X, y, pipeline)"
   ]
  },
  {
   "cell_type": "markdown",
   "metadata": {},
   "source": [
    "### Predicción HoldOut"
   ]
  },
  {
   "cell_type": "code",
   "execution_count": 15,
   "metadata": {},
   "outputs": [],
   "source": [
    "utils.predecir_holdout_y_generar_csv(pipeline, 'Predicciones/4-XGBoost.csv')"
   ]
  }
 ],
 "metadata": {
  "jupytext": {
   "encoding": "# -*- coding: utf-8 -*-",
   "formats": "ipynb,py:light"
  },
  "kernelspec": {
   "display_name": "Python 3",
   "language": "python",
   "name": "python3"
  },
  "language_info": {
   "codemirror_mode": {
    "name": "ipython",
    "version": 3
   },
   "file_extension": ".py",
   "mimetype": "text/x-python",
   "name": "python",
   "nbconvert_exporter": "python",
   "pygments_lexer": "ipython3",
   "version": "3.8.5"
  }
 },
 "nbformat": 4,
 "nbformat_minor": 4
}
