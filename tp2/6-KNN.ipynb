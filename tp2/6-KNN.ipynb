{
 "cells": [
  {
   "cell_type": "code",
   "execution_count": 1,
   "metadata": {},
   "outputs": [],
   "source": [
    "import pandas as pd\n",
    "import preprocessing as pp\n",
    "import utils as utils\n",
    "import numpy as np\n",
    "from sklearn.model_selection import GridSearchCV, RandomizedSearchCV\n",
    "from sklearn.neighbors import KNeighborsClassifier\n",
    "pd.set_option('mode.chained_assignment', None)\n",
    "import warnings\n",
    "warnings.simplefilter(action='ignore', category=FutureWarning)\n",
    "from sklearn.pipeline import Pipeline"
   ]
  },
  {
   "cell_type": "code",
   "execution_count": 2,
   "metadata": {},
   "outputs": [],
   "source": [
    "import random\n",
    "seed = 100\n",
    "np.random.seed(seed)\n",
    "random.seed(seed)"
   ]
  },
  {
   "cell_type": "code",
   "execution_count": 3,
   "metadata": {},
   "outputs": [],
   "source": [
    "X, y = utils.importar_datos()"
   ]
  },
  {
   "cell_type": "markdown",
   "metadata": {},
   "source": [
    "### Modelo 1"
   ]
  },
  {
   "cell_type": "markdown",
   "metadata": {},
   "source": [
    "- Preprocesamiento con StandardScaler\n",
    "- Estimación de Hiperparametros con GridSearchCV\n",
    "- Estimación de algortimo con GridSearchCV"
   ]
  },
  {
   "cell_type": "code",
   "execution_count": 4,
   "metadata": {},
   "outputs": [],
   "source": [
    "preprocessor = pp.PreprocessingSE()\n",
    "model = KNeighborsClassifier(n_jobs=-1)"
   ]
  },
  {
   "cell_type": "code",
   "execution_count": 5,
   "metadata": {},
   "outputs": [],
   "source": [
    "pipeline = Pipeline([(\"preprocessor\", preprocessor), \n",
    "                     (\"model\", model)\n",
    "                     ])"
   ]
  },
  {
   "cell_type": "code",
   "execution_count": 6,
   "metadata": {},
   "outputs": [
    {
     "name": "stdout",
     "output_type": "stream",
     "text": [
      "0.850288112738014\n",
      "{'model__algorithm': 'kd_tree', 'model__n_neighbors': 21, 'model__weights': 'uniform'}\n"
     ]
    }
   ],
   "source": [
    "params = {'model__n_neighbors': np.arange(1, 50, 5), 'model__weights': ['uniform', 'distance'], \n",
    "          'model__algorithm': ['ball_tree', 'kd_tree', 'brute']}\n",
    "cv = utils.kfold_for_cross_validation()\n",
    "#rgscv = GridSearchCV(\n",
    "#    pipeline, params, scoring='roc_auc', n_jobs=-1, cv=cv, return_train_score=True\n",
    "#).fit(X, y)\n",
    "#print(rgscv.best_score_)\n",
    "#print(rgscv.best_params_)"
   ]
  },
  {
   "cell_type": "code",
   "execution_count": 7,
   "metadata": {},
   "outputs": [
    {
     "name": "stdout",
     "output_type": "stream",
     "text": [
      "0.8564403705563179\n",
      "{'model__metric': 'manhattan', 'model__n_neighbors': 21, 'model__weights': 'uniform'}\n"
     ]
    }
   ],
   "source": [
    "from sklearn.neighbors import KDTree\n",
    "\n",
    "params = {'model__n_neighbors': np.arange(1, 50, 5), 'model__weights': ['uniform', 'distance'], \n",
    "          'model__metric': KDTree.valid_metrics}\n",
    "cv = utils.kfold_for_cross_validation()\n",
    "#rgscv = GridSearchCV(\n",
    "#    pipeline, params, scoring='roc_auc', n_jobs=-1, cv=cv, return_train_score=True\n",
    "#).fit(X, y)\n",
    "#print(rgscv.best_score_)\n",
    "#print(rgscv.best_params_)"
   ]
  },
  {
   "cell_type": "code",
   "execution_count": 8,
   "metadata": {},
   "outputs": [],
   "source": [
    "model = KNeighborsClassifier(n_jobs=-1, n_neighbors=21, algorithm='kd_tree', weights='uniform', metric='manhattan')"
   ]
  },
  {
   "cell_type": "code",
   "execution_count": 9,
   "metadata": {},
   "outputs": [],
   "source": [
    "pipeline = Pipeline([(\"preprocessor\", preprocessor), \n",
    "                     (\"model\", model)\n",
    "                     ])"
   ]
  },
  {
   "cell_type": "markdown",
   "metadata": {},
   "source": [
    "#### Metricas"
   ]
  },
  {
   "cell_type": "code",
   "execution_count": 10,
   "metadata": {},
   "outputs": [
    {
     "data": {
      "text/html": [
       "<div>\n",
       "<style scoped>\n",
       "    .dataframe tbody tr th:only-of-type {\n",
       "        vertical-align: middle;\n",
       "    }\n",
       "\n",
       "    .dataframe tbody tr th {\n",
       "        vertical-align: top;\n",
       "    }\n",
       "\n",
       "    .dataframe thead th {\n",
       "        text-align: right;\n",
       "    }\n",
       "</style>\n",
       "<table border=\"1\" class=\"dataframe\">\n",
       "  <thead>\n",
       "    <tr style=\"text-align: right;\">\n",
       "      <th></th>\n",
       "      <th>Mean</th>\n",
       "      <th>Std</th>\n",
       "      <th>Oof</th>\n",
       "      <th>Max</th>\n",
       "      <th>Min</th>\n",
       "    </tr>\n",
       "  </thead>\n",
       "  <tbody>\n",
       "    <tr>\n",
       "      <th>roc auc</th>\n",
       "      <td>0.856440</td>\n",
       "      <td>0.015642</td>\n",
       "      <td>0.852827</td>\n",
       "      <td>0.885187</td>\n",
       "      <td>0.829796</td>\n",
       "    </tr>\n",
       "    <tr>\n",
       "      <th>accuracy</th>\n",
       "      <td>0.805285</td>\n",
       "      <td>0.025605</td>\n",
       "      <td>0.805243</td>\n",
       "      <td>0.840000</td>\n",
       "      <td>0.770000</td>\n",
       "    </tr>\n",
       "    <tr>\n",
       "      <th>precision</th>\n",
       "      <td>0.799942</td>\n",
       "      <td>0.041241</td>\n",
       "      <td>0.798419</td>\n",
       "      <td>0.892857</td>\n",
       "      <td>0.758621</td>\n",
       "    </tr>\n",
       "    <tr>\n",
       "      <th>recall</th>\n",
       "      <td>0.658148</td>\n",
       "      <td>0.063045</td>\n",
       "      <td>0.657980</td>\n",
       "      <td>0.743590</td>\n",
       "      <td>0.564103</td>\n",
       "    </tr>\n",
       "    <tr>\n",
       "      <th>f1 score</th>\n",
       "      <td>0.720332</td>\n",
       "      <td>0.043437</td>\n",
       "      <td>0.721429</td>\n",
       "      <td>0.763158</td>\n",
       "      <td>0.656716</td>\n",
       "    </tr>\n",
       "  </tbody>\n",
       "</table>\n",
       "</div>"
      ],
      "text/plain": [
       "               Mean       Std       Oof       Max       Min\n",
       "roc auc    0.856440  0.015642  0.852827  0.885187  0.829796\n",
       "accuracy   0.805285  0.025605  0.805243  0.840000  0.770000\n",
       "precision  0.799942  0.041241  0.798419  0.892857  0.758621\n",
       "recall     0.658148  0.063045  0.657980  0.743590  0.564103\n",
       "f1 score   0.720332  0.043437  0.721429  0.763158  0.656716"
      ]
     },
     "metadata": {},
     "output_type": "display_data"
    }
   ],
   "source": [
    "utils.metricas_cross_validation(X, y, pipeline)"
   ]
  },
  {
   "cell_type": "markdown",
   "metadata": {},
   "source": [
    "### Modelo 2"
   ]
  },
  {
   "cell_type": "markdown",
   "metadata": {},
   "source": [
    "- Algoritmo ball-tree\n",
    "- Preprocesamiento con StandardScaler\n",
    "- Estimación de metrica mediante GridSearchCV"
   ]
  },
  {
   "cell_type": "code",
   "execution_count": 11,
   "metadata": {},
   "outputs": [],
   "source": [
    "preprocessor = pp.PreprocessingSE()\n",
    "model = KNeighborsClassifier(n_jobs=-1, algorithm='ball_tree')"
   ]
  },
  {
   "cell_type": "code",
   "execution_count": 12,
   "metadata": {},
   "outputs": [],
   "source": [
    "pipeline = Pipeline([(\"preprocessor\", preprocessor), \n",
    "                     (\"model\", model)\n",
    "                     ])"
   ]
  },
  {
   "cell_type": "code",
   "execution_count": 13,
   "metadata": {},
   "outputs": [],
   "source": [
    "from sklearn.neighbors import BallTree\n",
    "\n",
    "params = {'model__n_neighbors': np.arange(1, 50, 5), 'model__weights': ['uniform', 'distance'], \n",
    "          'model__metric': BallTree.valid_metrics}\n",
    "cv = utils.kfold_for_cross_validation()\n",
    "#gscv = GridSearchCV(\n",
    "#    pipeline, params, scoring='roc_auc', n_jobs=-1, cv=cv, return_train_score=True\n",
    "#).fit(X, y)"
   ]
  },
  {
   "cell_type": "code",
   "execution_count": 14,
   "metadata": {},
   "outputs": [
    {
     "data": {
      "text/plain": [
       "0.8550171242286246"
      ]
     },
     "execution_count": 14,
     "metadata": {},
     "output_type": "execute_result"
    }
   ],
   "source": [
    "#gscv.best_score_"
   ]
  },
  {
   "cell_type": "code",
   "execution_count": 15,
   "metadata": {},
   "outputs": [
    {
     "data": {
      "text/plain": [
       "{'model__metric': 'canberra',\n",
       " 'model__n_neighbors': 31,\n",
       " 'model__weights': 'uniform'}"
      ]
     },
     "execution_count": 15,
     "metadata": {},
     "output_type": "execute_result"
    }
   ],
   "source": [
    "#gscv.best_params_"
   ]
  },
  {
   "cell_type": "code",
   "execution_count": 16,
   "metadata": {},
   "outputs": [],
   "source": [
    "preprocessor = pp.PreprocessingSE()\n",
    "model = KNeighborsClassifier(n_jobs=-1, algorithm='ball_tree', n_neighbors=21, weights='uniform', metric='canberra')"
   ]
  },
  {
   "cell_type": "code",
   "execution_count": 17,
   "metadata": {},
   "outputs": [],
   "source": [
    "pipeline = Pipeline([(\"preprocessor\", preprocessor), \n",
    "                     (\"model\", model)\n",
    "                     ])"
   ]
  },
  {
   "cell_type": "markdown",
   "metadata": {},
   "source": [
    "#### Metricas"
   ]
  },
  {
   "cell_type": "code",
   "execution_count": 18,
   "metadata": {},
   "outputs": [
    {
     "data": {
      "text/html": [
       "<div>\n",
       "<style scoped>\n",
       "    .dataframe tbody tr th:only-of-type {\n",
       "        vertical-align: middle;\n",
       "    }\n",
       "\n",
       "    .dataframe tbody tr th {\n",
       "        vertical-align: top;\n",
       "    }\n",
       "\n",
       "    .dataframe thead th {\n",
       "        text-align: right;\n",
       "    }\n",
       "</style>\n",
       "<table border=\"1\" class=\"dataframe\">\n",
       "  <thead>\n",
       "    <tr style=\"text-align: right;\">\n",
       "      <th></th>\n",
       "      <th>Mean</th>\n",
       "      <th>Std</th>\n",
       "      <th>Oof</th>\n",
       "      <th>Max</th>\n",
       "      <th>Min</th>\n",
       "    </tr>\n",
       "  </thead>\n",
       "  <tbody>\n",
       "    <tr>\n",
       "      <th>roc auc</th>\n",
       "      <td>0.850690</td>\n",
       "      <td>0.024592</td>\n",
       "      <td>0.849203</td>\n",
       "      <td>0.888795</td>\n",
       "      <td>0.810059</td>\n",
       "    </tr>\n",
       "    <tr>\n",
       "      <th>accuracy</th>\n",
       "      <td>0.792797</td>\n",
       "      <td>0.027840</td>\n",
       "      <td>0.792759</td>\n",
       "      <td>0.830000</td>\n",
       "      <td>0.740000</td>\n",
       "    </tr>\n",
       "    <tr>\n",
       "      <th>precision</th>\n",
       "      <td>0.798954</td>\n",
       "      <td>0.045607</td>\n",
       "      <td>0.797468</td>\n",
       "      <td>0.888889</td>\n",
       "      <td>0.724138</td>\n",
       "    </tr>\n",
       "    <tr>\n",
       "      <th>recall</th>\n",
       "      <td>0.616059</td>\n",
       "      <td>0.056124</td>\n",
       "      <td>0.615635</td>\n",
       "      <td>0.710526</td>\n",
       "      <td>0.538462</td>\n",
       "    </tr>\n",
       "    <tr>\n",
       "      <th>f1 score</th>\n",
       "      <td>0.694315</td>\n",
       "      <td>0.043962</td>\n",
       "      <td>0.694853</td>\n",
       "      <td>0.739726</td>\n",
       "      <td>0.617647</td>\n",
       "    </tr>\n",
       "  </tbody>\n",
       "</table>\n",
       "</div>"
      ],
      "text/plain": [
       "               Mean       Std       Oof       Max       Min\n",
       "roc auc    0.850690  0.024592  0.849203  0.888795  0.810059\n",
       "accuracy   0.792797  0.027840  0.792759  0.830000  0.740000\n",
       "precision  0.798954  0.045607  0.797468  0.888889  0.724138\n",
       "recall     0.616059  0.056124  0.615635  0.710526  0.538462\n",
       "f1 score   0.694315  0.043962  0.694853  0.739726  0.617647"
      ]
     },
     "metadata": {},
     "output_type": "display_data"
    }
   ],
   "source": [
    "utils.metricas_cross_validation(X, y, pipeline)"
   ]
  },
  {
   "cell_type": "markdown",
   "metadata": {},
   "source": [
    "### Metricas finales"
   ]
  },
  {
   "cell_type": "markdown",
   "metadata": {},
   "source": [
    "Se eligió el [Modelo 1](#Modelo-1) en base a los resultados obtenidos mediante `cross_validation`."
   ]
  },
  {
   "cell_type": "code",
   "execution_count": 19,
   "metadata": {},
   "outputs": [],
   "source": [
    "preprocessor = pp.PreprocessingSE()\n",
    "model = KNeighborsClassifier(n_jobs=-1, n_neighbors=21, algorithm='kd_tree', weights='uniform', metric='manhattan')"
   ]
  },
  {
   "cell_type": "code",
   "execution_count": 20,
   "metadata": {},
   "outputs": [],
   "source": [
    "pipeline = Pipeline([(\"preprocessor\", preprocessor), \n",
    "                     (\"model\", model)\n",
    "                     ])"
   ]
  },
  {
   "cell_type": "code",
   "execution_count": 21,
   "metadata": {},
   "outputs": [
    {
     "data": {
      "text/html": [
       "<style  type=\"text/css\" >\n",
       "</style><table id=\"T_23bdf5e2_7093_11eb_8c0b_198804c1d932\" ><thead>    <tr>        <th class=\"col_heading level0 col0\" >AUC_ROC</th>        <th class=\"col_heading level0 col1\" >Accuracy</th>        <th class=\"col_heading level0 col2\" >Precision</th>        <th class=\"col_heading level0 col3\" >Recall</th>        <th class=\"col_heading level0 col4\" >F1 Score</th>    </tr></thead><tbody>\n",
       "                <tr>\n",
       "                                <td id=\"T_23bdf5e2_7093_11eb_8c0b_198804c1d932row0_col0\" class=\"data row0 col0\" >0.870870</td>\n",
       "                        <td id=\"T_23bdf5e2_7093_11eb_8c0b_198804c1d932row0_col1\" class=\"data row0 col1\" >0.834711</td>\n",
       "                        <td id=\"T_23bdf5e2_7093_11eb_8c0b_198804c1d932row0_col2\" class=\"data row0 col2\" >0.861111</td>\n",
       "                        <td id=\"T_23bdf5e2_7093_11eb_8c0b_198804c1d932row0_col3\" class=\"data row0 col3\" >0.673913</td>\n",
       "                        <td id=\"T_23bdf5e2_7093_11eb_8c0b_198804c1d932row0_col4\" class=\"data row0 col4\" >0.756098</td>\n",
       "            </tr>\n",
       "    </tbody></table>"
      ],
      "text/plain": [
       "<pandas.io.formats.style.Styler at 0x7f58660fa8e0>"
      ]
     },
     "metadata": {},
     "output_type": "display_data"
    },
    {
     "name": "stdout",
     "output_type": "stream",
     "text": [
      "Matriz de confusión:\n"
     ]
    },
    {
     "data": {
      "image/png": "[encoded data removed]",
      "text/plain": [
       "<Figure size 432x288 with 2 Axes>"
      ]
     },
     "metadata": {
      "needs_background": "light"
     },
     "output_type": "display_data"
    }
   ],
   "source": [
    "pipeline = utils.entrenar_y_realizar_prediccion_final_con_metricas(X, y, pipeline)"
   ]
  },
  {
   "cell_type": "markdown",
   "metadata": {},
   "source": [
    "### Predicción HoldOut"
   ]
  },
  {
   "cell_type": "code",
   "execution_count": 22,
   "metadata": {},
   "outputs": [],
   "source": [
    "utils.predecir_holdout_y_generar_csv(pipeline, 'Predicciones/6-KNN.csv')"
   ]
  }
 ],
 "metadata": {
  "jupytext": {
   "encoding": "# -*- coding: utf-8 -*-",
   "formats": "ipynb,py:light"
  },
  "kernelspec": {
   "display_name": "Python 3",
   "language": "python",
   "name": "python3"
  },
  "language_info": {
   "codemirror_mode": {
    "name": "ipython",
    "version": 3
   },
   "file_extension": ".py",
   "mimetype": "text/x-python",
   "name": "python",
   "nbconvert_exporter": "python",
   "pygments_lexer": "ipython3",
   "version": "3.8.5"
  }
 },
 "nbformat": 4,
 "nbformat_minor": 4
}
