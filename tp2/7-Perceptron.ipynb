{
 "cells": [
  {
   "cell_type": "code",
   "execution_count": 1,
   "metadata": {},
   "outputs": [],
   "source": [
    "import pandas as pd\n",
    "import preprocessing as pp\n",
    "import utils as utils\n",
    "import numpy as np\n",
    "pd.set_option('mode.chained_assignment', None)\n",
    "import warnings\n",
    "warnings.simplefilter(action='ignore', category=FutureWarning)\n",
    "warnings.simplefilter(action='ignore', category=UserWarning)\n",
    "from sklearn.pipeline import Pipeline\n",
    "from sklearn.linear_model import Perceptron"
   ]
  },
  {
   "cell_type": "code",
   "execution_count": 2,
   "metadata": {},
   "outputs": [],
   "source": [
    "import random\n",
    "seed = 100\n",
    "np.random.seed(seed)\n",
    "random.seed(seed)"
   ]
  },
  {
   "cell_type": "code",
   "execution_count": 3,
   "metadata": {},
   "outputs": [],
   "source": [
    "X, y = utils.importar_datos()"
   ]
  },
  {
   "cell_type": "markdown",
   "metadata": {},
   "source": [
    "### Modelo 1"
   ]
  },
  {
   "cell_type": "markdown",
   "metadata": {},
   "source": [
    "- Preprocesamiento con StandardScaler\n",
    "- Preprocesamiento de variables categoricas con OneHotEncoding\n",
    "- Perceptron lineal de sklearn"
   ]
  },
  {
   "cell_type": "code",
   "execution_count": 4,
   "metadata": {},
   "outputs": [],
   "source": [
    "pipeline = Pipeline([\n",
    "    (\"preprocessor\", pp.PreprocessingSE()),\n",
    "    (\"model\", Perceptron(random_state=pp.RANDOM_STATE))\n",
    "])"
   ]
  },
  {
   "cell_type": "markdown",
   "metadata": {},
   "source": [
    "#### Metricas"
   ]
  },
  {
   "cell_type": "code",
   "execution_count": 5,
   "metadata": {},
   "outputs": [
    {
     "data": {
      "text/html": [
       "<div>\n",
       "<style scoped>\n",
       "    .dataframe tbody tr th:only-of-type {\n",
       "        vertical-align: middle;\n",
       "    }\n",
       "\n",
       "    .dataframe tbody tr th {\n",
       "        vertical-align: top;\n",
       "    }\n",
       "\n",
       "    .dataframe thead th {\n",
       "        text-align: right;\n",
       "    }\n",
       "</style>\n",
       "<table border=\"1\" class=\"dataframe\">\n",
       "  <thead>\n",
       "    <tr style=\"text-align: right;\">\n",
       "      <th></th>\n",
       "      <th>Mean</th>\n",
       "      <th>Std</th>\n",
       "      <th>Oof</th>\n",
       "      <th>Max</th>\n",
       "      <th>Min</th>\n",
       "    </tr>\n",
       "  </thead>\n",
       "  <tbody>\n",
       "    <tr>\n",
       "      <th>roc auc</th>\n",
       "      <td>0.790483</td>\n",
       "      <td>0.056410</td>\n",
       "      <td>0.767216</td>\n",
       "      <td>0.871180</td>\n",
       "      <td>0.699915</td>\n",
       "    </tr>\n",
       "    <tr>\n",
       "      <th>accuracy</th>\n",
       "      <td>0.746572</td>\n",
       "      <td>0.044386</td>\n",
       "      <td>0.746567</td>\n",
       "      <td>0.830000</td>\n",
       "      <td>0.660000</td>\n",
       "    </tr>\n",
       "    <tr>\n",
       "      <th>precision</th>\n",
       "      <td>0.740461</td>\n",
       "      <td>0.106894</td>\n",
       "      <td>0.720339</td>\n",
       "      <td>0.937500</td>\n",
       "      <td>0.625000</td>\n",
       "    </tr>\n",
       "    <tr>\n",
       "      <th>recall</th>\n",
       "      <td>0.553559</td>\n",
       "      <td>0.168589</td>\n",
       "      <td>0.553746</td>\n",
       "      <td>0.789474</td>\n",
       "      <td>0.263158</td>\n",
       "    </tr>\n",
       "    <tr>\n",
       "      <th>f1 score</th>\n",
       "      <td>0.612563</td>\n",
       "      <td>0.111082</td>\n",
       "      <td>0.626151</td>\n",
       "      <td>0.767123</td>\n",
       "      <td>0.370370</td>\n",
       "    </tr>\n",
       "  </tbody>\n",
       "</table>\n",
       "</div>"
      ],
      "text/plain": [
       "               Mean       Std       Oof       Max       Min\n",
       "roc auc    0.790483  0.056410  0.767216  0.871180  0.699915\n",
       "accuracy   0.746572  0.044386  0.746567  0.830000  0.660000\n",
       "precision  0.740461  0.106894  0.720339  0.937500  0.625000\n",
       "recall     0.553559  0.168589  0.553746  0.789474  0.263158\n",
       "f1 score   0.612563  0.111082  0.626151  0.767123  0.370370"
      ]
     },
     "metadata": {},
     "output_type": "display_data"
    }
   ],
   "source": [
    "utils.metricas_cross_validation(X, y, pipeline, True)"
   ]
  },
  {
   "cell_type": "markdown",
   "metadata": {},
   "source": [
    "El mal resultado se puede deber a que los datos no son linealmente separables."
   ]
  },
  {
   "cell_type": "markdown",
   "metadata": {},
   "source": [
    "### Modelo 2"
   ]
  },
  {
   "cell_type": "markdown",
   "metadata": {},
   "source": [
    "- Se utiliza el mismo preprocesamiento que en el modelo anterior\n",
    "- Se buscan hiperparámetros para ver si mejora el score, de lo contrario se descarta el modelo."
   ]
  },
  {
   "cell_type": "code",
   "execution_count": 6,
   "metadata": {},
   "outputs": [],
   "source": [
    "pipeline = Pipeline([\n",
    "    (\"preprocessor\", pp.PreprocessingSE()),\n",
    "    (\"model\", Perceptron(random_state=pp.RANDOM_STATE, n_jobs=-1))\n",
    "])"
   ]
  },
  {
   "cell_type": "code",
   "execution_count": 7,
   "metadata": {},
   "outputs": [],
   "source": [
    "#from sklearn.model_selection import GridSearchCV\n",
    "#params = {\n",
    "#    'model__penalty': [\"elasticnet\"],\n",
    "#    'model__alpha': [0.0001, 0.001, 0.00001],\n",
    "#    'model__l1_ratio': [0, 0.15, 0.4, 0.5, 0.3, 1],\n",
    "#    'model__max_iter': [1000, 2000],\n",
    "#    'model__early_stopping': [True, False],\n",
    "#    'model__n_iter_no_change': [5, 30, 60],\n",
    "#    'model__eta0': [1, 0.9, 0.5, 1.2]\n",
    "#}\n",
    "\n",
    "#cv = utils.kfold_for_cross_validation()\n",
    "#gscv = GridSearchCV(\n",
    "#    pipeline, params, scoring='roc_auc', n_jobs=-1, cv=cv, return_train_score=True, refit=True\n",
    "#).fit(X, y)\n",
    "#print(gscv.best_score_)\n",
    "#print(gscv.best_params_)"
   ]
  },
  {
   "cell_type": "code",
   "execution_count": 8,
   "metadata": {},
   "outputs": [],
   "source": [
    "#gscv.best_estimator_"
   ]
  },
  {
   "cell_type": "code",
   "execution_count": 9,
   "metadata": {},
   "outputs": [],
   "source": [
    "pipeline = Pipeline([\n",
    "    (\"preprocessor\", pp.PreprocessingSE()),\n",
    "    (\"model\", Perceptron(random_state=pp.RANDOM_STATE, \n",
    "                         n_jobs=-1,\n",
    "                         alpha=0.0001,\n",
    "                         early_stopping=True,\n",
    "                         n_iter_no_change=30,\n",
    "                         l1_ratio=0.3,\n",
    "                         max_iter=1000,\n",
    "                         penalty='elasticnet',\n",
    "                         eta0=0.9\n",
    "                        ))\n",
    "])"
   ]
  },
  {
   "cell_type": "markdown",
   "metadata": {},
   "source": [
    "#### Metricas"
   ]
  },
  {
   "cell_type": "code",
   "execution_count": 10,
   "metadata": {},
   "outputs": [
    {
     "data": {
      "text/html": [
       "<div>\n",
       "<style scoped>\n",
       "    .dataframe tbody tr th:only-of-type {\n",
       "        vertical-align: middle;\n",
       "    }\n",
       "\n",
       "    .dataframe tbody tr th {\n",
       "        vertical-align: top;\n",
       "    }\n",
       "\n",
       "    .dataframe thead th {\n",
       "        text-align: right;\n",
       "    }\n",
       "</style>\n",
       "<table border=\"1\" class=\"dataframe\">\n",
       "  <thead>\n",
       "    <tr style=\"text-align: right;\">\n",
       "      <th></th>\n",
       "      <th>Mean</th>\n",
       "      <th>Std</th>\n",
       "      <th>Oof</th>\n",
       "      <th>Max</th>\n",
       "      <th>Min</th>\n",
       "    </tr>\n",
       "  </thead>\n",
       "  <tbody>\n",
       "    <tr>\n",
       "      <th>roc auc</th>\n",
       "      <td>0.785234</td>\n",
       "      <td>0.095997</td>\n",
       "      <td>0.776804</td>\n",
       "      <td>0.865238</td>\n",
       "      <td>0.545840</td>\n",
       "    </tr>\n",
       "    <tr>\n",
       "      <th>accuracy</th>\n",
       "      <td>0.706535</td>\n",
       "      <td>0.112740</td>\n",
       "      <td>0.706617</td>\n",
       "      <td>0.800000</td>\n",
       "      <td>0.470000</td>\n",
       "    </tr>\n",
       "    <tr>\n",
       "      <th>precision</th>\n",
       "      <td>0.643226</td>\n",
       "      <td>0.148297</td>\n",
       "      <td>0.600000</td>\n",
       "      <td>0.814815</td>\n",
       "      <td>0.372881</td>\n",
       "    </tr>\n",
       "    <tr>\n",
       "      <th>recall</th>\n",
       "      <td>0.702513</td>\n",
       "      <td>0.101947</td>\n",
       "      <td>0.703583</td>\n",
       "      <td>0.871795</td>\n",
       "      <td>0.578947</td>\n",
       "    </tr>\n",
       "    <tr>\n",
       "      <th>f1 score</th>\n",
       "      <td>0.655913</td>\n",
       "      <td>0.084128</td>\n",
       "      <td>0.647676</td>\n",
       "      <td>0.736842</td>\n",
       "      <td>0.453608</td>\n",
       "    </tr>\n",
       "  </tbody>\n",
       "</table>\n",
       "</div>"
      ],
      "text/plain": [
       "               Mean       Std       Oof       Max       Min\n",
       "roc auc    0.785234  0.095997  0.776804  0.865238  0.545840\n",
       "accuracy   0.706535  0.112740  0.706617  0.800000  0.470000\n",
       "precision  0.643226  0.148297  0.600000  0.814815  0.372881\n",
       "recall     0.702513  0.101947  0.703583  0.871795  0.578947\n",
       "f1 score   0.655913  0.084128  0.647676  0.736842  0.453608"
      ]
     },
     "metadata": {},
     "output_type": "display_data"
    }
   ],
   "source": [
    "utils.metricas_cross_validation(X, y, pipeline, True)"
   ]
  },
  {
   "cell_type": "markdown",
   "metadata": {},
   "source": [
    "### Metricas finales"
   ]
  },
  {
   "cell_type": "code",
   "execution_count": 11,
   "metadata": {},
   "outputs": [],
   "source": [
    "pipeline = Pipeline([\n",
    "    (\"preprocessor\", pp.PreprocessingSE()),\n",
    "    (\"model\", Perceptron(random_state=pp.RANDOM_STATE, \n",
    "                         n_jobs=-1,\n",
    "                         alpha=0.0001,\n",
    "                         early_stopping=True,\n",
    "                         n_iter_no_change=30,\n",
    "                         l1_ratio=0.3,\n",
    "                         max_iter=1000,\n",
    "                         penalty='elasticnet',\n",
    "                         eta0=0.9\n",
    "                        ))\n",
    "])"
   ]
  },
  {
   "cell_type": "code",
   "execution_count": 12,
   "metadata": {},
   "outputs": [
    {
     "data": {
      "text/html": [
       "<style  type=\"text/css\" >\n",
       "</style><table id=\"T_205aa112_7dc1_11eb_a439_8c85903cd26f\" ><thead>    <tr>        <th class=\"col_heading level0 col0\" >AUC_ROC</th>        <th class=\"col_heading level0 col1\" >Accuracy</th>        <th class=\"col_heading level0 col2\" >Precision</th>        <th class=\"col_heading level0 col3\" >Recall</th>        <th class=\"col_heading level0 col4\" >F1 Score</th>    </tr></thead><tbody>\n",
       "                <tr>\n",
       "                                <td id=\"T_205aa112_7dc1_11eb_a439_8c85903cd26frow0_col0\" class=\"data row0 col0\" >0.607101</td>\n",
       "                        <td id=\"T_205aa112_7dc1_11eb_a439_8c85903cd26frow0_col1\" class=\"data row0 col1\" >0.479339</td>\n",
       "                        <td id=\"T_205aa112_7dc1_11eb_a439_8c85903cd26frow0_col2\" class=\"data row0 col2\" >0.397590</td>\n",
       "                        <td id=\"T_205aa112_7dc1_11eb_a439_8c85903cd26frow0_col3\" class=\"data row0 col3\" >0.717391</td>\n",
       "                        <td id=\"T_205aa112_7dc1_11eb_a439_8c85903cd26frow0_col4\" class=\"data row0 col4\" >0.511628</td>\n",
       "            </tr>\n",
       "    </tbody></table>"
      ],
      "text/plain": [
       "<pandas.io.formats.style.Styler at 0x12aa64f10>"
      ]
     },
     "metadata": {},
     "output_type": "display_data"
    },
    {
     "name": "stdout",
     "output_type": "stream",
     "text": [
      "Matriz de confusión:\n"
     ]
    },
    {
     "data": {
      "image/png": "[encoded data removed]",
      "text/plain": [
       "<Figure size 432x288 with 2 Axes>"
      ]
     },
     "metadata": {
      "needs_background": "light"
     },
     "output_type": "display_data"
    }
   ],
   "source": [
    "pipeline = utils.entrenar_y_realizar_prediccion_final_con_metricas(X, y, pipeline, True)"
   ]
  },
  {
   "cell_type": "markdown",
   "metadata": {},
   "source": [
    "Los resultados obtenidos fueron muy malos por lo que se abandonó el modelo. Como puede verse, el modelo tiene una muy alta tasa de Falsos Positivos, afectando negativamente a todas las métricas. Esto puede deberse a que los datos no sean lineamente separables."
   ]
  }
 ],
 "metadata": {
  "jupytext": {
   "encoding": "# -*- coding: utf-8 -*-",
   "formats": "ipynb,py:light"
  },
  "kernelspec": {
   "display_name": "Python 3",
   "language": "python",
   "name": "python3"
  },
  "language_info": {
   "codemirror_mode": {
    "name": "ipython",
    "version": 3
   },
   "file_extension": ".py",
   "mimetype": "text/x-python",
   "name": "python",
   "nbconvert_exporter": "python",
   "pygments_lexer": "ipython3",
   "version": "3.8.2"
  }
 },
 "nbformat": 4,
 "nbformat_minor": 4
}
