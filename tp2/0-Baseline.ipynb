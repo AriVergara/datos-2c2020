{
 "cells": [
  {
   "cell_type": "code",
   "execution_count": 8,
   "metadata": {},
   "outputs": [],
   "source": [
    "import pandas as pd\n",
    "import utils as utils\n",
    "import numpy as np\n",
    "import preprocessing as pp\n",
    "from sklearn.model_selection import train_test_split\n",
    "from sklearn.metrics import accuracy_score, roc_auc_score, f1_score, precision_score, recall_score"
   ]
  },
  {
   "cell_type": "code",
   "execution_count": 9,
   "metadata": {},
   "outputs": [],
   "source": [
    "import random\n",
    "seed = 100\n",
    "np.random.seed(seed)\n",
    "random.seed(seed)"
   ]
  },
  {
   "cell_type": "code",
   "execution_count": 10,
   "metadata": {},
   "outputs": [],
   "source": [
    "X, y = utils.importar_datos()"
   ]
  },
  {
   "cell_type": "code",
   "execution_count": null,
   "metadata": {},
   "outputs": [],
   "source": [
    "X[~(X[\"genero\"] == \"hombre\") & ~(X[\"tipo_de_sala\"] == \"4d\")].tipo_de_sala.value_counts()"
   ]
  },
  {
   "cell_type": "markdown",
   "metadata": {},
   "source": [
    "### Modelo 0"
   ]
  },
  {
   "cell_type": "code",
   "execution_count": null,
   "metadata": {},
   "outputs": [],
   "source": [
    "X_train, X_test, y_train, y_test = train_test_split(X, y, test_size=0.15, \n",
    "                                                    random_state=pp.RANDOM_STATE, stratify=y)"
   ]
  },
  {
   "cell_type": "code",
   "execution_count": null,
   "metadata": {},
   "outputs": [],
   "source": [
    "def clasificar_encuestado(fila):\n",
    "    if fila['edad'] < 18:\n",
    "        acompaniantes = fila['parientes'] + fila['amigos']\n",
    "        return 1 if acompaniantes <= 3 else 0\n",
    "    if fila['genero'] == 'hombre':\n",
    "        return 0\n",
    "    if fila['tipo_de_sala'] == '4d' and fila['nombre_sede'] == 'fiumark_palermo':\n",
    "        return 0\n",
    "    return 1\n",
    "\n",
    "def _probabilidades_grupo(X_grupo):\n",
    "    cantidad_elementos = len(X_grupo)\n",
    "    cantidad_positivos = len(X_grupo[X_grupo[\"volveria\"] == 1])\n",
    "    prob_volveria = cantidad_positivos/float(cantidad_elementos)\n",
    "    prob_no_volveria = (cantidad_elementos - cantidad_positivos)/float(cantidad_elementos)\n",
    "    return [prob_no_volveria, prob_volveria]\n",
    "\n",
    "def clasificar_encuestado_proba(fila, X):\n",
    "    if fila['edad'] < 18:\n",
    "        X_grupo = X[X[\"edad\"] < 18]\n",
    "        \n",
    "        if fila['acompaniantes'] <= 3:\n",
    "            X_grupo = X_grupo[X_grupo[\"acompaniantes\"] <= 3]\n",
    "            return _probabilidades_grupo(X_grupo)\n",
    "        else:\n",
    "            X_grupo = X_grupo[X_grupo[\"acompaniantes\"] > 3]\n",
    "            return _probabilidades_grupo(X_grupo)\n",
    "    \n",
    "    if fila['genero'] == 'hombre':\n",
    "        X_grupo = X[X[\"genero\"] == 'hombre']\n",
    "        return _probabilidades_grupo(X_grupo)\n",
    "    \n",
    "    if fila['tipo_de_sala'] == '4d' and fila['nombre_sede'] == 'fiumark_palermo':\n",
    "        X_grupo = X[(X[\"genero\"] == 'mujer') & \n",
    "                    (X['tipo_de_sala'] == '4d') & \n",
    "                    (X['nombre_sede'] == 'fiumark_palermo')]\n",
    "        return _probabilidades_grupo(X_grupo)\n",
    "    \n",
    "    X_grupo = X[(X[\"genero\"] == 'mujer') & \n",
    "                ~(X['tipo_de_sala'] == '4d') & \n",
    "                ~(X['nombre_sede'] == 'fiumark_palermo')]\n",
    "    return _probabilidades_grupo(X_grupo)\n",
    "\n",
    "def baseline(X):\n",
    "    resultado = []\n",
    "    for indice in X.index:\n",
    "        resultado.append(clasificar_encuestado(X.loc[indice,:]))\n",
    "    return resultado\n",
    "\n",
    "def baseline_proba(X):\n",
    "    X = X.copy()\n",
    "    X['acompaniantes'] = X['parientes'] + X['amigos']         \n",
    "    resultado = []\n",
    "    for indice in X.index:\n",
    "        clasificacion = clasificar_encuestado_proba(X.loc[indice,:], X)\n",
    "        resultado.append(clasificacion)\n",
    "    return resultado"
   ]
  },
  {
   "cell_type": "code",
   "execution_count": null,
   "metadata": {
    "lines_to_next_cell": 0
   },
   "outputs": [],
   "source": [
    "y_pred_baseline = baseline(X_test)\n",
    "X_test[\"volveria\"] = y_test\n",
    "y_pred_proba = baseline_proba(X_test)\n",
    "y_pred_proba = np.array(y_pred_proba)[:, 1]\n",
    "\n",
    "scores = [accuracy_score, precision_score, recall_score, f1_score]\n",
    "columnas = ['AUC_ROC', 'Accuracy', 'Precision', 'Recall', 'F1 Score']\n",
    "\n",
    "results = [roc_auc_score(y_test, y_pred_proba)]\n",
    "\n",
    "results += [s(y_test, y_pred_baseline) for s in scores]\n",
    "display(pd.DataFrame([results], columns=columnas).style.hide_index())"
   ]
  },
  {
   "cell_type": "code",
   "execution_count": null,
   "metadata": {
    "lines_to_next_cell": 2
   },
   "outputs": [],
   "source": []
  }
 ],
 "metadata": {
  "jupytext": {
   "formats": "ipynb,py:light",
   "text_representation": {
    "extension": ".py",
    "format_name": "light",
    "format_version": "1.5",
    "jupytext_version": "1.6.0"
   }
  },
  "kernelspec": {
   "display_name": "Python 3",
   "language": "python",
   "name": "python3"
  },
  "language_info": {
   "codemirror_mode": {
    "name": "ipython",
    "version": 3
   },
   "file_extension": ".py",
   "mimetype": "text/x-python",
   "name": "python",
   "nbconvert_exporter": "python",
   "pygments_lexer": "ipython3",
   "version": "3.8.5"
  }
 },
 "nbformat": 4,
 "nbformat_minor": 4
}
