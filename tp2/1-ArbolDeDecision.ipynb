{
 "cells": [
  {
   "cell_type": "code",
   "execution_count": 1,
   "id": "backed-decrease",
   "metadata": {},
   "outputs": [],
   "source": [
    "import pandas as pd\n",
    "import preprocessing as pp\n",
    "import utils as utils\n",
    "from sklearn import tree\n",
    "import numpy as np\n",
    "pd.set_option('mode.chained_assignment', None)\n",
    "import warnings\n",
    "warnings.simplefilter(action='ignore', category=FutureWarning)\n",
    "from sklearn.pipeline import Pipeline\n",
    "from sklearn.base import BaseEstimator, TransformerMixin"
   ]
  },
  {
   "cell_type": "code",
   "execution_count": 2,
   "id": "shaped-intro",
   "metadata": {},
   "outputs": [],
   "source": [
    "import random\n",
    "seed = 100\n",
    "np.random.seed(seed)\n",
    "random.seed(seed)"
   ]
  },
  {
   "cell_type": "code",
   "execution_count": 3,
   "id": "prospective-porcelain",
   "metadata": {},
   "outputs": [],
   "source": [
    "X, y = utils.importar_datos()"
   ]
  },
  {
   "cell_type": "markdown",
   "id": "varied-munich",
   "metadata": {},
   "source": [
    "### Modelo 1"
   ]
  },
  {
   "cell_type": "markdown",
   "id": "armed-bridal",
   "metadata": {},
   "source": [
    "- Preprocesamiento con OneHotEncoding\n",
    "- Hiperparametros por defecto"
   ]
  },
  {
   "cell_type": "code",
   "execution_count": 4,
   "id": "variable-constant",
   "metadata": {},
   "outputs": [],
   "source": [
    "preprocessor = pp.PreprocessingOHE()\n",
    "model = tree.DecisionTreeClassifier(random_state=pp.RANDOM_STATE)"
   ]
  },
  {
   "cell_type": "code",
   "execution_count": 5,
   "id": "subjective-sacrifice",
   "metadata": {},
   "outputs": [],
   "source": [
    "pipeline = Pipeline([(\"preprocessor\", preprocessor), \n",
    "                     (\"model\", model)\n",
    "                     ])"
   ]
  },
  {
   "cell_type": "markdown",
   "id": "little-boundary",
   "metadata": {},
   "source": [
    "#### Metricas"
   ]
  },
  {
   "cell_type": "code",
   "execution_count": 6,
   "id": "effective-liabilities",
   "metadata": {},
   "outputs": [
    {
     "data": {
      "text/html": [
       "<div>\n",
       "<style scoped>\n",
       "    .dataframe tbody tr th:only-of-type {\n",
       "        vertical-align: middle;\n",
       "    }\n",
       "\n",
       "    .dataframe tbody tr th {\n",
       "        vertical-align: top;\n",
       "    }\n",
       "\n",
       "    .dataframe thead th {\n",
       "        text-align: right;\n",
       "    }\n",
       "</style>\n",
       "<table border=\"1\" class=\"dataframe\">\n",
       "  <thead>\n",
       "    <tr style=\"text-align: right;\">\n",
       "      <th></th>\n",
       "      <th>Mean</th>\n",
       "      <th>Std</th>\n",
       "      <th>Oof</th>\n",
       "      <th>Max</th>\n",
       "      <th>Min</th>\n",
       "    </tr>\n",
       "  </thead>\n",
       "  <tbody>\n",
       "    <tr>\n",
       "      <th>roc auc</th>\n",
       "      <td>0.758420</td>\n",
       "      <td>0.039222</td>\n",
       "      <td>0.756881</td>\n",
       "      <td>0.845713</td>\n",
       "      <td>0.713115</td>\n",
       "    </tr>\n",
       "    <tr>\n",
       "      <th>accuracy</th>\n",
       "      <td>0.786522</td>\n",
       "      <td>0.036339</td>\n",
       "      <td>0.786517</td>\n",
       "      <td>0.870000</td>\n",
       "      <td>0.750000</td>\n",
       "    </tr>\n",
       "    <tr>\n",
       "      <th>precision</th>\n",
       "      <td>0.727698</td>\n",
       "      <td>0.054067</td>\n",
       "      <td>0.723684</td>\n",
       "      <td>0.837838</td>\n",
       "      <td>0.652174</td>\n",
       "    </tr>\n",
       "    <tr>\n",
       "      <th>recall</th>\n",
       "      <td>0.717105</td>\n",
       "      <td>0.075309</td>\n",
       "      <td>0.716612</td>\n",
       "      <td>0.815789</td>\n",
       "      <td>0.589744</td>\n",
       "    </tr>\n",
       "    <tr>\n",
       "      <th>f1 score</th>\n",
       "      <td>0.719468</td>\n",
       "      <td>0.049283</td>\n",
       "      <td>0.720131</td>\n",
       "      <td>0.826667</td>\n",
       "      <td>0.647887</td>\n",
       "    </tr>\n",
       "  </tbody>\n",
       "</table>\n",
       "</div>"
      ],
      "text/plain": [
       "               Mean       Std       Oof       Max       Min\n",
       "roc auc    0.758420  0.039222  0.756881  0.845713  0.713115\n",
       "accuracy   0.786522  0.036339  0.786517  0.870000  0.750000\n",
       "precision  0.727698  0.054067  0.723684  0.837838  0.652174\n",
       "recall     0.717105  0.075309  0.716612  0.815789  0.589744\n",
       "f1 score   0.719468  0.049283  0.720131  0.826667  0.647887"
      ]
     },
     "metadata": {},
     "output_type": "display_data"
    }
   ],
   "source": [
    "utils.metricas_cross_validation(X, y, pipeline)"
   ]
  },
  {
   "cell_type": "markdown",
   "id": "robust-european",
   "metadata": {},
   "source": [
    "### Modelo 2"
   ]
  },
  {
   "cell_type": "markdown",
   "id": "colonial-affair",
   "metadata": {},
   "source": [
    "- Preprocesamiento con OneHotEncoding\n",
    "- Hiperparametros por defecto"
   ]
  },
  {
   "cell_type": "code",
   "execution_count": 7,
   "id": "lovely-therapy",
   "metadata": {},
   "outputs": [],
   "source": [
    "preprocessor = pp.PreprocessingOHE()\n",
    "model = tree.DecisionTreeClassifier(random_state=pp.RANDOM_STATE)"
   ]
  },
  {
   "cell_type": "code",
   "execution_count": 8,
   "id": "spiritual-crawford",
   "metadata": {},
   "outputs": [],
   "source": [
    "pipeline = Pipeline([(\"preprocessor\", preprocessor), \n",
    "                     (\"model\", model)\n",
    "                     ])"
   ]
  },
  {
   "cell_type": "markdown",
   "id": "prostate-hartford",
   "metadata": {},
   "source": [
    "#### Metricas"
   ]
  },
  {
   "cell_type": "code",
   "execution_count": 9,
   "id": "distributed-creator",
   "metadata": {},
   "outputs": [
    {
     "data": {
      "text/html": [
       "<div>\n",
       "<style scoped>\n",
       "    .dataframe tbody tr th:only-of-type {\n",
       "        vertical-align: middle;\n",
       "    }\n",
       "\n",
       "    .dataframe tbody tr th {\n",
       "        vertical-align: top;\n",
       "    }\n",
       "\n",
       "    .dataframe thead th {\n",
       "        text-align: right;\n",
       "    }\n",
       "</style>\n",
       "<table border=\"1\" class=\"dataframe\">\n",
       "  <thead>\n",
       "    <tr style=\"text-align: right;\">\n",
       "      <th></th>\n",
       "      <th>Mean</th>\n",
       "      <th>Std</th>\n",
       "      <th>Oof</th>\n",
       "      <th>Max</th>\n",
       "      <th>Min</th>\n",
       "    </tr>\n",
       "  </thead>\n",
       "  <tbody>\n",
       "    <tr>\n",
       "      <th>roc auc</th>\n",
       "      <td>0.758420</td>\n",
       "      <td>0.039222</td>\n",
       "      <td>0.756881</td>\n",
       "      <td>0.845713</td>\n",
       "      <td>0.713115</td>\n",
       "    </tr>\n",
       "    <tr>\n",
       "      <th>accuracy</th>\n",
       "      <td>0.786522</td>\n",
       "      <td>0.036339</td>\n",
       "      <td>0.786517</td>\n",
       "      <td>0.870000</td>\n",
       "      <td>0.750000</td>\n",
       "    </tr>\n",
       "    <tr>\n",
       "      <th>precision</th>\n",
       "      <td>0.727698</td>\n",
       "      <td>0.054067</td>\n",
       "      <td>0.723684</td>\n",
       "      <td>0.837838</td>\n",
       "      <td>0.652174</td>\n",
       "    </tr>\n",
       "    <tr>\n",
       "      <th>recall</th>\n",
       "      <td>0.717105</td>\n",
       "      <td>0.075309</td>\n",
       "      <td>0.716612</td>\n",
       "      <td>0.815789</td>\n",
       "      <td>0.589744</td>\n",
       "    </tr>\n",
       "    <tr>\n",
       "      <th>f1 score</th>\n",
       "      <td>0.719468</td>\n",
       "      <td>0.049283</td>\n",
       "      <td>0.720131</td>\n",
       "      <td>0.826667</td>\n",
       "      <td>0.647887</td>\n",
       "    </tr>\n",
       "  </tbody>\n",
       "</table>\n",
       "</div>"
      ],
      "text/plain": [
       "               Mean       Std       Oof       Max       Min\n",
       "roc auc    0.758420  0.039222  0.756881  0.845713  0.713115\n",
       "accuracy   0.786522  0.036339  0.786517  0.870000  0.750000\n",
       "precision  0.727698  0.054067  0.723684  0.837838  0.652174\n",
       "recall     0.717105  0.075309  0.716612  0.815789  0.589744\n",
       "f1 score   0.719468  0.049283  0.720131  0.826667  0.647887"
      ]
     },
     "metadata": {},
     "output_type": "display_data"
    }
   ],
   "source": [
    "utils.metricas_cross_validation(X, y, pipeline)"
   ]
  },
  {
   "cell_type": "markdown",
   "id": "innovative-pointer",
   "metadata": {},
   "source": [
    "### Modelo 3 "
   ]
  },
  {
   "cell_type": "markdown",
   "id": "simplified-johns",
   "metadata": {},
   "source": [
    "- Preprocesamiento con LabelEncoder\n",
    "- Estimación de Hiperparametros con GridSearchCV"
   ]
  },
  {
   "cell_type": "code",
   "execution_count": 13,
   "id": "vertical-network",
   "metadata": {},
   "outputs": [],
   "source": [
    "preprocessor = pp.PreprocessingOHE()\n",
    "model = tree.DecisionTreeClassifier(random_state=pp.RANDOM_STATE)"
   ]
  },
  {
   "cell_type": "code",
   "execution_count": 14,
   "id": "aquatic-contributor",
   "metadata": {},
   "outputs": [],
   "source": [
    "pipeline = Pipeline([(\"preprocessor\", preprocessor), \n",
    "                     (\"model\", model)\n",
    "                     ])"
   ]
  },
  {
   "cell_type": "code",
   "execution_count": 15,
   "id": "round-composer",
   "metadata": {},
   "outputs": [
    {
     "name": "stdout",
     "output_type": "stream",
     "text": [
      "{'model__criterion': 'gini', 'model__max_depth': 10, 'model__max_features': 7, 'model__min_samples_leaf': 15, 'model__min_samples_split': 2}\n",
      "0.8610897980061817\n"
     ]
    }
   ],
   "source": [
    "from sklearn.model_selection import GridSearchCV\n",
    "params = {'model__max_depth': [10, 20, 50, None], 'model__min_samples_leaf': [1, 5, 10, 15, 20],\n",
    "          \"model__min_samples_split\": [2, 5, 10, 15], \"model__criterion\": [\"gini\", \"entropy\"], \n",
    "          \"model__max_features\": [\"auto\", \"log2\", 7, 2]}\n",
    "cv = utils.kfold_for_cross_validation()\n",
    "gscv = GridSearchCV(pipeline, params, scoring='roc_auc', n_jobs=-1, cv=cv, return_train_score=True).fit(X, y)\n",
    "print(gscv.best_params_)\n",
    "print(gscv.best_score_)"
   ]
  },
  {
   "cell_type": "code",
   "execution_count": null,
   "id": "sapphire-wrestling",
   "metadata": {},
   "outputs": [],
   "source": [
    "from sklearn.model_selection import GridSearchCV\n",
    "params = {'model__max_depth': np.arange(10,25), 'model__min_samples_leaf': np.arange(3,10),\n",
    "         \"model__min_samples_split\": np.arange(1,7), \n",
    "          \"model__max_features\": [\"auto\", \"log2\"]+list(np.arange(5,10)),\n",
    "         \"model__criterion\": [\"gini\", \"entropy\"]}\n",
    "cv = utils.kfold_for_cross_validation()\n",
    "gscv = GridSearchCV(pipeline, params, scoring='roc_auc', n_jobs=-1, cv=cv, return_train_score=True).fit(X, y)\n",
    "print(gscv.best_params_)\n",
    "print(gscv.best_score_)"
   ]
  },
  {
   "cell_type": "code",
   "execution_count": 18,
   "id": "miniature-consent",
   "metadata": {},
   "outputs": [],
   "source": [
    "model = tree.DecisionTreeClassifier(random_state=pp.RANDOM_STATE, \n",
    "                               max_depth=13, \n",
    "                               min_samples_leaf=6, min_samples_split=2,max_features=6)"
   ]
  },
  {
   "cell_type": "code",
   "execution_count": 19,
   "id": "committed-sociology",
   "metadata": {},
   "outputs": [],
   "source": [
    "pipeline = Pipeline([(\"preprocessor\", preprocessor), \n",
    "                     (\"model\", model)\n",
    "                     ])"
   ]
  },
  {
   "cell_type": "code",
   "execution_count": 20,
   "id": "absent-crime",
   "metadata": {},
   "outputs": [
    {
     "data": {
      "text/html": [
       "<div>\n",
       "<style scoped>\n",
       "    .dataframe tbody tr th:only-of-type {\n",
       "        vertical-align: middle;\n",
       "    }\n",
       "\n",
       "    .dataframe tbody tr th {\n",
       "        vertical-align: top;\n",
       "    }\n",
       "\n",
       "    .dataframe thead th {\n",
       "        text-align: right;\n",
       "    }\n",
       "</style>\n",
       "<table border=\"1\" class=\"dataframe\">\n",
       "  <thead>\n",
       "    <tr style=\"text-align: right;\">\n",
       "      <th></th>\n",
       "      <th>Mean</th>\n",
       "      <th>Std</th>\n",
       "      <th>Oof</th>\n",
       "      <th>Max</th>\n",
       "      <th>Min</th>\n",
       "    </tr>\n",
       "  </thead>\n",
       "  <tbody>\n",
       "    <tr>\n",
       "      <th>roc auc</th>\n",
       "      <td>0.829571</td>\n",
       "      <td>0.023515</td>\n",
       "      <td>0.831460</td>\n",
       "      <td>0.867452</td>\n",
       "      <td>0.787516</td>\n",
       "    </tr>\n",
       "    <tr>\n",
       "      <th>accuracy</th>\n",
       "      <td>0.797760</td>\n",
       "      <td>0.021571</td>\n",
       "      <td>0.797753</td>\n",
       "      <td>0.820000</td>\n",
       "      <td>0.750000</td>\n",
       "    </tr>\n",
       "    <tr>\n",
       "      <th>precision</th>\n",
       "      <td>0.791198</td>\n",
       "      <td>0.053733</td>\n",
       "      <td>0.786561</td>\n",
       "      <td>0.884615</td>\n",
       "      <td>0.694444</td>\n",
       "    </tr>\n",
       "    <tr>\n",
       "      <th>recall</th>\n",
       "      <td>0.648111</td>\n",
       "      <td>0.027007</td>\n",
       "      <td>0.648208</td>\n",
       "      <td>0.692308</td>\n",
       "      <td>0.605263</td>\n",
       "    </tr>\n",
       "    <tr>\n",
       "      <th>f1 score</th>\n",
       "      <td>0.711085</td>\n",
       "      <td>0.022486</td>\n",
       "      <td>0.710714</td>\n",
       "      <td>0.750000</td>\n",
       "      <td>0.666667</td>\n",
       "    </tr>\n",
       "  </tbody>\n",
       "</table>\n",
       "</div>"
      ],
      "text/plain": [
       "               Mean       Std       Oof       Max       Min\n",
       "roc auc    0.829571  0.023515  0.831460  0.867452  0.787516\n",
       "accuracy   0.797760  0.021571  0.797753  0.820000  0.750000\n",
       "precision  0.791198  0.053733  0.786561  0.884615  0.694444\n",
       "recall     0.648111  0.027007  0.648208  0.692308  0.605263\n",
       "f1 score   0.711085  0.022486  0.710714  0.750000  0.666667"
      ]
     },
     "metadata": {},
     "output_type": "display_data"
    }
   ],
   "source": [
    "utils.metricas_cross_validation(X, y, pipeline)"
   ]
  },
  {
   "cell_type": "markdown",
   "id": "correct-scanning",
   "metadata": {},
   "source": [
    "### Metricas finales"
   ]
  },
  {
   "cell_type": "markdown",
   "id": "portable-pasta",
   "metadata": {},
   "source": [
    "Se eligió el [Modelo 3](#Modelo-3) en base a los resultados obtenidos mediante `cross_validation`."
   ]
  },
  {
   "cell_type": "code",
   "execution_count": 21,
   "id": "empirical-naples",
   "metadata": {},
   "outputs": [],
   "source": [
    "preprocessor = pp.PreprocessingLE()\n",
    "model = tree.DecisionTreeClassifier(random_state=pp.RANDOM_STATE, \n",
    "                               max_depth=13, \n",
    "                               min_samples_leaf=6, min_samples_split=2,max_features=6)"
   ]
  },
  {
   "cell_type": "code",
   "execution_count": 22,
   "id": "satisfied-april",
   "metadata": {},
   "outputs": [],
   "source": [
    "pipeline = Pipeline([(\"preprocessor\", preprocessor), \n",
    "                     (\"model\", model)\n",
    "                     ])"
   ]
  },
  {
   "cell_type": "code",
   "execution_count": 23,
   "id": "coordinate-flash",
   "metadata": {},
   "outputs": [
    {
     "data": {
      "text/html": [
       "<style  type=\"text/css\" >\n",
       "</style><table id=\"T_83d4a560_7d14_11eb_a830_8c85903cd26f\" ><thead>    <tr>        <th class=\"col_heading level0 col0\" >AUC_ROC</th>        <th class=\"col_heading level0 col1\" >Accuracy</th>        <th class=\"col_heading level0 col2\" >Precision</th>        <th class=\"col_heading level0 col3\" >Recall</th>        <th class=\"col_heading level0 col4\" >F1 Score</th>    </tr></thead><tbody>\n",
       "                <tr>\n",
       "                                <td id=\"T_83d4a560_7d14_11eb_a830_8c85903cd26frow0_col0\" class=\"data row0 col0\" >0.908406</td>\n",
       "                        <td id=\"T_83d4a560_7d14_11eb_a830_8c85903cd26frow0_col1\" class=\"data row0 col1\" >0.859504</td>\n",
       "                        <td id=\"T_83d4a560_7d14_11eb_a830_8c85903cd26frow0_col2\" class=\"data row0 col2\" >0.853659</td>\n",
       "                        <td id=\"T_83d4a560_7d14_11eb_a830_8c85903cd26frow0_col3\" class=\"data row0 col3\" >0.760870</td>\n",
       "                        <td id=\"T_83d4a560_7d14_11eb_a830_8c85903cd26frow0_col4\" class=\"data row0 col4\" >0.804598</td>\n",
       "            </tr>\n",
       "    </tbody></table>"
      ],
      "text/plain": [
       "<pandas.io.formats.style.Styler at 0x132627df0>"
      ]
     },
     "metadata": {},
     "output_type": "display_data"
    },
    {
     "name": "stdout",
     "output_type": "stream",
     "text": [
      "Matriz de confusión:\n"
     ]
    },
    {
     "data": {
      "image/png": "[encoded data removed]",
      "text/plain": [
       "<Figure size 432x288 with 2 Axes>"
      ]
     },
     "metadata": {
      "needs_background": "light"
     },
     "output_type": "display_data"
    }
   ],
   "source": [
    "pipeline = utils.entrenar_y_realizar_prediccion_final_con_metricas(X, y, pipeline)"
   ]
  },
  {
   "cell_type": "markdown",
   "id": "novel-screen",
   "metadata": {},
   "source": [
    "Como puede verse, la métrica objetivo AUC-ROC tiene un buen resultado en este modelo. Lo que no se logra es un buen resultado de Recall y eso puede verse también en la matriz de confusión: De los casos verdaderamente positivos el modelo selecciona como negativos al 24%, esa tasa de Falsos Negativos perjudica el resultado de todas las metricas, pero principalmente al Recall (recordando que `Recall = TP / (TP + FN)`."
   ]
  },
  {
   "cell_type": "markdown",
   "id": "american-tunnel",
   "metadata": {},
   "source": [
    "### Predicción HoldOut"
   ]
  },
  {
   "cell_type": "code",
   "execution_count": null,
   "id": "sweet-railway",
   "metadata": {},
   "outputs": [],
   "source": [
    "utils.predecir_holdout_y_generar_csv(pipeline, 'Predicciones/1-ArbolDeDecision.csv')"
   ]
  }
 ],
 "metadata": {
  "jupytext": {
   "encoding": "# -*- coding: utf-8 -*-",
   "formats": "ipynb,py:light"
  },
  "kernelspec": {
   "display_name": "Python 3",
   "language": "python",
   "name": "python3"
  },
  "language_info": {
   "codemirror_mode": {
    "name": "ipython",
    "version": 3
   },
   "file_extension": ".py",
   "mimetype": "text/x-python",
   "name": "python",
   "nbconvert_exporter": "python",
   "pygments_lexer": "ipython3",
   "version": "3.8.2"
  }
 },
 "nbformat": 4,
 "nbformat_minor": 5
}
