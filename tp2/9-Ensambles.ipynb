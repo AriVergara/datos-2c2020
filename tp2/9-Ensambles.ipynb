{
 "cells": [
  {
   "cell_type": "code",
   "execution_count": 1,
   "metadata": {},
   "outputs": [],
   "source": [
    "import pandas as pd\n",
    "import preprocessing as pp\n",
    "import numpy as np\n",
    "pd.set_option('mode.chained_assignment', None)\n",
    "import warnings\n",
    "warnings.simplefilter(action='ignore', category=FutureWarning)\n",
    "from sklearn.pipeline import Pipeline\n",
    "from sklearn.model_selection import GridSearchCV\n",
    "\n",
    "from sklearn.svm import SVC\n",
    "from xgboost.sklearn import XGBClassifier\n",
    "from sklearn.ensemble import StackingClassifier, VotingClassifier, RandomForestClassifier\n",
    "from sklearn.naive_bayes import GaussianNB\n",
    "\n",
    "import utils as utils"
   ]
  },
  {
   "cell_type": "code",
   "execution_count": 2,
   "metadata": {},
   "outputs": [],
   "source": [
    "import random\n",
    "seed = 100\n",
    "np.random.seed(seed)\n",
    "random.seed(seed)"
   ]
  },
  {
   "cell_type": "code",
   "execution_count": 3,
   "metadata": {},
   "outputs": [],
   "source": [
    "X, y = utils.importar_datos()"
   ]
  },
  {
   "cell_type": "markdown",
   "metadata": {},
   "source": [
    "- Se utilizan los mejores modelos obtenidos para XGBoost, Random Forest y SVM"
   ]
  },
  {
   "cell_type": "code",
   "execution_count": 4,
   "metadata": {},
   "outputs": [],
   "source": [
    "def random_forest():\n",
    "    preprocessor = pp.PreprocessingLE()\n",
    "    model = RandomForestClassifier(random_state=pp.RANDOM_STATE, \n",
    "                                   n_jobs=-1, \n",
    "                                   max_depth=8, \n",
    "                                   min_samples_leaf=1, \n",
    "                                   min_samples_split=14, \n",
    "                                   max_features=7)\n",
    "    pipeline = Pipeline([(\"preprocessor\", preprocessor), \n",
    "                         (\"model\", model)\n",
    "                         ])\n",
    "    return pipeline"
   ]
  },
  {
   "cell_type": "code",
   "execution_count": 5,
   "metadata": {},
   "outputs": [],
   "source": [
    "def xgboost():\n",
    "    pipeline = Pipeline([\n",
    "    (\"preprocessor\", pp.PreprocessingLE()),\n",
    "    (\"model\", XGBClassifier(use_label_encoder=False, scale_pos_weight=1, subsample=0.8, colsample_bytree=0.8,\n",
    "                            objective=\"binary:logistic\", n_estimators=1000, learning_rate=0.01, n_jobs=-1,\n",
    "                            eval_metric=\"logloss\", min_child_weight=6, max_depth=6, reg_alpha=0.05))\n",
    "    ])\n",
    "    return pipeline"
   ]
  },
  {
   "cell_type": "code",
   "execution_count": 6,
   "metadata": {},
   "outputs": [],
   "source": [
    "def svm():\n",
    "    preprocessor = pp.PreprocessingSE()\n",
    "    model = SVC(kernel='rbf', random_state=pp.RANDOM_STATE, C=1, gamma='scale', probability=True)\n",
    "    pipeline = Pipeline([(\"preprocessor\", preprocessor), \n",
    "                     (\"model\", model)\n",
    "                     ])\n",
    "    return pipeline"
   ]
  },
  {
   "cell_type": "markdown",
   "metadata": {},
   "source": [
    "### Modelo 1"
   ]
  },
  {
   "cell_type": "markdown",
   "metadata": {},
   "source": [
    "- Se utiliza un ensamble de tipo Stacking\n",
    "- Como estimador final se usa un GaussianNB\n"
   ]
  },
  {
   "cell_type": "code",
   "execution_count": 7,
   "metadata": {},
   "outputs": [],
   "source": [
    "def stacking_gaussian(var_smoothing=1e-9):\n",
    "    estimadores = [('svm', svm()), ('xgboost', xgboost()), ('random_forest', random_forest())]\n",
    "    cv = utils.kfold_for_cross_validation()\n",
    "    stacking = StackingClassifier(estimators=estimadores, final_estimator=GaussianNB(var_smoothing=var_smoothing), \n",
    "                                  stack_method=\"predict_proba\", cv=cv)\n",
    "    return stacking"
   ]
  },
  {
   "cell_type": "code",
   "execution_count": 8,
   "metadata": {},
   "outputs": [],
   "source": [
    "stacking = stacking_gaussian()"
   ]
  },
  {
   "cell_type": "markdown",
   "metadata": {},
   "source": [
    "#### Metricas"
   ]
  },
  {
   "cell_type": "code",
   "execution_count": 9,
   "metadata": {},
   "outputs": [
    {
     "data": {
      "text/html": [
       "<div>\n",
       "<style scoped>\n",
       "    .dataframe tbody tr th:only-of-type {\n",
       "        vertical-align: middle;\n",
       "    }\n",
       "\n",
       "    .dataframe tbody tr th {\n",
       "        vertical-align: top;\n",
       "    }\n",
       "\n",
       "    .dataframe thead th {\n",
       "        text-align: right;\n",
       "    }\n",
       "</style>\n",
       "<table border=\"1\" class=\"dataframe\">\n",
       "  <thead>\n",
       "    <tr style=\"text-align: right;\">\n",
       "      <th></th>\n",
       "      <th>Mean</th>\n",
       "      <th>Std</th>\n",
       "      <th>Oof</th>\n",
       "      <th>Max</th>\n",
       "      <th>Min</th>\n",
       "    </tr>\n",
       "  </thead>\n",
       "  <tbody>\n",
       "    <tr>\n",
       "      <th>roc auc</th>\n",
       "      <td>0.867432</td>\n",
       "      <td>0.028982</td>\n",
       "      <td>0.861596</td>\n",
       "      <td>0.902377</td>\n",
       "      <td>0.817912</td>\n",
       "    </tr>\n",
       "    <tr>\n",
       "      <th>accuracy</th>\n",
       "      <td>0.816473</td>\n",
       "      <td>0.019377</td>\n",
       "      <td>0.816479</td>\n",
       "      <td>0.840000</td>\n",
       "      <td>0.770000</td>\n",
       "    </tr>\n",
       "    <tr>\n",
       "      <th>precision</th>\n",
       "      <td>0.783457</td>\n",
       "      <td>0.037506</td>\n",
       "      <td>0.781690</td>\n",
       "      <td>0.848485</td>\n",
       "      <td>0.710526</td>\n",
       "    </tr>\n",
       "    <tr>\n",
       "      <th>recall</th>\n",
       "      <td>0.723178</td>\n",
       "      <td>0.025118</td>\n",
       "      <td>0.723127</td>\n",
       "      <td>0.763158</td>\n",
       "      <td>0.684211</td>\n",
       "    </tr>\n",
       "    <tr>\n",
       "      <th>f1 score</th>\n",
       "      <td>0.751482</td>\n",
       "      <td>0.022270</td>\n",
       "      <td>0.751269</td>\n",
       "      <td>0.777778</td>\n",
       "      <td>0.701299</td>\n",
       "    </tr>\n",
       "  </tbody>\n",
       "</table>\n",
       "</div>"
      ],
      "text/plain": [
       "               Mean       Std       Oof       Max       Min\n",
       "roc auc    0.867432  0.028982  0.861596  0.902377  0.817912\n",
       "accuracy   0.816473  0.019377  0.816479  0.840000  0.770000\n",
       "precision  0.783457  0.037506  0.781690  0.848485  0.710526\n",
       "recall     0.723178  0.025118  0.723127  0.763158  0.684211\n",
       "f1 score   0.751482  0.022270  0.751269  0.777778  0.701299"
      ]
     },
     "metadata": {},
     "output_type": "display_data"
    }
   ],
   "source": [
    "utils.metricas_cross_validation(X, y, stacking)"
   ]
  },
  {
   "cell_type": "markdown",
   "metadata": {},
   "source": [
    "### Modelo 2"
   ]
  },
  {
   "cell_type": "markdown",
   "metadata": {},
   "source": [
    "- Mismo tipo de ensamble\n",
    "- Mismo estimador final que en el modelo 1, pero se busca un mejor hiperparámetro para el GaussianNB.\n"
   ]
  },
  {
   "cell_type": "code",
   "execution_count": 10,
   "metadata": {},
   "outputs": [],
   "source": [
    "stacking = stacking_gaussian()"
   ]
  },
  {
   "cell_type": "code",
   "execution_count": 11,
   "metadata": {},
   "outputs": [],
   "source": [
    "#params = {\n",
    "#    'final_estimator__var_smoothing': [1e-9, 1e-7, 1e-6, 1e-3, 5e-3, 1e-2, 0.1, 0.3],\n",
    "#    'xgboost__model__use_label_encoder': [False], \n",
    "#    'xgboost__model__scale_pos_weight': [1], \n",
    "#    'xgboost__model__subsample': [0.8], \n",
    "#    'xgboost__model__colsample_bytree': [0.8],\n",
    "#    'xgboost__model__objective': [\"binary:logistic\"], \n",
    "#    'xgboost__model__n_estimators': [1000], \n",
    "#    'xgboost__model__learning_rate': [0.01], \n",
    "#    'xgboost__model__n_jobs': [-1],                       \n",
    "#    'xgboost__model__eval_metric': [\"logloss\"], \n",
    "#    'xgboost__model__min_child_weight': [6], \n",
    "#    'xgboost__model__max_depth': [6], \n",
    "#    'xgboost__model__reg_alpha': [0.05],\n",
    "#    'svm__model__C': [1], \n",
    "#    'svm__model__gamma': ['scale'], \n",
    "#    'svm__model__probability': [True],\n",
    "#    'svm__model__random_state': [pp.RANDOM_STATE], \n",
    "#    'random_forest__model__n_jobs': [-1], \n",
    "#    'random_forest__model__max_depth': [11], \n",
    "#    'random_forest__model__min_samples_leaf': [1], \n",
    "#    'random_forest__model__min_samples_split': [13]\n",
    "#}\n",
    "\n",
    "#cv = StratifiedKFold(n_splits=8, random_state=pp.RANDOM_STATE, shuffle=True)\n",
    "#gscv_gaussian = GridSearchCV(\n",
    "#    stacking, params, scoring='roc_auc', n_jobs=-1, cv=cv, return_train_score=True\n",
    "#).fit(X, y)\n",
    "#print(gscv_gaussian.best_score_)\n",
    "#print(gscv_gaussian.best_params_)"
   ]
  },
  {
   "cell_type": "markdown",
   "metadata": {},
   "source": [
    "Al igual que en el Notebook de XGBoost, el Grid Search tarda mucho en correr a pesar de que la grilla es pequeña (solo final_estimator__var_smoothing tiene más de un valor). Para evitar esto se prueba el var_smoothing a mano."
   ]
  },
  {
   "cell_type": "code",
   "execution_count": 12,
   "metadata": {},
   "outputs": [],
   "source": [
    "from sklearn.model_selection import cross_validate\n",
    "options = [1e-9, 1e-8, 1e-7, 1e-6, 1e-3, 5e-3, 1e-2, 3e-2, 5e-2, 0.1, 0.3]\n",
    "max_score_value = 0\n",
    "optimal_var_smothing = 0\n",
    "#for var_smothing in options:\n",
    "#    stacking = stacking_gaussian(var_smothing)\n",
    "#    cv = utils.kfold_for_cross_validation()\n",
    "#    scoring_metrics = [\"roc_auc\"]\n",
    "#    scores_for_model = cross_validate(stacking, X, y, cv=cv, scoring=scoring_metrics)\n",
    "#    roc_auc_score_value = scores_for_model['test_roc_auc'].mean()\n",
    "#    print(f\"Corrio con var_smothing: {var_smothing}, roc_auc_score: {roc_auc_score_value}\")\n",
    "#    if roc_auc_score_value > max_score_value:\n",
    "#        max_score_value = roc_auc_score_value\n",
    "#        optimal_var_smothing = var_smothing\n",
    "#print(f'var_smothing: {optimal_var_smothing}')\n",
    "#print(f'roc_auc_score_value: {max_score_value}')"
   ]
  },
  {
   "cell_type": "code",
   "execution_count": 13,
   "metadata": {},
   "outputs": [],
   "source": [
    "stacking = stacking_gaussian(0.03)"
   ]
  },
  {
   "cell_type": "markdown",
   "metadata": {},
   "source": [
    "#### Métricas"
   ]
  },
  {
   "cell_type": "code",
   "execution_count": 14,
   "metadata": {},
   "outputs": [
    {
     "data": {
      "text/html": [
       "<div>\n",
       "<style scoped>\n",
       "    .dataframe tbody tr th:only-of-type {\n",
       "        vertical-align: middle;\n",
       "    }\n",
       "\n",
       "    .dataframe tbody tr th {\n",
       "        vertical-align: top;\n",
       "    }\n",
       "\n",
       "    .dataframe thead th {\n",
       "        text-align: right;\n",
       "    }\n",
       "</style>\n",
       "<table border=\"1\" class=\"dataframe\">\n",
       "  <thead>\n",
       "    <tr style=\"text-align: right;\">\n",
       "      <th></th>\n",
       "      <th>Mean</th>\n",
       "      <th>Std</th>\n",
       "      <th>Oof</th>\n",
       "      <th>Max</th>\n",
       "      <th>Min</th>\n",
       "    </tr>\n",
       "  </thead>\n",
       "  <tbody>\n",
       "    <tr>\n",
       "      <th>roc auc</th>\n",
       "      <td>0.867326</td>\n",
       "      <td>0.029164</td>\n",
       "      <td>0.861689</td>\n",
       "      <td>0.902377</td>\n",
       "      <td>0.817063</td>\n",
       "    </tr>\n",
       "    <tr>\n",
       "      <th>accuracy</th>\n",
       "      <td>0.813985</td>\n",
       "      <td>0.019926</td>\n",
       "      <td>0.813983</td>\n",
       "      <td>0.840000</td>\n",
       "      <td>0.770000</td>\n",
       "    </tr>\n",
       "    <tr>\n",
       "      <th>precision</th>\n",
       "      <td>0.783909</td>\n",
       "      <td>0.038034</td>\n",
       "      <td>0.782143</td>\n",
       "      <td>0.848485</td>\n",
       "      <td>0.710526</td>\n",
       "    </tr>\n",
       "    <tr>\n",
       "      <th>recall</th>\n",
       "      <td>0.713394</td>\n",
       "      <td>0.025554</td>\n",
       "      <td>0.713355</td>\n",
       "      <td>0.763158</td>\n",
       "      <td>0.684211</td>\n",
       "    </tr>\n",
       "    <tr>\n",
       "      <th>f1 score</th>\n",
       "      <td>0.746388</td>\n",
       "      <td>0.023289</td>\n",
       "      <td>0.746167</td>\n",
       "      <td>0.777778</td>\n",
       "      <td>0.701299</td>\n",
       "    </tr>\n",
       "  </tbody>\n",
       "</table>\n",
       "</div>"
      ],
      "text/plain": [
       "               Mean       Std       Oof       Max       Min\n",
       "roc auc    0.867326  0.029164  0.861689  0.902377  0.817063\n",
       "accuracy   0.813985  0.019926  0.813983  0.840000  0.770000\n",
       "precision  0.783909  0.038034  0.782143  0.848485  0.710526\n",
       "recall     0.713394  0.025554  0.713355  0.763158  0.684211\n",
       "f1 score   0.746388  0.023289  0.746167  0.777778  0.701299"
      ]
     },
     "metadata": {},
     "output_type": "display_data"
    }
   ],
   "source": [
    "utils.metricas_cross_validation(X, y, stacking)"
   ]
  },
  {
   "cell_type": "markdown",
   "metadata": {},
   "source": [
    "### Modelo 3"
   ]
  },
  {
   "cell_type": "markdown",
   "metadata": {},
   "source": [
    "- Ensamble de tipo Voting (soft voting).\n",
    "- Se utilizan los mismos modelos que en los ensambles de tipo Stacking"
   ]
  },
  {
   "cell_type": "code",
   "execution_count": 15,
   "metadata": {},
   "outputs": [],
   "source": [
    "def voting_classifier(voting=\"soft\"):\n",
    "    estimadores = [('svm', svm()), ('xgboost', xgboost()), ('random_forest', random_forest())]\n",
    "    stacking = VotingClassifier(estimators=estimadores, n_jobs=-1, voting=voting)\n",
    "    return stacking"
   ]
  },
  {
   "cell_type": "code",
   "execution_count": 16,
   "metadata": {},
   "outputs": [],
   "source": [
    "voting = voting_classifier()"
   ]
  },
  {
   "cell_type": "code",
   "execution_count": 17,
   "metadata": {},
   "outputs": [
    {
     "data": {
      "text/html": [
       "<div>\n",
       "<style scoped>\n",
       "    .dataframe tbody tr th:only-of-type {\n",
       "        vertical-align: middle;\n",
       "    }\n",
       "\n",
       "    .dataframe tbody tr th {\n",
       "        vertical-align: top;\n",
       "    }\n",
       "\n",
       "    .dataframe thead th {\n",
       "        text-align: right;\n",
       "    }\n",
       "</style>\n",
       "<table border=\"1\" class=\"dataframe\">\n",
       "  <thead>\n",
       "    <tr style=\"text-align: right;\">\n",
       "      <th></th>\n",
       "      <th>Mean</th>\n",
       "      <th>Std</th>\n",
       "      <th>Oof</th>\n",
       "      <th>Max</th>\n",
       "      <th>Min</th>\n",
       "    </tr>\n",
       "  </thead>\n",
       "  <tbody>\n",
       "    <tr>\n",
       "      <th>roc auc</th>\n",
       "      <td>0.867438</td>\n",
       "      <td>0.029703</td>\n",
       "      <td>0.862335</td>\n",
       "      <td>0.904499</td>\n",
       "      <td>0.817912</td>\n",
       "    </tr>\n",
       "    <tr>\n",
       "      <th>accuracy</th>\n",
       "      <td>0.813998</td>\n",
       "      <td>0.025827</td>\n",
       "      <td>0.813983</td>\n",
       "      <td>0.860000</td>\n",
       "      <td>0.770000</td>\n",
       "    </tr>\n",
       "    <tr>\n",
       "      <th>precision</th>\n",
       "      <td>0.804348</td>\n",
       "      <td>0.050496</td>\n",
       "      <td>0.801527</td>\n",
       "      <td>0.875000</td>\n",
       "      <td>0.710526</td>\n",
       "    </tr>\n",
       "    <tr>\n",
       "      <th>recall</th>\n",
       "      <td>0.684211</td>\n",
       "      <td>0.028270</td>\n",
       "      <td>0.684039</td>\n",
       "      <td>0.736842</td>\n",
       "      <td>0.641026</td>\n",
       "    </tr>\n",
       "    <tr>\n",
       "      <th>f1 score</th>\n",
       "      <td>0.738656</td>\n",
       "      <td>0.031022</td>\n",
       "      <td>0.738137</td>\n",
       "      <td>0.800000</td>\n",
       "      <td>0.701299</td>\n",
       "    </tr>\n",
       "  </tbody>\n",
       "</table>\n",
       "</div>"
      ],
      "text/plain": [
       "               Mean       Std       Oof       Max       Min\n",
       "roc auc    0.867438  0.029703  0.862335  0.904499  0.817912\n",
       "accuracy   0.813998  0.025827  0.813983  0.860000  0.770000\n",
       "precision  0.804348  0.050496  0.801527  0.875000  0.710526\n",
       "recall     0.684211  0.028270  0.684039  0.736842  0.641026\n",
       "f1 score   0.738656  0.031022  0.738137  0.800000  0.701299"
      ]
     },
     "metadata": {},
     "output_type": "display_data"
    }
   ],
   "source": [
    "utils.metricas_cross_validation(X, y, voting)"
   ]
  },
  {
   "cell_type": "markdown",
   "metadata": {},
   "source": [
    "### Métricas finales"
   ]
  },
  {
   "cell_type": "markdown",
   "metadata": {},
   "source": [
    "Se eligió el [Modelo 1](#Modelo-1), dado que es el modelo que tiene mejores métricas en general (especialmente en Recall y F1 Score). En cuanto al Roc Auc, son los 3 muy parecidos."
   ]
  },
  {
   "cell_type": "code",
   "execution_count": 18,
   "metadata": {},
   "outputs": [],
   "source": [
    "pipeline = stacking_gaussian()"
   ]
  },
  {
   "cell_type": "code",
   "execution_count": 19,
   "metadata": {},
   "outputs": [
    {
     "data": {
      "text/html": [
       "<style  type=\"text/css\" >\n",
       "</style><table id=\"T_acb64158_7ee2_11eb_805f_b179fc9e21f0\" ><thead>    <tr>        <th class=\"col_heading level0 col0\" >AUC_ROC</th>        <th class=\"col_heading level0 col1\" >Accuracy</th>        <th class=\"col_heading level0 col2\" >Precision</th>        <th class=\"col_heading level0 col3\" >Recall</th>        <th class=\"col_heading level0 col4\" >F1 Score</th>    </tr></thead><tbody>\n",
       "                <tr>\n",
       "                                <td id=\"T_acb64158_7ee2_11eb_805f_b179fc9e21f0row0_col0\" class=\"data row0 col0\" >0.912754</td>\n",
       "                        <td id=\"T_acb64158_7ee2_11eb_805f_b179fc9e21f0row0_col1\" class=\"data row0 col1\" >0.859504</td>\n",
       "                        <td id=\"T_acb64158_7ee2_11eb_805f_b179fc9e21f0row0_col2\" class=\"data row0 col2\" >0.837209</td>\n",
       "                        <td id=\"T_acb64158_7ee2_11eb_805f_b179fc9e21f0row0_col3\" class=\"data row0 col3\" >0.782609</td>\n",
       "                        <td id=\"T_acb64158_7ee2_11eb_805f_b179fc9e21f0row0_col4\" class=\"data row0 col4\" >0.808989</td>\n",
       "            </tr>\n",
       "    </tbody></table>"
      ],
      "text/plain": [
       "<pandas.io.formats.style.Styler at 0x7f038d28af10>"
      ]
     },
     "metadata": {},
     "output_type": "display_data"
    },
    {
     "name": "stdout",
     "output_type": "stream",
     "text": [
      "Matriz de confusión:\n"
     ]
    },
    {
     "data": {
      "image/png": "[encoded data removed]",
      "text/plain": [
       "<Figure size 432x288 with 2 Axes>"
      ]
     },
     "metadata": {
      "needs_background": "light"
     },
     "output_type": "display_data"
    }
   ],
   "source": [
    "pipeline = utils.entrenar_y_realizar_prediccion_final_con_metricas(X, y, pipeline)"
   ]
  },
  {
   "cell_type": "markdown",
   "metadata": {},
   "source": [
    "Este ensamble logra la mejor métrica ROC-AUC entre todos los modelos, a pesar de ser bastante similar a las obtenidas mediante 1-ArbolDeDecision y 2-RandomForest. Con la diferencia en que es el modelo con mejor Recall, debido a que la tasa de Falsos Negativos esta 2 puntos por debajo del Arbol de Decision y 6 por debajo de Random Forest. Sin embargo, obtiene peores resultados en cuanto a los Falsos Positivos, por lo cual no obtiene mejor Precision que dichos modelos."
   ]
  },
  {
   "cell_type": "markdown",
   "metadata": {},
   "source": [
    "### Predicción HoldOut"
   ]
  },
  {
   "cell_type": "code",
   "execution_count": 20,
   "metadata": {},
   "outputs": [],
   "source": [
    "utils.predecir_holdout_y_generar_csv(pipeline, 'Predicciones/9-Ensambles.csv')"
   ]
  }
 ],
 "metadata": {
  "jupytext": {
   "encoding": "# -*- coding: utf-8 -*-",
   "formats": "ipynb,py:light"
  },
  "kernelspec": {
   "display_name": "Python 3",
   "language": "python",
   "name": "python3"
  },
  "language_info": {
   "codemirror_mode": {
    "name": "ipython",
    "version": 3
   },
   "file_extension": ".py",
   "mimetype": "text/x-python",
   "name": "python",
   "nbconvert_exporter": "python",
   "pygments_lexer": "ipython3",
   "version": "3.7.9"
  }
 },
 "nbformat": 4,
 "nbformat_minor": 4
}
