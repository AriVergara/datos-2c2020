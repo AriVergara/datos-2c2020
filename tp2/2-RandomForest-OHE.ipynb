{
 "cells": [
  {
   "cell_type": "code",
   "execution_count": 1,
   "id": "differential-indonesia",
   "metadata": {},
   "outputs": [],
   "source": [
    "import pandas as pd\n",
    "import preprocessing as pp\n",
    "import numpy as np\n",
    "from sklearn.ensemble import RandomForestClassifier\n",
    "pd.set_option('mode.chained_assignment', None)\n",
    "import warnings\n",
    "warnings.simplefilter(action='ignore', category=FutureWarning)\n",
    "from sklearn.pipeline import Pipeline\n",
    "from sklearn.base import BaseEstimator, TransformerMixin\n",
    "import utils as utils"
   ]
  },
  {
   "cell_type": "code",
   "execution_count": 2,
   "id": "fallen-croatia",
   "metadata": {},
   "outputs": [],
   "source": [
    "import random\n",
    "seed = 100\n",
    "np.random.seed(seed)\n",
    "random.seed(seed)"
   ]
  },
  {
   "cell_type": "code",
   "execution_count": 3,
   "id": "southeast-familiar",
   "metadata": {},
   "outputs": [],
   "source": [
    "X, y = utils.importar_datos()"
   ]
  },
  {
   "cell_type": "markdown",
   "id": "respective-distribution",
   "metadata": {},
   "source": [
    "### Métricas finales"
   ]
  },
  {
   "cell_type": "markdown",
   "id": "intimate-colors",
   "metadata": {},
   "source": [
    "Se eligió el Modelo 3 a partir de los valores obtenidos en Cross Validation (su roc_auc promedio es el mayor). "
   ]
  },
  {
   "cell_type": "code",
   "execution_count": 21,
   "id": "functioning-macedonia",
   "metadata": {},
   "outputs": [],
   "source": [
    "preprocessor = pp.PreprocessingOHE()\n",
    "model = RandomForestClassifier(random_state=pp.RANDOM_STATE, \n",
    "                               n_jobs=-1, \n",
    "                               max_depth=8, \n",
    "                               min_samples_leaf=1, \n",
    "                               min_samples_split=14, \n",
    "                               max_features=7)"
   ]
  },
  {
   "cell_type": "code",
   "execution_count": 22,
   "id": "decimal-piano",
   "metadata": {},
   "outputs": [],
   "source": [
    "pipeline = Pipeline([(\"preprocessor\", preprocessor), \n",
    "                     (\"model\", model)\n",
    "                     ])"
   ]
  },
  {
   "cell_type": "code",
   "execution_count": 23,
   "id": "confused-vermont",
   "metadata": {},
   "outputs": [
    {
     "data": {
      "text/html": [
       "<style  type=\"text/css\" >\n",
       "</style><table id=\"T_4234314c_7ed2_11eb_908e_8c85903cd26f\" ><thead>    <tr>        <th class=\"col_heading level0 col0\" >AUC_ROC</th>        <th class=\"col_heading level0 col1\" >Accuracy</th>        <th class=\"col_heading level0 col2\" >Precision</th>        <th class=\"col_heading level0 col3\" >Recall</th>        <th class=\"col_heading level0 col4\" >F1 Score</th>    </tr></thead><tbody>\n",
       "                <tr>\n",
       "                                <td id=\"T_4234314c_7ed2_11eb_908e_8c85903cd26frow0_col0\" class=\"data row0 col0\" >0.896232</td>\n",
       "                        <td id=\"T_4234314c_7ed2_11eb_908e_8c85903cd26frow0_col1\" class=\"data row0 col1\" >0.867769</td>\n",
       "                        <td id=\"T_4234314c_7ed2_11eb_908e_8c85903cd26frow0_col2\" class=\"data row0 col2\" >0.916667</td>\n",
       "                        <td id=\"T_4234314c_7ed2_11eb_908e_8c85903cd26frow0_col3\" class=\"data row0 col3\" >0.717391</td>\n",
       "                        <td id=\"T_4234314c_7ed2_11eb_908e_8c85903cd26frow0_col4\" class=\"data row0 col4\" >0.804878</td>\n",
       "            </tr>\n",
       "    </tbody></table>"
      ],
      "text/plain": [
       "<pandas.io.formats.style.Styler at 0x106336850>"
      ]
     },
     "metadata": {},
     "output_type": "display_data"
    },
    {
     "name": "stdout",
     "output_type": "stream",
     "text": [
      "Matriz de confusión:\n"
     ]
    },
    {
     "data": {
      "image/png": "[encoded data removed]",
      "text/plain": [
       "<Figure size 432x288 with 2 Axes>"
      ]
     },
     "metadata": {
      "needs_background": "light"
     },
     "output_type": "display_data"
    }
   ],
   "source": [
    "pipeline = utils.entrenar_y_realizar_prediccion_final_con_metricas(X, y, pipeline)"
   ]
  },
  {
   "cell_type": "markdown",
   "id": "expected-diamond",
   "metadata": {},
   "source": [
    "La métrica objetivo AUC-ROC tiene un resultado similar al obtenido por 1-ArbolDeDecision. Nuevamente no se logra un buen resultado de Recall y eso se debe a que de los casos verdaderamente positivos el modelo selecciona como negativos al 28% (un 4% por encima del Arbol de Decision), esa tasa de Falsos Negativos perjudica directamente al Recall (recordando que `Recall = TP / (TP + FN)`. Sin embargo, la tasa de Falsos Positivos es considerablemente más baja que la del modelo anterior, por lo que el resultado obtenido en Precision es mucho mejor (recordando que `Precision = TP / (TP + FP)`)."
   ]
  },
  {
   "cell_type": "markdown",
   "id": "composed-prayer",
   "metadata": {},
   "source": [
    "### Predicción HoldOut"
   ]
  },
  {
   "cell_type": "code",
   "execution_count": 24,
   "id": "welcome-crash",
   "metadata": {},
   "outputs": [],
   "source": [
    "utils.predecir_holdout_y_generar_csv(pipeline, 'Predicciones/2-RandomForest-OHE.csv')"
   ]
  },
  {
   "cell_type": "code",
   "execution_count": null,
   "id": "continued-sydney",
   "metadata": {},
   "outputs": [],
   "source": []
  }
 ],
 "metadata": {
  "jupytext": {
   "encoding": "# -*- coding: utf-8 -*-",
   "formats": "ipynb,py:light"
  },
  "kernelspec": {
   "display_name": "Python 3",
   "language": "python",
   "name": "python3"
  },
  "language_info": {
   "codemirror_mode": {
    "name": "ipython",
    "version": 3
   },
   "file_extension": ".py",
   "mimetype": "text/x-python",
   "name": "python",
   "nbconvert_exporter": "python",
   "pygments_lexer": "ipython3",
   "version": "3.8.2"
  }
 },
 "nbformat": 4,
 "nbformat_minor": 5
}
