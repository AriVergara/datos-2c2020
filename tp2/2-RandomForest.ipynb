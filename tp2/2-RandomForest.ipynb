{
 "cells": [
  {
   "cell_type": "code",
   "execution_count": 1,
   "metadata": {},
   "outputs": [],
   "source": [
    "import pandas as pd\n",
    "import preprocessing as pp\n",
    "import numpy as np\n",
    "from sklearn.ensemble import RandomForestClassifier\n",
    "pd.set_option('mode.chained_assignment', None)\n",
    "import warnings\n",
    "warnings.simplefilter(action='ignore', category=FutureWarning)\n",
    "from sklearn.pipeline import Pipeline\n",
    "from sklearn.base import BaseEstimator, TransformerMixin\n",
    "import utils as utils"
   ]
  },
  {
   "cell_type": "code",
   "execution_count": 2,
   "metadata": {},
   "outputs": [],
   "source": [
    "import random\n",
    "seed = 100\n",
    "np.random.seed(seed)\n",
    "random.seed(seed)"
   ]
  },
  {
   "cell_type": "code",
   "execution_count": 3,
   "metadata": {},
   "outputs": [],
   "source": [
    "X, y = utils.importar_datos()"
   ]
  },
  {
   "cell_type": "markdown",
   "metadata": {},
   "source": [
    "### Modelo 1"
   ]
  },
  {
   "cell_type": "markdown",
   "metadata": {},
   "source": [
    "- Preprocesamiento con LaberEncoding\n",
    "- Hiperparametros por defecto"
   ]
  },
  {
   "cell_type": "code",
   "execution_count": 4,
   "metadata": {},
   "outputs": [],
   "source": [
    "preprocessor = pp.PreprocessingLE()\n",
    "model = RandomForestClassifier(random_state=pp.RANDOM_STATE, n_jobs=-1)"
   ]
  },
  {
   "cell_type": "code",
   "execution_count": 5,
   "metadata": {},
   "outputs": [],
   "source": [
    "pipeline = Pipeline([(\"preprocessor\", preprocessor), \n",
    "                     (\"model\", model)\n",
    "                     ])"
   ]
  },
  {
   "cell_type": "markdown",
   "metadata": {},
   "source": [
    "#### Metricas"
   ]
  },
  {
   "cell_type": "code",
   "execution_count": 6,
   "metadata": {},
   "outputs": [
    {
     "data": {
      "text/html": [
       "<div>\n",
       "<style scoped>\n",
       "    .dataframe tbody tr th:only-of-type {\n",
       "        vertical-align: middle;\n",
       "    }\n",
       "\n",
       "    .dataframe tbody tr th {\n",
       "        vertical-align: top;\n",
       "    }\n",
       "\n",
       "    .dataframe thead th {\n",
       "        text-align: right;\n",
       "    }\n",
       "</style>\n",
       "<table border=\"1\" class=\"dataframe\">\n",
       "  <thead>\n",
       "    <tr style=\"text-align: right;\">\n",
       "      <th></th>\n",
       "      <th>Mean</th>\n",
       "      <th>Std</th>\n",
       "      <th>Oof</th>\n",
       "      <th>Max</th>\n",
       "      <th>Min</th>\n",
       "    </tr>\n",
       "  </thead>\n",
       "  <tbody>\n",
       "    <tr>\n",
       "      <th>roc auc</th>\n",
       "      <td>0.851610</td>\n",
       "      <td>0.022192</td>\n",
       "      <td>0.849319</td>\n",
       "      <td>0.904711</td>\n",
       "      <td>0.826398</td>\n",
       "    </tr>\n",
       "    <tr>\n",
       "      <th>accuracy</th>\n",
       "      <td>0.810272</td>\n",
       "      <td>0.039169</td>\n",
       "      <td>0.810237</td>\n",
       "      <td>0.870000</td>\n",
       "      <td>0.750000</td>\n",
       "    </tr>\n",
       "    <tr>\n",
       "      <th>precision</th>\n",
       "      <td>0.784811</td>\n",
       "      <td>0.065890</td>\n",
       "      <td>0.781818</td>\n",
       "      <td>0.903226</td>\n",
       "      <td>0.675676</td>\n",
       "    </tr>\n",
       "    <tr>\n",
       "      <th>recall</th>\n",
       "      <td>0.700658</td>\n",
       "      <td>0.042847</td>\n",
       "      <td>0.700326</td>\n",
       "      <td>0.763158</td>\n",
       "      <td>0.657895</td>\n",
       "    </tr>\n",
       "    <tr>\n",
       "      <th>f1 score</th>\n",
       "      <td>0.739710</td>\n",
       "      <td>0.049099</td>\n",
       "      <td>0.738832</td>\n",
       "      <td>0.811594</td>\n",
       "      <td>0.666667</td>\n",
       "    </tr>\n",
       "  </tbody>\n",
       "</table>\n",
       "</div>"
      ],
      "text/plain": [
       "               Mean       Std       Oof       Max       Min\n",
       "roc auc    0.851610  0.022192  0.849319  0.904711  0.826398\n",
       "accuracy   0.810272  0.039169  0.810237  0.870000  0.750000\n",
       "precision  0.784811  0.065890  0.781818  0.903226  0.675676\n",
       "recall     0.700658  0.042847  0.700326  0.763158  0.657895\n",
       "f1 score   0.739710  0.049099  0.738832  0.811594  0.666667"
      ]
     },
     "metadata": {},
     "output_type": "display_data"
    }
   ],
   "source": [
    "utils.metricas_cross_validation(X, y, pipeline)"
   ]
  },
  {
   "cell_type": "markdown",
   "metadata": {},
   "source": [
    "### Modelo 2"
   ]
  },
  {
   "cell_type": "markdown",
   "metadata": {},
   "source": [
    "- Preprocesamiento con OneHotEncoding\n",
    "- Hiperparametros por defecto"
   ]
  },
  {
   "cell_type": "code",
   "execution_count": 7,
   "metadata": {},
   "outputs": [],
   "source": [
    "preprocessor = pp.PreprocessingOHE()\n",
    "model = RandomForestClassifier(random_state=pp.RANDOM_STATE, n_jobs=-1)"
   ]
  },
  {
   "cell_type": "code",
   "execution_count": 8,
   "metadata": {},
   "outputs": [],
   "source": [
    "pipeline = Pipeline([(\"preprocessor\", preprocessor), \n",
    "                     (\"model\", model)\n",
    "                     ])"
   ]
  },
  {
   "cell_type": "markdown",
   "metadata": {},
   "source": [
    "#### Metricas"
   ]
  },
  {
   "cell_type": "code",
   "execution_count": 9,
   "metadata": {},
   "outputs": [
    {
     "data": {
      "text/html": [
       "<div>\n",
       "<style scoped>\n",
       "    .dataframe tbody tr th:only-of-type {\n",
       "        vertical-align: middle;\n",
       "    }\n",
       "\n",
       "    .dataframe tbody tr th {\n",
       "        vertical-align: top;\n",
       "    }\n",
       "\n",
       "    .dataframe thead th {\n",
       "        text-align: right;\n",
       "    }\n",
       "</style>\n",
       "<table border=\"1\" class=\"dataframe\">\n",
       "  <thead>\n",
       "    <tr style=\"text-align: right;\">\n",
       "      <th></th>\n",
       "      <th>Mean</th>\n",
       "      <th>Std</th>\n",
       "      <th>Oof</th>\n",
       "      <th>Max</th>\n",
       "      <th>Min</th>\n",
       "    </tr>\n",
       "  </thead>\n",
       "  <tbody>\n",
       "    <tr>\n",
       "      <th>roc auc</th>\n",
       "      <td>0.847481</td>\n",
       "      <td>0.034986</td>\n",
       "      <td>0.846760</td>\n",
       "      <td>0.917657</td>\n",
       "      <td>0.809211</td>\n",
       "    </tr>\n",
       "    <tr>\n",
       "      <th>accuracy</th>\n",
       "      <td>0.797760</td>\n",
       "      <td>0.028113</td>\n",
       "      <td>0.797753</td>\n",
       "      <td>0.830000</td>\n",
       "      <td>0.750000</td>\n",
       "    </tr>\n",
       "    <tr>\n",
       "      <th>precision</th>\n",
       "      <td>0.754920</td>\n",
       "      <td>0.051409</td>\n",
       "      <td>0.750865</td>\n",
       "      <td>0.838710</td>\n",
       "      <td>0.666667</td>\n",
       "    </tr>\n",
       "    <tr>\n",
       "      <th>recall</th>\n",
       "      <td>0.707068</td>\n",
       "      <td>0.045003</td>\n",
       "      <td>0.706840</td>\n",
       "      <td>0.789474</td>\n",
       "      <td>0.641026</td>\n",
       "    </tr>\n",
       "    <tr>\n",
       "      <th>f1 score</th>\n",
       "      <td>0.728468</td>\n",
       "      <td>0.032358</td>\n",
       "      <td>0.728188</td>\n",
       "      <td>0.779221</td>\n",
       "      <td>0.684211</td>\n",
       "    </tr>\n",
       "  </tbody>\n",
       "</table>\n",
       "</div>"
      ],
      "text/plain": [
       "               Mean       Std       Oof       Max       Min\n",
       "roc auc    0.847481  0.034986  0.846760  0.917657  0.809211\n",
       "accuracy   0.797760  0.028113  0.797753  0.830000  0.750000\n",
       "precision  0.754920  0.051409  0.750865  0.838710  0.666667\n",
       "recall     0.707068  0.045003  0.706840  0.789474  0.641026\n",
       "f1 score   0.728468  0.032358  0.728188  0.779221  0.684211"
      ]
     },
     "metadata": {},
     "output_type": "display_data"
    }
   ],
   "source": [
    "utils.metricas_cross_validation(X, y, pipeline)"
   ]
  },
  {
   "cell_type": "markdown",
   "metadata": {},
   "source": [
    "### Modelo 3 "
   ]
  },
  {
   "cell_type": "markdown",
   "metadata": {},
   "source": [
    "- Preprocesamiento con LabelEncoder\n",
    "- Estimación de Hiperparametros con GridSearchCV"
   ]
  },
  {
   "cell_type": "code",
   "execution_count": 10,
   "metadata": {},
   "outputs": [],
   "source": [
    "preprocessor = pp.PreprocessingLE()\n",
    "model = RandomForestClassifier(random_state=pp.RANDOM_STATE, n_jobs=-1)"
   ]
  },
  {
   "cell_type": "code",
   "execution_count": 11,
   "metadata": {},
   "outputs": [],
   "source": [
    "pipeline = Pipeline([(\"preprocessor\", preprocessor), \n",
    "                     (\"model\", model)\n",
    "                     ])"
   ]
  },
  {
   "cell_type": "code",
   "execution_count": 35,
   "metadata": {},
   "outputs": [],
   "source": [
    "from sklearn.model_selection import GridSearchCV\n",
    "params = {'model__max_depth': [10, 20, 50, None], 'model__min_samples_leaf': [1, 5, 10, 15, 20],\n",
    "         \"model__n_estimators\": [50, 100, 400], \"model__min_samples_split\": [2, 5, 10, 15], \n",
    "          \"model__criterion\": [\"gini\", \"entropy\"], \"model__max_features\": [\"auto\", \"log2\", 7, 2]}\n",
    "\n",
    "cv = utils.kfold_for_cross_validation()\n",
    "#gscv = GridSearchCV(\n",
    "#    pipeline, params, scoring='roc_auc', n_jobs=-1, cv=cv, return_train_score=True, refit=True\n",
    "#).fit(X, y)"
   ]
  },
  {
   "cell_type": "code",
   "execution_count": 13,
   "metadata": {},
   "outputs": [
    {
     "data": {
      "text/plain": [
       "{'model__criterion': 'entropy',\n",
       " 'model__max_depth': 10,\n",
       " 'model__max_features': 7,\n",
       " 'model__min_samples_leaf': 1,\n",
       " 'model__min_samples_split': 15,\n",
       " 'model__n_estimators': 100}"
      ]
     },
     "execution_count": 13,
     "metadata": {},
     "output_type": "execute_result"
    }
   ],
   "source": [
    "#gscv.best_params_"
   ]
  },
  {
   "cell_type": "code",
   "execution_count": 14,
   "metadata": {},
   "outputs": [
    {
     "data": {
      "text/plain": [
       "0.8673002635718166"
      ]
     },
     "execution_count": 14,
     "metadata": {},
     "output_type": "execute_result"
    }
   ],
   "source": [
    "#gscv.best_score_"
   ]
  },
  {
   "cell_type": "code",
   "execution_count": 15,
   "metadata": {},
   "outputs": [],
   "source": [
    "from sklearn.model_selection import GridSearchCV\n",
    "params = {'model__max_depth': np.arange(5,15), 'model__min_samples_leaf': np.arange(1,5),\n",
    "         \"model__n_estimators\": [75, 100, 125], \"model__min_samples_split\": np.arange(12, 25)}\n",
    "\n",
    "cv = utils.kfold_for_cross_validation()\n",
    "#gscv = GridSearchCV(\n",
    "#    pipeline, params, scoring='roc_auc', n_jobs=-1, cv=cv, return_train_score=True, refit=True\n",
    "#).fit(X, y)"
   ]
  },
  {
   "cell_type": "code",
   "execution_count": 16,
   "metadata": {},
   "outputs": [
    {
     "data": {
      "text/plain": [
       "{'model__max_depth': 8,\n",
       " 'model__min_samples_leaf': 1,\n",
       " 'model__min_samples_split': 14,\n",
       " 'model__n_estimators': 100}"
      ]
     },
     "execution_count": 16,
     "metadata": {},
     "output_type": "execute_result"
    }
   ],
   "source": [
    "#gscv.best_params_"
   ]
  },
  {
   "cell_type": "code",
   "execution_count": 17,
   "metadata": {},
   "outputs": [
    {
     "data": {
      "text/plain": [
       "0.8680922680664359"
      ]
     },
     "execution_count": 17,
     "metadata": {},
     "output_type": "execute_result"
    }
   ],
   "source": [
    "#gscv.best_score_"
   ]
  },
  {
   "cell_type": "code",
   "execution_count": 29,
   "metadata": {},
   "outputs": [],
   "source": [
    "preprocessor = pp.PreprocessingLE()\n",
    "model = RandomForestClassifier(random_state=pp.RANDOM_STATE, \n",
    "                               n_jobs=-1, \n",
    "                               max_depth=8, \n",
    "                               min_samples_leaf=1, \n",
    "                               min_samples_split=14, \n",
    "                               max_features=7)"
   ]
  },
  {
   "cell_type": "code",
   "execution_count": 30,
   "metadata": {},
   "outputs": [],
   "source": [
    "pipeline = Pipeline([(\"preprocessor\", preprocessor), \n",
    "                     (\"model\", model)\n",
    "                     ])"
   ]
  },
  {
   "cell_type": "code",
   "execution_count": 31,
   "metadata": {},
   "outputs": [
    {
     "data": {
      "text/html": [
       "<div>\n",
       "<style scoped>\n",
       "    .dataframe tbody tr th:only-of-type {\n",
       "        vertical-align: middle;\n",
       "    }\n",
       "\n",
       "    .dataframe tbody tr th {\n",
       "        vertical-align: top;\n",
       "    }\n",
       "\n",
       "    .dataframe thead th {\n",
       "        text-align: right;\n",
       "    }\n",
       "</style>\n",
       "<table border=\"1\" class=\"dataframe\">\n",
       "  <thead>\n",
       "    <tr style=\"text-align: right;\">\n",
       "      <th></th>\n",
       "      <th>Mean</th>\n",
       "      <th>Std</th>\n",
       "      <th>Oof</th>\n",
       "      <th>Max</th>\n",
       "      <th>Min</th>\n",
       "    </tr>\n",
       "  </thead>\n",
       "  <tbody>\n",
       "    <tr>\n",
       "      <th>roc auc</th>\n",
       "      <td>0.865531</td>\n",
       "      <td>0.030371</td>\n",
       "      <td>0.861547</td>\n",
       "      <td>0.907258</td>\n",
       "      <td>0.822581</td>\n",
       "    </tr>\n",
       "    <tr>\n",
       "      <th>accuracy</th>\n",
       "      <td>0.825210</td>\n",
       "      <td>0.022965</td>\n",
       "      <td>0.825218</td>\n",
       "      <td>0.860000</td>\n",
       "      <td>0.780000</td>\n",
       "    </tr>\n",
       "    <tr>\n",
       "      <th>precision</th>\n",
       "      <td>0.820462</td>\n",
       "      <td>0.045728</td>\n",
       "      <td>0.817490</td>\n",
       "      <td>0.900000</td>\n",
       "      <td>0.729730</td>\n",
       "    </tr>\n",
       "    <tr>\n",
       "      <th>recall</th>\n",
       "      <td>0.700405</td>\n",
       "      <td>0.033351</td>\n",
       "      <td>0.700326</td>\n",
       "      <td>0.743590</td>\n",
       "      <td>0.641026</td>\n",
       "    </tr>\n",
       "    <tr>\n",
       "      <th>f1 score</th>\n",
       "      <td>0.754680</td>\n",
       "      <td>0.027744</td>\n",
       "      <td>0.754386</td>\n",
       "      <td>0.794118</td>\n",
       "      <td>0.710526</td>\n",
       "    </tr>\n",
       "  </tbody>\n",
       "</table>\n",
       "</div>"
      ],
      "text/plain": [
       "               Mean       Std       Oof       Max       Min\n",
       "roc auc    0.865531  0.030371  0.861547  0.907258  0.822581\n",
       "accuracy   0.825210  0.022965  0.825218  0.860000  0.780000\n",
       "precision  0.820462  0.045728  0.817490  0.900000  0.729730\n",
       "recall     0.700405  0.033351  0.700326  0.743590  0.641026\n",
       "f1 score   0.754680  0.027744  0.754386  0.794118  0.710526"
      ]
     },
     "metadata": {},
     "output_type": "display_data"
    }
   ],
   "source": [
    "utils.metricas_cross_validation(X, y, pipeline)"
   ]
  },
  {
   "cell_type": "markdown",
   "metadata": {},
   "source": [
    "### Métricas finales"
   ]
  },
  {
   "cell_type": "markdown",
   "metadata": {},
   "source": [
    "Se eligió el Modelo 3 a partir de los valores obtenidos en Cross Validation (su roc_auc promedio es el mayor). "
   ]
  },
  {
   "cell_type": "code",
   "execution_count": 32,
   "metadata": {},
   "outputs": [],
   "source": [
    "preprocessor = pp.PreprocessingLE()\n",
    "model = RandomForestClassifier(random_state=pp.RANDOM_STATE, \n",
    "                               n_jobs=-1, \n",
    "                               max_depth=8, \n",
    "                               min_samples_leaf=1, \n",
    "                               min_samples_split=14, \n",
    "                               max_features=7)"
   ]
  },
  {
   "cell_type": "code",
   "execution_count": 33,
   "metadata": {},
   "outputs": [],
   "source": [
    "pipeline = Pipeline([(\"preprocessor\", preprocessor), \n",
    "                     (\"model\", model)\n",
    "                     ])"
   ]
  },
  {
   "cell_type": "code",
   "execution_count": 34,
   "metadata": {},
   "outputs": [
    {
     "data": {
      "text/html": [
       "<style  type=\"text/css\" >\n",
       "</style><table id=\"T_3c2e99ee_7096_11eb_8c0b_198804c1d932\" ><thead>    <tr>        <th class=\"col_heading level0 col0\" >AUC_ROC</th>        <th class=\"col_heading level0 col1\" >Accuracy</th>        <th class=\"col_heading level0 col2\" >Precision</th>        <th class=\"col_heading level0 col3\" >Recall</th>        <th class=\"col_heading level0 col4\" >F1 Score</th>    </tr></thead><tbody>\n",
       "                <tr>\n",
       "                                <td id=\"T_3c2e99ee_7096_11eb_8c0b_198804c1d932row0_col0\" class=\"data row0 col0\" >0.908986</td>\n",
       "                        <td id=\"T_3c2e99ee_7096_11eb_8c0b_198804c1d932row0_col1\" class=\"data row0 col1\" >0.876033</td>\n",
       "                        <td id=\"T_3c2e99ee_7096_11eb_8c0b_198804c1d932row0_col2\" class=\"data row0 col2\" >0.942857</td>\n",
       "                        <td id=\"T_3c2e99ee_7096_11eb_8c0b_198804c1d932row0_col3\" class=\"data row0 col3\" >0.717391</td>\n",
       "                        <td id=\"T_3c2e99ee_7096_11eb_8c0b_198804c1d932row0_col4\" class=\"data row0 col4\" >0.814815</td>\n",
       "            </tr>\n",
       "    </tbody></table>"
      ],
      "text/plain": [
       "<pandas.io.formats.style.Styler at 0x7fc195031e50>"
      ]
     },
     "metadata": {},
     "output_type": "display_data"
    },
    {
     "name": "stdout",
     "output_type": "stream",
     "text": [
      "Matriz de confusión:\n"
     ]
    },
    {
     "data": {
      "image/png": "[encoded data removed]",
      "text/plain": [
       "<Figure size 432x288 with 2 Axes>"
      ]
     },
     "metadata": {
      "needs_background": "light"
     },
     "output_type": "display_data"
    }
   ],
   "source": [
    "pipeline = utils.entrenar_y_realizar_prediccion_final_con_metricas(X, y, pipeline)"
   ]
  },
  {
   "cell_type": "markdown",
   "metadata": {},
   "source": [
    "La métrica objetivo AUC-ROC tiene un resultado similar al obtenido por 1-ArbolDeDecision. Nuevamente no se logra un buen resultado de Recall y eso se debe a que de los casos verdaderamente positivos el modelo selecciona como negativos al 28% (un 4% por encima del Arbol de Decision), esa tasa de Falsos Negativos perjudica directamente al Recall (recordando que `Recall = TP / (TP + FN)`. Sin embargo, la tasa de Falsos Positivos es considerablemente mas baja que la del modelo anterior, por lo que el resultado obtenido en Precision es mucho mejor (recordando que `Precision = TP / (TP + FP)`)."
   ]
  },
  {
   "cell_type": "markdown",
   "metadata": {},
   "source": [
    "### Predicción HoldOut"
   ]
  },
  {
   "cell_type": "code",
   "execution_count": 24,
   "metadata": {},
   "outputs": [],
   "source": [
    "utils.predecir_holdout_y_generar_csv(pipeline, 'Predicciones/2-RandomForest.csv')"
   ]
  }
 ],
 "metadata": {
  "jupytext": {
   "encoding": "# -*- coding: utf-8 -*-",
   "formats": "ipynb,py:light"
  },
  "kernelspec": {
   "display_name": "Python 3",
   "language": "python",
   "name": "python3"
  },
  "language_info": {
   "codemirror_mode": {
    "name": "ipython",
    "version": 3
   },
   "file_extension": ".py",
   "mimetype": "text/x-python",
   "name": "python",
   "nbconvert_exporter": "python",
   "pygments_lexer": "ipython3",
   "version": "3.8.2"
  }
 },
 "nbformat": 4,
 "nbformat_minor": 4
}
