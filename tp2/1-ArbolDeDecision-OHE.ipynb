{
 "cells": [
  {
   "cell_type": "code",
   "execution_count": 4,
   "id": "nearby-cradle",
   "metadata": {},
   "outputs": [],
   "source": [
    "import pandas as pd\n",
    "import preprocessing as pp\n",
    "import utils as utils\n",
    "from sklearn import tree\n",
    "import numpy as np\n",
    "pd.set_option('mode.chained_assignment', None)\n",
    "import warnings\n",
    "warnings.simplefilter(action='ignore', category=FutureWarning)\n",
    "from sklearn.pipeline import Pipeline\n",
    "from sklearn.base import BaseEstimator, TransformerMixin"
   ]
  },
  {
   "cell_type": "code",
   "execution_count": 5,
   "id": "drawn-player",
   "metadata": {},
   "outputs": [],
   "source": [
    "import random\n",
    "seed = 100\n",
    "np.random.seed(seed)\n",
    "random.seed(seed)"
   ]
  },
  {
   "cell_type": "code",
   "execution_count": 6,
   "id": "ultimate-injection",
   "metadata": {},
   "outputs": [],
   "source": [
    "X, y = utils.importar_datos()"
   ]
  },
  {
   "cell_type": "markdown",
   "id": "living-appraisal",
   "metadata": {},
   "source": [
    "### Metricas finales"
   ]
  },
  {
   "cell_type": "markdown",
   "id": "armed-terrorism",
   "metadata": {},
   "source": [
    "Se eligió el [Modelo 3](#Modelo-3) en base a los resultados obtenidos mediante `cross_validation`."
   ]
  },
  {
   "cell_type": "code",
   "execution_count": 20,
   "id": "equipped-minute",
   "metadata": {},
   "outputs": [],
   "source": [
    "preprocessor = pp.PreprocessingOHE()\n",
    "model = tree.DecisionTreeClassifier(random_state=pp.RANDOM_STATE, \n",
    "                               max_depth=13, \n",
    "                               min_samples_leaf=6, min_samples_split=2,max_features=6)"
   ]
  },
  {
   "cell_type": "code",
   "execution_count": 21,
   "id": "collective-screw",
   "metadata": {},
   "outputs": [],
   "source": [
    "pipeline = Pipeline([(\"preprocessor\", preprocessor), \n",
    "                     (\"model\", model)\n",
    "                     ])"
   ]
  },
  {
   "cell_type": "code",
   "execution_count": 22,
   "id": "confused-tutorial",
   "metadata": {},
   "outputs": [
    {
     "data": {
      "text/html": [
       "<style  type=\"text/css\" >\n",
       "</style><table id=\"T_06a5bd8a_7ed2_11eb_8e2a_8c85903cd26f\" ><thead>    <tr>        <th class=\"col_heading level0 col0\" >AUC_ROC</th>        <th class=\"col_heading level0 col1\" >Accuracy</th>        <th class=\"col_heading level0 col2\" >Precision</th>        <th class=\"col_heading level0 col3\" >Recall</th>        <th class=\"col_heading level0 col4\" >F1 Score</th>    </tr></thead><tbody>\n",
       "                <tr>\n",
       "                                <td id=\"T_06a5bd8a_7ed2_11eb_8e2a_8c85903cd26frow0_col0\" class=\"data row0 col0\" >0.875652</td>\n",
       "                        <td id=\"T_06a5bd8a_7ed2_11eb_8e2a_8c85903cd26frow0_col1\" class=\"data row0 col1\" >0.851240</td>\n",
       "                        <td id=\"T_06a5bd8a_7ed2_11eb_8e2a_8c85903cd26frow0_col2\" class=\"data row0 col2\" >0.833333</td>\n",
       "                        <td id=\"T_06a5bd8a_7ed2_11eb_8e2a_8c85903cd26frow0_col3\" class=\"data row0 col3\" >0.760870</td>\n",
       "                        <td id=\"T_06a5bd8a_7ed2_11eb_8e2a_8c85903cd26frow0_col4\" class=\"data row0 col4\" >0.795455</td>\n",
       "            </tr>\n",
       "    </tbody></table>"
      ],
      "text/plain": [
       "<pandas.io.formats.style.Styler at 0x12e99b670>"
      ]
     },
     "metadata": {},
     "output_type": "display_data"
    },
    {
     "name": "stdout",
     "output_type": "stream",
     "text": [
      "Matriz de confusión:\n"
     ]
    },
    {
     "data": {
      "image/png": "[encoded data removed]",
      "text/plain": [
       "<Figure size 432x288 with 2 Axes>"
      ]
     },
     "metadata": {
      "needs_background": "light"
     },
     "output_type": "display_data"
    }
   ],
   "source": [
    "pipeline = utils.entrenar_y_realizar_prediccion_final_con_metricas(X, y, pipeline)"
   ]
  },
  {
   "cell_type": "markdown",
   "id": "stunning-discount",
   "metadata": {},
   "source": [
    "Como puede verse, la métrica objetivo AUC-ROC tiene un buen resultado en este modelo. Lo que no se logra es un buen resultado de Recall y eso puede verse también en la matriz de confusión: De los casos verdaderamente positivos el modelo selecciona como negativos al 24%, esa tasa de Falsos Negativos perjudica el resultado de todas las métricas, pero principalmente al Recall (recordando que `Recall = TP / (TP + FN)`)."
   ]
  },
  {
   "cell_type": "markdown",
   "id": "guilty-cuisine",
   "metadata": {},
   "source": [
    "### Predicción HoldOut"
   ]
  },
  {
   "cell_type": "code",
   "execution_count": 23,
   "id": "white-moment",
   "metadata": {},
   "outputs": [],
   "source": [
    "utils.predecir_holdout_y_generar_csv(pipeline, 'Predicciones/1-ArbolDeDecision-OHE.csv')"
   ]
  },
  {
   "cell_type": "code",
   "execution_count": null,
   "id": "requested-reminder",
   "metadata": {},
   "outputs": [],
   "source": []
  }
 ],
 "metadata": {
  "jupytext": {
   "encoding": "# -*- coding: utf-8 -*-",
   "formats": "ipynb,py:light"
  },
  "kernelspec": {
   "display_name": "Python 3",
   "language": "python",
   "name": "python3"
  },
  "language_info": {
   "codemirror_mode": {
    "name": "ipython",
    "version": 3
   },
   "file_extension": ".py",
   "mimetype": "text/x-python",
   "name": "python",
   "nbconvert_exporter": "python",
   "pygments_lexer": "ipython3",
   "version": "3.8.2"
  }
 },
 "nbformat": 4,
 "nbformat_minor": 5
}
