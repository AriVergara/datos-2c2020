{
 "cells": [
  {
   "cell_type": "code",
   "execution_count": 6,
   "id": "dietary-pittsburgh",
   "metadata": {},
   "outputs": [],
   "source": [
    "import pandas as pd\n",
    "import preprocessing as pp\n",
    "import utils as utils\n",
    "import numpy as np\n",
    "from sklearn.naive_bayes import CategoricalNB, GaussianNB\n",
    "pd.set_option('mode.chained_assignment', None)\n",
    "import warnings\n",
    "warnings.simplefilter(action='ignore', category=FutureWarning)\n",
    "from sklearn.pipeline import Pipeline\n",
    "from sklearn.ensemble import StackingClassifier"
   ]
  },
  {
   "cell_type": "code",
   "execution_count": 7,
   "id": "efficient-milwaukee",
   "metadata": {},
   "outputs": [],
   "source": [
    "import random\n",
    "seed = 100\n",
    "np.random.seed(seed)\n",
    "random.seed(seed)"
   ]
  },
  {
   "cell_type": "code",
   "execution_count": 8,
   "id": "ignored-retrieval",
   "metadata": {},
   "outputs": [],
   "source": [
    "X, y = utils.importar_datos()"
   ]
  },
  {
   "cell_type": "markdown",
   "id": "spiritual-delivery",
   "metadata": {},
   "source": [
    "### Métricas finales"
   ]
  },
  {
   "cell_type": "markdown",
   "id": "acceptable-raise",
   "metadata": {},
   "source": [
    "Se eligió el modelo que utiliza un ensamble de Stacking dado que, si bien el CV dió un poco peor que en el primer modelo del notebook, la diferencia es despreciable. Además al ser un ensamble, el algoritmo puede generalizar mejor."
   ]
  },
  {
   "cell_type": "code",
   "execution_count": 9,
   "id": "subsequent-latino",
   "metadata": {},
   "outputs": [],
   "source": [
    "pipeline_gaussian = Pipeline([(\"preprocessor\", pp.PreprocessingGaussianNB1()), \n",
    "                              (\"model\", GaussianNB(var_smoothing=0.01))\n",
    "                     ])\n",
    "pipeline_categorical = Pipeline([(\"preprocessor\", pp.PreprocessingCategoricalNB3()), \n",
    "                              (\"model\", CategoricalNB(alpha=2))\n",
    "                     ])\n",
    "estimadores = [('categorical_nb', pipeline_categorical), ('gaussian_nb', pipeline_gaussian)]\n",
    "cv = utils.kfold_for_cross_validation()\n",
    "\n",
    "stacked_naive_bayes = StackingClassifier(estimators=estimadores, final_estimator=GaussianNB(), stack_method=\"predict_proba\", cv=cv)"
   ]
  },
  {
   "cell_type": "code",
   "execution_count": 10,
   "id": "fluid-corner",
   "metadata": {},
   "outputs": [
    {
     "data": {
      "text/html": [
       "<style  type=\"text/css\" >\n",
       "</style><table id=\"T_52125cd4_7ed6_11eb_a00e_8c85903cd26f\" ><thead>    <tr>        <th class=\"col_heading level0 col0\" >AUC_ROC</th>        <th class=\"col_heading level0 col1\" >Accuracy</th>        <th class=\"col_heading level0 col2\" >Precision</th>        <th class=\"col_heading level0 col3\" >Recall</th>        <th class=\"col_heading level0 col4\" >F1 Score</th>    </tr></thead><tbody>\n",
       "                <tr>\n",
       "                                <td id=\"T_52125cd4_7ed6_11eb_a00e_8c85903cd26frow0_col0\" class=\"data row0 col0\" >0.880870</td>\n",
       "                        <td id=\"T_52125cd4_7ed6_11eb_a00e_8c85903cd26frow0_col1\" class=\"data row0 col1\" >0.809917</td>\n",
       "                        <td id=\"T_52125cd4_7ed6_11eb_a00e_8c85903cd26frow0_col2\" class=\"data row0 col2\" >0.870968</td>\n",
       "                        <td id=\"T_52125cd4_7ed6_11eb_a00e_8c85903cd26frow0_col3\" class=\"data row0 col3\" >0.586957</td>\n",
       "                        <td id=\"T_52125cd4_7ed6_11eb_a00e_8c85903cd26frow0_col4\" class=\"data row0 col4\" >0.701299</td>\n",
       "            </tr>\n",
       "    </tbody></table>"
      ],
      "text/plain": [
       "<pandas.io.formats.style.Styler at 0x1103c1a30>"
      ]
     },
     "metadata": {},
     "output_type": "display_data"
    },
    {
     "name": "stdout",
     "output_type": "stream",
     "text": [
      "Matriz de confusión:\n"
     ]
    },
    {
     "data": {
      "image/png": "[encoded data removed]",
      "text/plain": [
       "<Figure size 432x288 with 2 Axes>"
      ]
     },
     "metadata": {
      "needs_background": "light"
     },
     "output_type": "display_data"
    }
   ],
   "source": [
    "stacked_naive_bayes = utils.entrenar_y_realizar_prediccion_final_con_metricas(X, y, stacked_naive_bayes)"
   ]
  },
  {
   "cell_type": "markdown",
   "id": "technical-locking",
   "metadata": {},
   "source": [
    "La métrica objetivo AUC-ROC es mejor por la obtenida por el modelo de NaiveBayes que utiliza LabelEncoder. Sin embargo, la tasa de Falsos Negativos supera por 6 puntos a la de dicho modelo, por eso es muy bajo el resultado de Recall."
   ]
  },
  {
   "cell_type": "markdown",
   "id": "behavioral-machine",
   "metadata": {},
   "source": [
    "### Predicción HoldOut"
   ]
  },
  {
   "cell_type": "code",
   "execution_count": null,
   "id": "stupid-decline",
   "metadata": {},
   "outputs": [],
   "source": [
    "utils.predecir_holdout_y_generar_csv(stacked_naive_bayes, 'Predicciones/3-NaiveBayes-OHE.csv')"
   ]
  }
 ],
 "metadata": {
  "jupytext": {
   "encoding": "# -*- coding: utf-8 -*-",
   "formats": "ipynb,py:light"
  },
  "kernelspec": {
   "display_name": "Python 3",
   "language": "python",
   "name": "python3"
  },
  "language_info": {
   "codemirror_mode": {
    "name": "ipython",
    "version": 3
   },
   "file_extension": ".py",
   "mimetype": "text/x-python",
   "name": "python",
   "nbconvert_exporter": "python",
   "pygments_lexer": "ipython3",
   "version": "3.8.2"
  }
 },
 "nbformat": 4,
 "nbformat_minor": 5
}
